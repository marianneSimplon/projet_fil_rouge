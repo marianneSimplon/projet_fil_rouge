{
 "cells": [
  {
   "cell_type": "code",
   "execution_count": 1,
   "id": "63235f3f",
   "metadata": {},
   "outputs": [],
   "source": [
    "import pandas as pd\n",
    "import numpy as np\n",
    "\n",
    "from sklearn.linear_model import LinearRegression\n",
    "from sklearn.metrics import mean_squared_error\n",
    "from sklearn.metrics import mean_absolute_error\n",
    "from sklearn.metrics import mean_squared_log_error\n",
    "from sklearn.inspection import permutation_importance\n"
   ]
  },
  {
   "cell_type": "markdown",
   "id": "e3d50b81",
   "metadata": {},
   "source": [
    "# Dummy Model !!!!"
   ]
  },
  {
   "cell_type": "code",
   "execution_count": 2,
   "id": "4ab008f8",
   "metadata": {},
   "outputs": [],
   "source": [
    "#Définition d'une fonction de définition de X_train, y_train, X_test, y_test\n",
    "def defDfTrainTest(numberIteration):\n",
    "    global immoSV_train \n",
    "    immoSV_train = pd.read_csv(f'.\\data\\{numberIteration}it\\{numberIteration}_immoSV_train.csv',delimiter=',', decimal='.')\n",
    "    global immoSV_test\n",
    "    immoSV_test = pd.read_csv(f'.\\data\\{numberIteration}it\\{numberIteration}_immoSV_test.csv',delimiter=',', decimal='.')"
   ]
  },
  {
   "cell_type": "code",
   "execution_count": null,
   "id": "87076660",
   "metadata": {},
   "outputs": [],
   "source": [
    "defDfTrainTest(0)"
   ]
  },
  {
   "cell_type": "code",
   "execution_count": 3,
   "id": "7029caf1",
   "metadata": {},
   "outputs": [],
   "source": [
    "#Définition d'une fonction de définition de X_train, y_train, X_test, y_test\n",
    "def defXy():\n",
    "    global y_train \n",
    "    y_train = immoSV_train[\"median_house_value\"]\n",
    "    global X_train\n",
    "    X_train = immoSV_train.drop([\"median_house_value\",\"ocean_proximity\"], axis=1)\n",
    "    global y_test\n",
    "    y_test = immoSV_test[\"median_house_value\"]\n",
    "    global X_test\n",
    "    X_test = immoSV_test.drop([\"median_house_value\",\"ocean_proximity\"], axis=1)"
   ]
  },
  {
   "cell_type": "code",
   "execution_count": null,
   "id": "f4cc7092",
   "metadata": {},
   "outputs": [],
   "source": [
    "defXy()"
   ]
  },
  {
   "cell_type": "markdown",
   "id": "95393df2",
   "metadata": {},
   "source": [
    "## 1ère itération : données manquantes - suppression"
   ]
  },
  {
   "cell_type": "code",
   "execution_count": 94,
   "id": "1ae1e983",
   "metadata": {},
   "outputs": [],
   "source": [
    "defDfTrainTest(1)"
   ]
  },
  {
   "cell_type": "code",
   "execution_count": 95,
   "id": "92b9db60",
   "metadata": {},
   "outputs": [],
   "source": [
    "defXy()"
   ]
  },
  {
   "cell_type": "code",
   "execution_count": 96,
   "id": "0dca13a5",
   "metadata": {},
   "outputs": [
    {
     "data": {
      "text/plain": [
       "0.6266554556770918"
      ]
     },
     "execution_count": 96,
     "metadata": {},
     "output_type": "execute_result"
    }
   ],
   "source": [
    "# Choose your model\n",
    "model = LinearRegression()\n",
    "\n",
    "# Fit the model with the train set\n",
    "model.fit(X_train, y_train)\n",
    "\n",
    "# Evaluate the model with the test set\n",
    "model.score(X_test, y_test)"
   ]
  },
  {
   "cell_type": "code",
   "execution_count": 97,
   "id": "3cfdd269",
   "metadata": {
    "scrolled": true
   },
   "outputs": [
    {
     "name": "stdout",
     "output_type": "stream",
     "text": [
      "MSE : 5008541573.791216\n",
      "RMSE : 70771.05039344277\n",
      "MAE : 51256.151647260005\n"
     ]
    }
   ],
   "source": [
    "y_pred = model.predict(X_test)\n",
    "print(f\"MSE : {mean_squared_error(y_test, y_pred)}\")\n",
    "print(f\"RMSE : {np.sqrt(mean_squared_error(y_test, y_pred))}\")\n",
    "print(f\"MAE : {mean_absolute_error(y_test, y_pred)}\")\n",
    "# print(f\"RMSLE : {np.sqrt(mean_squared_log_error(y_test, y_pred))}\")"
   ]
  },
  {
   "cell_type": "markdown",
   "id": "a9e37c87",
   "metadata": {},
   "source": [
    "## 2e itération : données manquantes - remplissage par médiane"
   ]
  },
  {
   "cell_type": "code",
   "execution_count": 98,
   "id": "7f86f49a",
   "metadata": {},
   "outputs": [],
   "source": [
    "defDfTrainTest(2)\n",
    "defXy()"
   ]
  },
  {
   "cell_type": "code",
   "execution_count": 99,
   "id": "4c0cc5f0",
   "metadata": {},
   "outputs": [
    {
     "data": {
      "text/plain": [
       "0.6266974881364651"
      ]
     },
     "execution_count": 99,
     "metadata": {},
     "output_type": "execute_result"
    }
   ],
   "source": [
    "model = LinearRegression()\n",
    "model.fit(X_train, y_train)\n",
    "model.score(X_test, y_test)"
   ]
  },
  {
   "cell_type": "code",
   "execution_count": 100,
   "id": "bcde0dab",
   "metadata": {
    "scrolled": true
   },
   "outputs": [
    {
     "name": "stdout",
     "output_type": "stream",
     "text": [
      "MSE : 4957756292.8245945\n",
      "RMSE : 70411.33639425256\n",
      "MAE : 51104.932248519974\n"
     ]
    }
   ],
   "source": [
    "y_pred = model.predict(X_test)\n",
    "print(f\"MSE : {mean_squared_error(y_test, y_pred)}\")\n",
    "print(f\"RMSE : {np.sqrt(mean_squared_error(y_test, y_pred))}\")\n",
    "print(f\"MAE : {mean_absolute_error(y_test, y_pred)}\")"
   ]
  },
  {
   "cell_type": "markdown",
   "id": "1cdf8473",
   "metadata": {},
   "source": [
    "C'est globalement un peu mieux que supprimer les données."
   ]
  },
  {
   "cell_type": "markdown",
   "id": "7c102c6e",
   "metadata": {},
   "source": [
    "## 3e itération : données manquantes - remplissage par KNN"
   ]
  },
  {
   "cell_type": "code",
   "execution_count": 4,
   "id": "d3fdfa97",
   "metadata": {},
   "outputs": [],
   "source": [
    "# R² = 0.6363852884195151\n",
    "# MSE : 4775974664.390431\n",
    "# RMSE : 69108.42686959697\n",
    "# MAE : 50880.58049685782"
   ]
  },
  {
   "cell_type": "code",
   "execution_count": 7,
   "id": "d257a22e",
   "metadata": {},
   "outputs": [],
   "source": [
    "defDfTrainTest(3)\n",
    "defXy()"
   ]
  },
  {
   "cell_type": "code",
   "execution_count": 8,
   "id": "e9cab25a",
   "metadata": {},
   "outputs": [
    {
     "data": {
      "text/plain": [
       "0.6393897098641681"
      ]
     },
     "execution_count": 8,
     "metadata": {},
     "output_type": "execute_result"
    }
   ],
   "source": [
    "model = LinearRegression()\n",
    "model.fit(X_train, y_train)\n",
    "model.score(X_test, y_test)"
   ]
  },
  {
   "cell_type": "code",
   "execution_count": 9,
   "id": "21aed6ee",
   "metadata": {},
   "outputs": [
    {
     "name": "stdout",
     "output_type": "stream",
     "text": [
      "MSE : 4739848795.341628\n",
      "RMSE : 68846.55979307629\n",
      "MAE : 50483.78988396022\n"
     ]
    }
   ],
   "source": [
    "y_pred = model.predict(X_test)\n",
    "print(f\"MSE : {mean_squared_error(y_test, y_pred)}\")\n",
    "print(f\"RMSE : {np.sqrt(mean_squared_error(y_test, y_pred))}\")\n",
    "print(f\"MAE : {mean_absolute_error(y_test, y_pred)}\")"
   ]
  },
  {
   "cell_type": "markdown",
   "id": "1bd6253e",
   "metadata": {},
   "source": [
    "C'est globalement un peu mieux que remplasser par la médiane."
   ]
  },
  {
   "cell_type": "markdown",
   "id": "10a53dd0",
   "metadata": {},
   "source": [
    "## 4e itération : scaling par normalisation"
   ]
  },
  {
   "cell_type": "code",
   "execution_count": 17,
   "id": "b58848a0",
   "metadata": {},
   "outputs": [],
   "source": [
    "defDfTrainTest(4)"
   ]
  },
  {
   "cell_type": "code",
   "execution_count": 19,
   "id": "354fe931",
   "metadata": {},
   "outputs": [],
   "source": [
    "defXy()"
   ]
  },
  {
   "cell_type": "code",
   "execution_count": 20,
   "id": "315c73be",
   "metadata": {},
   "outputs": [
    {
     "data": {
      "text/plain": [
       "0.6393897098641677"
      ]
     },
     "execution_count": 20,
     "metadata": {},
     "output_type": "execute_result"
    }
   ],
   "source": [
    "model = LinearRegression()\n",
    "model.fit(X_train, y_train)\n",
    "model.score(X_test, y_test)"
   ]
  },
  {
   "cell_type": "code",
   "execution_count": 23,
   "id": "03066b0d",
   "metadata": {
    "scrolled": true
   },
   "outputs": [
    {
     "name": "stdout",
     "output_type": "stream",
     "text": [
      "MSE : 4739848795.341632\n",
      "RMSE : 68846.55979307632\n",
      "MAE : 50483.789883960795\n"
     ]
    }
   ],
   "source": [
    "y_pred = model.predict(X_test)\n",
    "print(f\"MSE : {mean_squared_error(y_test, y_pred)}\")\n",
    "print(f\"RMSE : {np.sqrt(mean_squared_error(y_test, y_pred))}\")\n",
    "print(f\"MAE : {mean_absolute_error(y_test, y_pred)}\")"
   ]
  },
  {
   "cell_type": "markdown",
   "id": "97d570b9",
   "metadata": {},
   "source": [
    "C'est globalement pareil que non transformés"
   ]
  },
  {
   "cell_type": "markdown",
   "id": "ac8ee18c",
   "metadata": {},
   "source": [
    "## 5e itération : encoding par OneHotEncoder"
   ]
  },
  {
   "cell_type": "code",
   "execution_count": 24,
   "id": "da3753ba",
   "metadata": {},
   "outputs": [],
   "source": [
    "defDfTrainTest(5)"
   ]
  },
  {
   "cell_type": "code",
   "execution_count": 25,
   "id": "b100b64f",
   "metadata": {},
   "outputs": [],
   "source": [
    "defXy()"
   ]
  },
  {
   "cell_type": "code",
   "execution_count": 26,
   "id": "da04d7c6",
   "metadata": {},
   "outputs": [
    {
     "data": {
      "text/plain": [
       "0.6477112351307787"
      ]
     },
     "execution_count": 26,
     "metadata": {},
     "output_type": "execute_result"
    }
   ],
   "source": [
    "model = LinearRegression()\n",
    "model.fit(X_train, y_train)\n",
    "model.score(X_test, y_test)"
   ]
  },
  {
   "cell_type": "code",
   "execution_count": 27,
   "id": "55da7042",
   "metadata": {},
   "outputs": [
    {
     "name": "stdout",
     "output_type": "stream",
     "text": [
      "MSE : 4630470963.956139\n",
      "RMSE : 68047.56398252724\n",
      "MAE : 49362.267867186965\n"
     ]
    }
   ],
   "source": [
    "y_pred = model.predict(X_test)\n",
    "print(f\"MSE : {mean_squared_error(y_test, y_pred)}\")\n",
    "print(f\"RMSE : {np.sqrt(mean_squared_error(y_test, y_pred))}\")\n",
    "print(f\"MAE : {mean_absolute_error(y_test, y_pred)}\")"
   ]
  },
  {
   "cell_type": "markdown",
   "id": "071b86c3",
   "metadata": {},
   "source": [
    "C'est globalement un peu mieux en encodant la variable ocean_proximity par OneHotEncoder"
   ]
  }
 ],
 "metadata": {
  "kernelspec": {
   "display_name": "Python 3",
   "language": "python",
   "name": "python3"
  },
  "language_info": {
   "codemirror_mode": {
    "name": "ipython",
    "version": 3
   },
   "file_extension": ".py",
   "mimetype": "text/x-python",
   "name": "python",
   "nbconvert_exporter": "python",
   "pygments_lexer": "ipython3",
   "version": "3.8.8"
  }
 },
 "nbformat": 4,
 "nbformat_minor": 5
}
