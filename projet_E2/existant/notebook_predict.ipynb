{
 "cells": [
  {
   "cell_type": "markdown",
   "id": "f1737cbe",
   "metadata": {},
   "source": [
    "# Prédiction"
   ]
  },
  {
   "cell_type": "markdown",
   "id": "856a4d11",
   "metadata": {},
   "source": [
    "Import des différentes librairies"
   ]
  },
  {
   "cell_type": "code",
   "execution_count": 107,
   "id": "8a58db9f",
   "metadata": {},
   "outputs": [],
   "source": [
    "import pandas as pd\n",
    "import seaborn as sns\n",
    "import matplotlib.pyplot as plt\n",
    "import numpy as np\n",
    "import os\n",
    "\n",
    "from sklearn.model_selection import train_test_split\n",
    "\n",
    "from sklearn.impute import KNNImputer\n",
    "\n",
    "from scipy.stats import shapiro\n",
    "from sklearn.preprocessing import MinMaxScaler\n",
    "\n",
    "from sklearn.preprocessing import OneHotEncoder\n",
    "\n",
    "from sklearn.neighbors import KNeighborsRegressor\n",
    "\n",
    "from sklearn.model_selection import cross_validate\n",
    "\n",
    "import pickle"
   ]
  },
  {
   "cell_type": "markdown",
   "id": "094424b6",
   "metadata": {},
   "source": [
    "Récupération de la base de données sous forme de dataframe :"
   ]
  },
  {
   "cell_type": "code",
   "execution_count": 108,
   "id": "a736da39",
   "metadata": {},
   "outputs": [],
   "source": [
    "df = pd.read_csv(r'C:\\Users\\Admin\\Documents\\marianneSimplon\\simplon\\immo_SiliconValley_marianneD\\data\\traindata_ori.csv',delimiter=',', decimal='.')"
   ]
  },
  {
   "cell_type": "code",
   "execution_count": 109,
   "id": "63c7d929",
   "metadata": {},
   "outputs": [],
   "source": [
    "# Supression de la colonne Unnamed: 0\n",
    "df = df.drop(\"Unnamed: 0\", axis=1)"
   ]
  },
  {
   "cell_type": "markdown",
   "id": "11139d90",
   "metadata": {},
   "source": [
    "### Split du dataset en un dataset train et un dataset test"
   ]
  },
  {
   "cell_type": "code",
   "execution_count": 110,
   "id": "3bbfa6ba",
   "metadata": {},
   "outputs": [],
   "source": [
    "immoSV_train, immoSV_test = train_test_split(df, test_size=0.3)"
   ]
  },
  {
   "cell_type": "markdown",
   "id": "bb7bb7d6",
   "metadata": {},
   "source": [
    "## 1ère itération : données manquantes - suppression"
   ]
  },
  {
   "cell_type": "code",
   "execution_count": 111,
   "id": "287c4c24",
   "metadata": {},
   "outputs": [
    {
     "name": "stderr",
     "output_type": "stream",
     "text": [
      "<ipython-input-111-3fa0ee616d23>:1: SettingWithCopyWarning: \n",
      "A value is trying to be set on a copy of a slice from a DataFrame\n",
      "\n",
      "See the caveats in the documentation: https://pandas.pydata.org/pandas-docs/stable/user_guide/indexing.html#returning-a-view-versus-a-copy\n",
      "  immoSV_train.dropna(axis=0, inplace=True)\n",
      "<ipython-input-111-3fa0ee616d23>:2: SettingWithCopyWarning: \n",
      "A value is trying to be set on a copy of a slice from a DataFrame\n",
      "\n",
      "See the caveats in the documentation: https://pandas.pydata.org/pandas-docs/stable/user_guide/indexing.html#returning-a-view-versus-a-copy\n",
      "  immoSV_test.dropna(axis=0, inplace=True)\n"
     ]
    }
   ],
   "source": [
    "immoSV_train.dropna(axis=0, inplace=True)\n",
    "immoSV_test.dropna(axis=0, inplace=True)"
   ]
  },
  {
   "cell_type": "markdown",
   "id": "6d10a266",
   "metadata": {},
   "source": [
    "## 4e itération : scaling par normalisation"
   ]
  },
  {
   "cell_type": "code",
   "execution_count": 112,
   "id": "913f8585",
   "metadata": {},
   "outputs": [],
   "source": [
    "immoSV_train_part = immoSV_train[[\"median_house_value\",\"ocean_proximity\"]]\n",
    "immoSV_test_part = immoSV_test[[\"median_house_value\",\"ocean_proximity\"]]"
   ]
  },
  {
   "cell_type": "code",
   "execution_count": 113,
   "id": "830a8460",
   "metadata": {},
   "outputs": [],
   "source": [
    "ss_X_train = immoSV_train.drop([\"median_house_value\",\"ocean_proximity\"], axis=1)\n",
    "ss_X_test = immoSV_test.drop([\"median_house_value\",\"ocean_proximity\"], axis=1)"
   ]
  },
  {
   "cell_type": "markdown",
   "id": "a6128d56",
   "metadata": {},
   "source": [
    "##### Normalisation des données"
   ]
  },
  {
   "cell_type": "code",
   "execution_count": 114,
   "id": "84018bce",
   "metadata": {},
   "outputs": [],
   "source": [
    "sc = MinMaxScaler()\n",
    "ft_sc = sc.fit(ss_X_train)\n",
    "immoSV_train = ft_sc.transform(ss_X_train)\n",
    "immoSV_train = pd.DataFrame(immoSV_train, columns=ss_X_train.columns)"
   ]
  },
  {
   "cell_type": "code",
   "execution_count": 115,
   "id": "a121c411",
   "metadata": {},
   "outputs": [],
   "source": [
    "immoSV_test = ft_sc.transform(ss_X_test)\n",
    "immoSV_test = pd.DataFrame(immoSV_test, columns=ss_X_test.columns)"
   ]
  },
  {
   "cell_type": "code",
   "execution_count": 116,
   "id": "7130f25c",
   "metadata": {},
   "outputs": [],
   "source": [
    "immoSV_train = immoSV_train.merge(immoSV_train_part,how='inner', on=immoSV_train.index)\n",
    "immoSV_train = immoSV_train.drop('key_0', axis=1)\n",
    "immoSV_test = immoSV_test.merge(immoSV_test_part,how='inner', on=immoSV_test.index)\n",
    "immoSV_test = immoSV_test.drop('key_0', axis=1)"
   ]
  },
  {
   "cell_type": "markdown",
   "id": "679a698d",
   "metadata": {},
   "source": [
    "## 7e itération : encoding par OneHotEncoder"
   ]
  },
  {
   "cell_type": "code",
   "execution_count": 117,
   "id": "349fb455",
   "metadata": {},
   "outputs": [],
   "source": [
    "enc = OneHotEncoder(handle_unknown='ignore')\n",
    "enc_df = enc.fit(immoSV_train[['ocean_proximity']])\n",
    "enc_df = pd.DataFrame(enc.transform(immoSV_train[['ocean_proximity']]).toarray())"
   ]
  },
  {
   "cell_type": "code",
   "execution_count": 118,
   "id": "65ed92e0",
   "metadata": {},
   "outputs": [],
   "source": [
    "immoSV_train = immoSV_train.merge(enc_df,how='inner', on=enc_df.index)\n",
    "immoSV_train = immoSV_train.drop(['key_0','ocean_proximity'], axis=1)\n",
    "immoSV_train.rename({0: 'NEAR_OCEAN', 1: 'NEAR_BAY',2: 'ISLAND', 3: 'INLAND', 4: 'H_OCEAN'}, inplace=True, axis=1)"
   ]
  },
  {
   "cell_type": "code",
   "execution_count": 119,
   "id": "33b41720",
   "metadata": {},
   "outputs": [],
   "source": [
    "enc_df = pd.DataFrame(enc.transform(immoSV_test[['ocean_proximity']]).toarray())\n",
    "immoSV_test = immoSV_test.merge(enc_df,how='inner', on=enc_df.index)\n",
    "immoSV_test = immoSV_test.drop(['key_0','ocean_proximity'], axis=1)\n",
    "immoSV_test.rename({0: 'NEAR_OCEAN', 1: 'NEAR_BAY',2: 'ISLAND', 3: 'INLAND', 4: 'H_OCEAN'}, inplace=True, axis=1)"
   ]
  },
  {
   "cell_type": "markdown",
   "id": "5c51deff",
   "metadata": {},
   "source": [
    "## 8e itération : feature permutation"
   ]
  },
  {
   "cell_type": "code",
   "execution_count": 120,
   "id": "8d085e47",
   "metadata": {},
   "outputs": [],
   "source": [
    "immoSV_train = immoSV_train.drop(['H_OCEAN', 'ISLAND'],axis=1)\n",
    "immoSV_test = immoSV_test.drop(['H_OCEAN', 'ISLAND'],axis=1)"
   ]
  },
  {
   "cell_type": "markdown",
   "id": "fd0e47e0",
   "metadata": {},
   "source": [
    "## 10e itération : KNN Regression"
   ]
  },
  {
   "cell_type": "markdown",
   "id": "5c321d71",
   "metadata": {},
   "source": [
    "# Model Pickle"
   ]
  },
  {
   "cell_type": "code",
   "execution_count": 121,
   "id": "ce0472b8",
   "metadata": {
    "scrolled": true
   },
   "outputs": [
    {
     "data": {
      "text/html": [
       "<div>\n",
       "<style scoped>\n",
       "    .dataframe tbody tr th:only-of-type {\n",
       "        vertical-align: middle;\n",
       "    }\n",
       "\n",
       "    .dataframe tbody tr th {\n",
       "        vertical-align: top;\n",
       "    }\n",
       "\n",
       "    .dataframe thead th {\n",
       "        text-align: right;\n",
       "    }\n",
       "</style>\n",
       "<table border=\"1\" class=\"dataframe\">\n",
       "  <thead>\n",
       "    <tr style=\"text-align: right;\">\n",
       "      <th></th>\n",
       "      <th>longitude</th>\n",
       "      <th>latitude</th>\n",
       "      <th>housing_median_age</th>\n",
       "      <th>total_rooms</th>\n",
       "      <th>total_bedrooms</th>\n",
       "      <th>population</th>\n",
       "      <th>households</th>\n",
       "      <th>median_income</th>\n",
       "      <th>median_house_value</th>\n",
       "      <th>NEAR_OCEAN</th>\n",
       "      <th>NEAR_BAY</th>\n",
       "      <th>INLAND</th>\n",
       "    </tr>\n",
       "  </thead>\n",
       "  <tbody>\n",
       "    <tr>\n",
       "      <th>0</th>\n",
       "      <td>0.606574</td>\n",
       "      <td>0.148778</td>\n",
       "      <td>0.784314</td>\n",
       "      <td>0.038134</td>\n",
       "      <td>0.063179</td>\n",
       "      <td>0.049190</td>\n",
       "      <td>0.063497</td>\n",
       "      <td>0.079316</td>\n",
       "      <td>94200.0</td>\n",
       "      <td>1.0</td>\n",
       "      <td>0.0</td>\n",
       "      <td>0.0</td>\n",
       "    </tr>\n",
       "    <tr>\n",
       "      <th>1</th>\n",
       "      <td>0.730080</td>\n",
       "      <td>0.015940</td>\n",
       "      <td>0.117647</td>\n",
       "      <td>0.153756</td>\n",
       "      <td>0.155387</td>\n",
       "      <td>0.106011</td>\n",
       "      <td>0.156111</td>\n",
       "      <td>0.271451</td>\n",
       "      <td>135000.0</td>\n",
       "      <td>0.0</td>\n",
       "      <td>0.0</td>\n",
       "      <td>0.0</td>\n",
       "    </tr>\n",
       "    <tr>\n",
       "      <th>2</th>\n",
       "      <td>0.618526</td>\n",
       "      <td>0.231668</td>\n",
       "      <td>0.274510</td>\n",
       "      <td>0.055204</td>\n",
       "      <td>0.055573</td>\n",
       "      <td>0.036901</td>\n",
       "      <td>0.048857</td>\n",
       "      <td>0.284486</td>\n",
       "      <td>118100.0</td>\n",
       "      <td>0.0</td>\n",
       "      <td>1.0</td>\n",
       "      <td>0.0</td>\n",
       "    </tr>\n",
       "    <tr>\n",
       "      <th>3</th>\n",
       "      <td>0.640438</td>\n",
       "      <td>0.113709</td>\n",
       "      <td>0.705882</td>\n",
       "      <td>0.031367</td>\n",
       "      <td>0.026389</td>\n",
       "      <td>0.013689</td>\n",
       "      <td>0.024840</td>\n",
       "      <td>0.680563</td>\n",
       "      <td>500001.0</td>\n",
       "      <td>1.0</td>\n",
       "      <td>0.0</td>\n",
       "      <td>0.0</td>\n",
       "    </tr>\n",
       "    <tr>\n",
       "      <th>4</th>\n",
       "      <td>0.284861</td>\n",
       "      <td>0.639745</td>\n",
       "      <td>1.000000</td>\n",
       "      <td>0.046631</td>\n",
       "      <td>0.060385</td>\n",
       "      <td>0.023247</td>\n",
       "      <td>0.057575</td>\n",
       "      <td>0.172646</td>\n",
       "      <td>103500.0</td>\n",
       "      <td>0.0</td>\n",
       "      <td>1.0</td>\n",
       "      <td>0.0</td>\n",
       "    </tr>\n",
       "    <tr>\n",
       "      <th>...</th>\n",
       "      <td>...</td>\n",
       "      <td>...</td>\n",
       "      <td>...</td>\n",
       "      <td>...</td>\n",
       "      <td>...</td>\n",
       "      <td>...</td>\n",
       "      <td>...</td>\n",
       "      <td>...</td>\n",
       "      <td>...</td>\n",
       "      <td>...</td>\n",
       "      <td>...</td>\n",
       "      <td>...</td>\n",
       "    </tr>\n",
       "    <tr>\n",
       "      <th>11438</th>\n",
       "      <td>0.696215</td>\n",
       "      <td>0.066950</td>\n",
       "      <td>0.450980</td>\n",
       "      <td>0.051769</td>\n",
       "      <td>0.068147</td>\n",
       "      <td>0.028323</td>\n",
       "      <td>0.059878</td>\n",
       "      <td>0.125398</td>\n",
       "      <td>500001.0</td>\n",
       "      <td>0.0</td>\n",
       "      <td>0.0</td>\n",
       "      <td>0.0</td>\n",
       "    </tr>\n",
       "    <tr>\n",
       "      <th>11439</th>\n",
       "      <td>0.230080</td>\n",
       "      <td>0.605739</td>\n",
       "      <td>0.568627</td>\n",
       "      <td>0.052660</td>\n",
       "      <td>0.070320</td>\n",
       "      <td>0.035080</td>\n",
       "      <td>0.071558</td>\n",
       "      <td>0.103137</td>\n",
       "      <td>92900.0</td>\n",
       "      <td>0.0</td>\n",
       "      <td>1.0</td>\n",
       "      <td>0.0</td>\n",
       "    </tr>\n",
       "    <tr>\n",
       "      <th>11440</th>\n",
       "      <td>0.601594</td>\n",
       "      <td>0.149841</td>\n",
       "      <td>0.843137</td>\n",
       "      <td>0.039355</td>\n",
       "      <td>0.051226</td>\n",
       "      <td>0.038231</td>\n",
       "      <td>0.051489</td>\n",
       "      <td>0.241679</td>\n",
       "      <td>133500.0</td>\n",
       "      <td>1.0</td>\n",
       "      <td>0.0</td>\n",
       "      <td>0.0</td>\n",
       "    </tr>\n",
       "    <tr>\n",
       "      <th>11441</th>\n",
       "      <td>0.609562</td>\n",
       "      <td>0.149841</td>\n",
       "      <td>0.823529</td>\n",
       "      <td>0.042535</td>\n",
       "      <td>0.080255</td>\n",
       "      <td>0.076568</td>\n",
       "      <td>0.080770</td>\n",
       "      <td>0.119943</td>\n",
       "      <td>152800.0</td>\n",
       "      <td>1.0</td>\n",
       "      <td>0.0</td>\n",
       "      <td>0.0</td>\n",
       "    </tr>\n",
       "    <tr>\n",
       "      <th>11442</th>\n",
       "      <td>0.613546</td>\n",
       "      <td>0.147715</td>\n",
       "      <td>0.764706</td>\n",
       "      <td>0.033656</td>\n",
       "      <td>0.042378</td>\n",
       "      <td>0.042818</td>\n",
       "      <td>0.045238</td>\n",
       "      <td>0.204914</td>\n",
       "      <td>144300.0</td>\n",
       "      <td>1.0</td>\n",
       "      <td>0.0</td>\n",
       "      <td>0.0</td>\n",
       "    </tr>\n",
       "  </tbody>\n",
       "</table>\n",
       "<p>11443 rows × 12 columns</p>\n",
       "</div>"
      ],
      "text/plain": [
       "       longitude  latitude  housing_median_age  total_rooms  total_bedrooms  \\\n",
       "0       0.606574  0.148778            0.784314     0.038134        0.063179   \n",
       "1       0.730080  0.015940            0.117647     0.153756        0.155387   \n",
       "2       0.618526  0.231668            0.274510     0.055204        0.055573   \n",
       "3       0.640438  0.113709            0.705882     0.031367        0.026389   \n",
       "4       0.284861  0.639745            1.000000     0.046631        0.060385   \n",
       "...          ...       ...                 ...          ...             ...   \n",
       "11438   0.696215  0.066950            0.450980     0.051769        0.068147   \n",
       "11439   0.230080  0.605739            0.568627     0.052660        0.070320   \n",
       "11440   0.601594  0.149841            0.843137     0.039355        0.051226   \n",
       "11441   0.609562  0.149841            0.823529     0.042535        0.080255   \n",
       "11442   0.613546  0.147715            0.764706     0.033656        0.042378   \n",
       "\n",
       "       population  households  median_income  median_house_value  NEAR_OCEAN  \\\n",
       "0        0.049190    0.063497       0.079316             94200.0         1.0   \n",
       "1        0.106011    0.156111       0.271451            135000.0         0.0   \n",
       "2        0.036901    0.048857       0.284486            118100.0         0.0   \n",
       "3        0.013689    0.024840       0.680563            500001.0         1.0   \n",
       "4        0.023247    0.057575       0.172646            103500.0         0.0   \n",
       "...           ...         ...            ...                 ...         ...   \n",
       "11438    0.028323    0.059878       0.125398            500001.0         0.0   \n",
       "11439    0.035080    0.071558       0.103137             92900.0         0.0   \n",
       "11440    0.038231    0.051489       0.241679            133500.0         1.0   \n",
       "11441    0.076568    0.080770       0.119943            152800.0         1.0   \n",
       "11442    0.042818    0.045238       0.204914            144300.0         1.0   \n",
       "\n",
       "       NEAR_BAY  INLAND  \n",
       "0           0.0     0.0  \n",
       "1           0.0     0.0  \n",
       "2           1.0     0.0  \n",
       "3           0.0     0.0  \n",
       "4           1.0     0.0  \n",
       "...         ...     ...  \n",
       "11438       0.0     0.0  \n",
       "11439       1.0     0.0  \n",
       "11440       0.0     0.0  \n",
       "11441       0.0     0.0  \n",
       "11442       0.0     0.0  \n",
       "\n",
       "[11443 rows x 12 columns]"
      ]
     },
     "execution_count": 121,
     "metadata": {},
     "output_type": "execute_result"
    }
   ],
   "source": [
    "immoSV_train"
   ]
  },
  {
   "cell_type": "code",
   "execution_count": 122,
   "id": "0b638065",
   "metadata": {},
   "outputs": [],
   "source": [
    "y_train = immoSV_train[\"median_house_value\"]\n",
    "X_train = immoSV_train.drop([\"median_house_value\"], axis=1)\n",
    "y_test = immoSV_test[\"median_house_value\"]\n",
    "X_test = immoSV_test.drop([\"median_house_value\"], axis=1)"
   ]
  },
  {
   "cell_type": "code",
   "execution_count": 123,
   "id": "abc2e8f5",
   "metadata": {},
   "outputs": [],
   "source": [
    "X = pd.concat([X_train,X_test])\n",
    "y = pd.concat([y_train,y_test])"
   ]
  },
  {
   "cell_type": "code",
   "execution_count": 124,
   "id": "f074ea33",
   "metadata": {
    "scrolled": true
   },
   "outputs": [],
   "source": [
    "my_model = pickle.load(open(\"model.pkl\",\"rb\"))\n",
    "# my_model.predict(X, y)\n",
    "# my_model.predict(X_test, y_test)\n",
    "# my_model.score(X_test, y_test)"
   ]
  },
  {
   "cell_type": "code",
   "execution_count": 125,
   "id": "7f7442db",
   "metadata": {},
   "outputs": [
    {
     "data": {
      "text/plain": [
       "0.7060498109458216"
      ]
     },
     "execution_count": 125,
     "metadata": {},
     "output_type": "execute_result"
    }
   ],
   "source": [
    "cv_results = cross_validate(my_model, X, y, cv=5)\n",
    "# obtain the mean of scores\n",
    "cv_results['test_score'].mean()"
   ]
  },
  {
   "cell_type": "code",
   "execution_count": 129,
   "id": "859869f5",
   "metadata": {},
   "outputs": [
    {
     "data": {
      "text/html": [
       "<div>\n",
       "<style scoped>\n",
       "    .dataframe tbody tr th:only-of-type {\n",
       "        vertical-align: middle;\n",
       "    }\n",
       "\n",
       "    .dataframe tbody tr th {\n",
       "        vertical-align: top;\n",
       "    }\n",
       "\n",
       "    .dataframe thead th {\n",
       "        text-align: right;\n",
       "    }\n",
       "</style>\n",
       "<table border=\"1\" class=\"dataframe\">\n",
       "  <thead>\n",
       "    <tr style=\"text-align: right;\">\n",
       "      <th></th>\n",
       "      <th>0</th>\n",
       "    </tr>\n",
       "  </thead>\n",
       "  <tbody>\n",
       "    <tr>\n",
       "      <th>0</th>\n",
       "      <td>109160.0</td>\n",
       "    </tr>\n",
       "    <tr>\n",
       "      <th>1</th>\n",
       "      <td>207000.0</td>\n",
       "    </tr>\n",
       "    <tr>\n",
       "      <th>2</th>\n",
       "      <td>158100.0</td>\n",
       "    </tr>\n",
       "    <tr>\n",
       "      <th>3</th>\n",
       "      <td>436500.8</td>\n",
       "    </tr>\n",
       "    <tr>\n",
       "      <th>4</th>\n",
       "      <td>143920.0</td>\n",
       "    </tr>\n",
       "    <tr>\n",
       "      <th>...</th>\n",
       "      <td>...</td>\n",
       "    </tr>\n",
       "    <tr>\n",
       "      <th>16331</th>\n",
       "      <td>468640.6</td>\n",
       "    </tr>\n",
       "    <tr>\n",
       "      <th>16332</th>\n",
       "      <td>390240.0</td>\n",
       "    </tr>\n",
       "    <tr>\n",
       "      <th>16333</th>\n",
       "      <td>74420.0</td>\n",
       "    </tr>\n",
       "    <tr>\n",
       "      <th>16334</th>\n",
       "      <td>114760.0</td>\n",
       "    </tr>\n",
       "    <tr>\n",
       "      <th>16335</th>\n",
       "      <td>143700.0</td>\n",
       "    </tr>\n",
       "  </tbody>\n",
       "</table>\n",
       "<p>16336 rows × 1 columns</p>\n",
       "</div>"
      ],
      "text/plain": [
       "              0\n",
       "0      109160.0\n",
       "1      207000.0\n",
       "2      158100.0\n",
       "3      436500.8\n",
       "4      143920.0\n",
       "...         ...\n",
       "16331  468640.6\n",
       "16332  390240.0\n",
       "16333   74420.0\n",
       "16334  114760.0\n",
       "16335  143700.0\n",
       "\n",
       "[16336 rows x 1 columns]"
      ]
     },
     "execution_count": 129,
     "metadata": {},
     "output_type": "execute_result"
    }
   ],
   "source": [
    "predictions = my_model.predict(X)\n",
    "predictions = pd.DataFrame(predictions)\n",
    "predictions"
   ]
  },
  {
   "cell_type": "code",
   "execution_count": null,
   "id": "f70f8185",
   "metadata": {
    "scrolled": true
   },
   "outputs": [],
   "source": [
    "# pickle.dumps('model.pkl')"
   ]
  }
 ],
 "metadata": {
  "kernelspec": {
   "display_name": "Python 3",
   "language": "python",
   "name": "python3"
  },
  "language_info": {
   "codemirror_mode": {
    "name": "ipython",
    "version": 3
   },
   "file_extension": ".py",
   "mimetype": "text/x-python",
   "name": "python",
   "nbconvert_exporter": "python",
   "pygments_lexer": "ipython3",
   "version": "3.8.8"
  }
 },
 "nbformat": 4,
 "nbformat_minor": 5
}
