{
 "cells": [
  {
   "cell_type": "code",
   "execution_count": 9,
   "id": "8f1047c6",
   "metadata": {},
   "outputs": [],
   "source": [
    "import numpy as np\n",
    "import pandas as pd\n",
    "import statsmodels.api as sm\n",
    "import statsmodels.formula.api as smf"
   ]
  },
  {
   "cell_type": "code",
   "execution_count": 10,
   "id": "d5f97574",
   "metadata": {},
   "outputs": [],
   "source": [
    "immoSV_train = pd.read_csv(r'.\\data\\8it\\8_immoSV_train.csv',delimiter=',', decimal='.')\n",
    "immoSV_test = pd.read_csv(r'.\\data\\8it\\8_immoSV_test.csv',delimiter=',', decimal='.')"
   ]
  },
  {
   "cell_type": "code",
   "execution_count": 11,
   "id": "a23b144d",
   "metadata": {},
   "outputs": [],
   "source": [
    "y_train = immoSV_train[\"median_house_value\"]\n",
    "X_train = immoSV_train.drop([\"median_house_value\"], axis=1)\n",
    "y_test = immoSV_test[\"median_house_value\"]\n",
    "X_test = immoSV_test.drop([\"median_house_value\"], axis=1)"
   ]
  },
  {
   "cell_type": "code",
   "execution_count": 12,
   "id": "a42158ce",
   "metadata": {},
   "outputs": [],
   "source": [
    "# Fit regression model (using the natural log of one of the regressors)\n",
    "results = smf.ols('y_train ~ X_train', data=immoSV_train).fit()"
   ]
  },
  {
   "cell_type": "code",
   "execution_count": 13,
   "id": "9a3c753f",
   "metadata": {},
   "outputs": [
    {
     "name": "stdout",
     "output_type": "stream",
     "text": [
      "                            OLS Regression Results                            \n",
      "==============================================================================\n",
      "Dep. Variable:                y_train   R-squared:                       0.649\n",
      "Model:                            OLS   Adj. R-squared:                  0.649\n",
      "Method:                 Least Squares   F-statistic:                     1922.\n",
      "Date:                Fri, 24 Sep 2021   Prob (F-statistic):               0.00\n",
      "Time:                        12:37:03   Log-Likelihood:            -1.4345e+05\n",
      "No. Observations:               11428   AIC:                         2.869e+05\n",
      "Df Residuals:                   11416   BIC:                         2.870e+05\n",
      "Df Model:                          11                                         \n",
      "Covariance Type:            nonrobust                                         \n",
      "===============================================================================\n",
      "                  coef    std err          t      P>|t|      [0.025      0.975]\n",
      "-------------------------------------------------------------------------------\n",
      "Intercept    2.611e+05   1.08e+04     24.282      0.000     2.4e+05    2.82e+05\n",
      "X_train[0]  -2.698e+05   1.38e+04    -19.603      0.000   -2.97e+05   -2.43e+05\n",
      "X_train[1]  -2.438e+05   1.27e+04    -19.204      0.000   -2.69e+05   -2.19e+05\n",
      "X_train[2]   5.543e+04   2981.789     18.590      0.000    4.96e+04    6.13e+04\n",
      "X_train[3]  -2.145e+05   4.01e+04     -5.352      0.000   -2.93e+05   -1.36e+05\n",
      "X_train[4]   6.206e+05   5.99e+04     10.366      0.000    5.03e+05    7.38e+05\n",
      "X_train[5]  -1.234e+06   4.33e+04    -28.476      0.000   -1.32e+06   -1.15e+06\n",
      "X_train[6]   4.047e+05   6.13e+04      6.598      0.000    2.84e+05    5.25e+05\n",
      "X_train[7]   5.643e+05   6562.645     85.991      0.000    5.51e+05    5.77e+05\n",
      "X_train[8]  -2894.4364   2084.750     -1.388      0.165   -6980.905    1192.032\n",
      "X_train[9]  -4.209e+04   2995.571    -14.050      0.000    -4.8e+04   -3.62e+04\n",
      "X_train[10] -6535.2593   2894.919     -2.257      0.024   -1.22e+04    -860.720\n",
      "==============================================================================\n",
      "Omnibus:                     2474.016   Durbin-Watson:                   2.019\n",
      "Prob(Omnibus):                  0.000   Jarque-Bera (JB):             8209.411\n",
      "Skew:                           1.086   Prob(JB):                         0.00\n",
      "Kurtosis:                       6.538   Cond. No.                         190.\n",
      "==============================================================================\n",
      "\n",
      "Notes:\n",
      "[1] Standard Errors assume that the covariance matrix of the errors is correctly specified.\n"
     ]
    }
   ],
   "source": [
    "# Inspect the results\n",
    "print(results.summary())"
   ]
  },
  {
   "cell_type": "markdown",
   "id": "4b0536cc",
   "metadata": {},
   "source": [
    "R² :  0.649. Les variables de notre modèle explique 65% environ de la variance du prix médian.\n",
    "\n",
    "coef : les valeurs des paramètres du modèle, les coefficients pour chacune des 1à variables et l'intercept.\n",
    "\n",
    "std err : erreur standard.\n",
    "\n",
    "P>|t| : p-value. Ici elle sont toutes inférieures à 0.05, sauf X_train[8] qui est NEAR_OCEAN. Pour ces variables, on rejete l'hypothèse nulle, elles ont donc un effet sur la target. Pour NEAR_OCEAN .\n",
    "\n",
    "[0.025  0.975] : intervalle de confiance à 95%. "
   ]
  }
 ],
 "metadata": {
  "kernelspec": {
   "display_name": "Python 3",
   "language": "python",
   "name": "python3"
  },
  "language_info": {
   "codemirror_mode": {
    "name": "ipython",
    "version": 3
   },
   "file_extension": ".py",
   "mimetype": "text/x-python",
   "name": "python",
   "nbconvert_exporter": "python",
   "pygments_lexer": "ipython3",
   "version": "3.8.8"
  }
 },
 "nbformat": 4,
 "nbformat_minor": 5
}
