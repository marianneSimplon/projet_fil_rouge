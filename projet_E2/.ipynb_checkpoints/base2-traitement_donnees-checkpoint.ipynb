{
 "cells": [
  {
   "cell_type": "code",
   "execution_count": 31,
   "id": "6979f386",
   "metadata": {},
   "outputs": [],
   "source": [
    "import pandas as pd\n",
    "import seaborn as sns\n",
    "import matplotlib.pyplot as plt\n",
    "import numpy as np\n",
    "import os\n",
    "\n",
    "from sklearn.model_selection import train_test_split\n",
    "\n",
    "from sklearn.dummy import DummyRegressor\n",
    "from sklearn.linear_model import LinearRegression\n",
    "\n",
    "from sklearn.model_selection import cross_validate\n",
    "from sklearn.model_selection import cross_val_score\n",
    "from sklearn.model_selection import cross_val_predict\n",
    "\n",
    "from sklearn.model_selection import KFold\n",
    "from sklearn.metrics import mean_squared_error\n",
    "from sklearn.metrics import mean_absolute_error\n",
    "from sklearn.metrics import mean_squared_log_error\n",
    "from sklearn.metrics import r2_score\n",
    "\n",
    "from sklearn.impute import KNNImputer\n",
    "\n",
    "from scipy.stats import shapiro\n",
    "from sklearn.preprocessing import MinMaxScaler\n",
    "from sklearn.preprocessing import StandardScaler\n",
    "from sklearn.preprocessing import RobustScaler\n",
    "\n",
    "from sklearn.preprocessing import OneHotEncoder\n",
    "\n",
    "from sklearn.inspection import permutation_importance\n",
    "from statsmodels.stats.outliers_influence import variance_inflation_factor as vif\n",
    "\n",
    "from sklearn.neighbors import KNeighborsRegressor\n",
    "from sklearn.model_selection import learning_curve\n",
    "from sklearn.model_selection import GridSearchCV\n",
    "\n",
    "import pickle"
   ]
  },
  {
   "cell_type": "code",
   "execution_count": 32,
   "id": "12ad57df",
   "metadata": {},
   "outputs": [
    {
     "data": {
      "text/html": [
       "<div>\n",
       "<style scoped>\n",
       "    .dataframe tbody tr th:only-of-type {\n",
       "        vertical-align: middle;\n",
       "    }\n",
       "\n",
       "    .dataframe tbody tr th {\n",
       "        vertical-align: top;\n",
       "    }\n",
       "\n",
       "    .dataframe thead th {\n",
       "        text-align: right;\n",
       "    }\n",
       "</style>\n",
       "<table border=\"1\" class=\"dataframe\">\n",
       "  <thead>\n",
       "    <tr style=\"text-align: right;\">\n",
       "      <th></th>\n",
       "      <th>Unnamed: 0</th>\n",
       "      <th>longitude</th>\n",
       "      <th>latitude</th>\n",
       "      <th>housing_median_age</th>\n",
       "      <th>total_rooms</th>\n",
       "      <th>total_bedrooms</th>\n",
       "      <th>population</th>\n",
       "      <th>households</th>\n",
       "      <th>median_income</th>\n",
       "      <th>median_house_value</th>\n",
       "      <th>ocean_proximity</th>\n",
       "    </tr>\n",
       "  </thead>\n",
       "  <tbody>\n",
       "    <tr>\n",
       "      <th>0</th>\n",
       "      <td>2072</td>\n",
       "      <td>-119.84</td>\n",
       "      <td>36.77</td>\n",
       "      <td>6.0</td>\n",
       "      <td>1853.0</td>\n",
       "      <td>473.0</td>\n",
       "      <td>1397.0</td>\n",
       "      <td>417.0</td>\n",
       "      <td>1.4817</td>\n",
       "      <td>72000.0</td>\n",
       "      <td>INLAND</td>\n",
       "    </tr>\n",
       "    <tr>\n",
       "      <th>1</th>\n",
       "      <td>10600</td>\n",
       "      <td>-117.80</td>\n",
       "      <td>33.68</td>\n",
       "      <td>8.0</td>\n",
       "      <td>2032.0</td>\n",
       "      <td>349.0</td>\n",
       "      <td>862.0</td>\n",
       "      <td>340.0</td>\n",
       "      <td>6.9133</td>\n",
       "      <td>274100.0</td>\n",
       "      <td>&lt;1H OCEAN</td>\n",
       "    </tr>\n",
       "    <tr>\n",
       "      <th>2</th>\n",
       "      <td>2494</td>\n",
       "      <td>-120.19</td>\n",
       "      <td>36.60</td>\n",
       "      <td>25.0</td>\n",
       "      <td>875.0</td>\n",
       "      <td>214.0</td>\n",
       "      <td>931.0</td>\n",
       "      <td>214.0</td>\n",
       "      <td>1.5536</td>\n",
       "      <td>58300.0</td>\n",
       "      <td>INLAND</td>\n",
       "    </tr>\n",
       "    <tr>\n",
       "      <th>3</th>\n",
       "      <td>4284</td>\n",
       "      <td>-118.32</td>\n",
       "      <td>34.10</td>\n",
       "      <td>31.0</td>\n",
       "      <td>622.0</td>\n",
       "      <td>229.0</td>\n",
       "      <td>597.0</td>\n",
       "      <td>227.0</td>\n",
       "      <td>1.5284</td>\n",
       "      <td>200000.0</td>\n",
       "      <td>&lt;1H OCEAN</td>\n",
       "    </tr>\n",
       "    <tr>\n",
       "      <th>4</th>\n",
       "      <td>16541</td>\n",
       "      <td>-121.23</td>\n",
       "      <td>37.79</td>\n",
       "      <td>21.0</td>\n",
       "      <td>1922.0</td>\n",
       "      <td>373.0</td>\n",
       "      <td>1130.0</td>\n",
       "      <td>372.0</td>\n",
       "      <td>4.0815</td>\n",
       "      <td>117900.0</td>\n",
       "      <td>INLAND</td>\n",
       "    </tr>\n",
       "    <tr>\n",
       "      <th>...</th>\n",
       "      <td>...</td>\n",
       "      <td>...</td>\n",
       "      <td>...</td>\n",
       "      <td>...</td>\n",
       "      <td>...</td>\n",
       "      <td>...</td>\n",
       "      <td>...</td>\n",
       "      <td>...</td>\n",
       "      <td>...</td>\n",
       "      <td>...</td>\n",
       "      <td>...</td>\n",
       "    </tr>\n",
       "    <tr>\n",
       "      <th>16507</th>\n",
       "      <td>1099</td>\n",
       "      <td>-121.90</td>\n",
       "      <td>39.59</td>\n",
       "      <td>20.0</td>\n",
       "      <td>1465.0</td>\n",
       "      <td>278.0</td>\n",
       "      <td>745.0</td>\n",
       "      <td>250.0</td>\n",
       "      <td>3.0625</td>\n",
       "      <td>93800.0</td>\n",
       "      <td>INLAND</td>\n",
       "    </tr>\n",
       "    <tr>\n",
       "      <th>16508</th>\n",
       "      <td>18898</td>\n",
       "      <td>-122.25</td>\n",
       "      <td>38.11</td>\n",
       "      <td>49.0</td>\n",
       "      <td>2365.0</td>\n",
       "      <td>504.0</td>\n",
       "      <td>1131.0</td>\n",
       "      <td>458.0</td>\n",
       "      <td>2.6133</td>\n",
       "      <td>103100.0</td>\n",
       "      <td>NEAR BAY</td>\n",
       "    </tr>\n",
       "    <tr>\n",
       "      <th>16509</th>\n",
       "      <td>11798</td>\n",
       "      <td>-121.22</td>\n",
       "      <td>38.92</td>\n",
       "      <td>19.0</td>\n",
       "      <td>2531.0</td>\n",
       "      <td>461.0</td>\n",
       "      <td>1206.0</td>\n",
       "      <td>429.0</td>\n",
       "      <td>4.4958</td>\n",
       "      <td>192600.0</td>\n",
       "      <td>INLAND</td>\n",
       "    </tr>\n",
       "    <tr>\n",
       "      <th>16510</th>\n",
       "      <td>6637</td>\n",
       "      <td>-118.14</td>\n",
       "      <td>34.16</td>\n",
       "      <td>39.0</td>\n",
       "      <td>2776.0</td>\n",
       "      <td>840.0</td>\n",
       "      <td>2546.0</td>\n",
       "      <td>773.0</td>\n",
       "      <td>2.5750</td>\n",
       "      <td>153500.0</td>\n",
       "      <td>&lt;1H OCEAN</td>\n",
       "    </tr>\n",
       "    <tr>\n",
       "      <th>16511</th>\n",
       "      <td>2575</td>\n",
       "      <td>-124.13</td>\n",
       "      <td>40.80</td>\n",
       "      <td>31.0</td>\n",
       "      <td>2152.0</td>\n",
       "      <td>462.0</td>\n",
       "      <td>1259.0</td>\n",
       "      <td>420.0</td>\n",
       "      <td>2.2478</td>\n",
       "      <td>81100.0</td>\n",
       "      <td>NEAR OCEAN</td>\n",
       "    </tr>\n",
       "  </tbody>\n",
       "</table>\n",
       "<p>16512 rows × 11 columns</p>\n",
       "</div>"
      ],
      "text/plain": [
       "       Unnamed: 0  longitude  latitude  housing_median_age  total_rooms  \\\n",
       "0            2072    -119.84     36.77                 6.0       1853.0   \n",
       "1           10600    -117.80     33.68                 8.0       2032.0   \n",
       "2            2494    -120.19     36.60                25.0        875.0   \n",
       "3            4284    -118.32     34.10                31.0        622.0   \n",
       "4           16541    -121.23     37.79                21.0       1922.0   \n",
       "...           ...        ...       ...                 ...          ...   \n",
       "16507        1099    -121.90     39.59                20.0       1465.0   \n",
       "16508       18898    -122.25     38.11                49.0       2365.0   \n",
       "16509       11798    -121.22     38.92                19.0       2531.0   \n",
       "16510        6637    -118.14     34.16                39.0       2776.0   \n",
       "16511        2575    -124.13     40.80                31.0       2152.0   \n",
       "\n",
       "       total_bedrooms  population  households  median_income  \\\n",
       "0               473.0      1397.0       417.0         1.4817   \n",
       "1               349.0       862.0       340.0         6.9133   \n",
       "2               214.0       931.0       214.0         1.5536   \n",
       "3               229.0       597.0       227.0         1.5284   \n",
       "4               373.0      1130.0       372.0         4.0815   \n",
       "...               ...         ...         ...            ...   \n",
       "16507           278.0       745.0       250.0         3.0625   \n",
       "16508           504.0      1131.0       458.0         2.6133   \n",
       "16509           461.0      1206.0       429.0         4.4958   \n",
       "16510           840.0      2546.0       773.0         2.5750   \n",
       "16511           462.0      1259.0       420.0         2.2478   \n",
       "\n",
       "       median_house_value ocean_proximity  \n",
       "0                 72000.0          INLAND  \n",
       "1                274100.0       <1H OCEAN  \n",
       "2                 58300.0          INLAND  \n",
       "3                200000.0       <1H OCEAN  \n",
       "4                117900.0          INLAND  \n",
       "...                   ...             ...  \n",
       "16507             93800.0          INLAND  \n",
       "16508            103100.0        NEAR BAY  \n",
       "16509            192600.0          INLAND  \n",
       "16510            153500.0       <1H OCEAN  \n",
       "16511             81100.0      NEAR OCEAN  \n",
       "\n",
       "[16512 rows x 11 columns]"
      ]
     },
     "execution_count": 32,
     "metadata": {},
     "output_type": "execute_result"
    }
   ],
   "source": [
    "immoSV_df = pd.read_csv(r'C:\\Users\\Admin\\Documents\\marianneSimplon\\simplon\\immo_SiliconValley_marianneD\\data\\traindata_ori.csv',delimiter=',', decimal='.')\n",
    "immoSV_df"
   ]
  },
  {
   "cell_type": "code",
   "execution_count": 33,
   "id": "a53f0b66",
   "metadata": {},
   "outputs": [],
   "source": [
    "# Supression de la colonne Unnamed: 0\n",
    "immoSV_df = immoSV_df.drop(\"Unnamed: 0\", axis=1)"
   ]
  },
  {
   "cell_type": "code",
   "execution_count": 34,
   "id": "911b964f",
   "metadata": {},
   "outputs": [],
   "source": [
    "immoSV_df.dropna(axis=0, inplace=True)"
   ]
  },
  {
   "cell_type": "code",
   "execution_count": 35,
   "id": "3852c1d9",
   "metadata": {},
   "outputs": [],
   "source": [
    "immoSV_df = immoSV_df.reset_index(inplace=False)\n",
    "immoSV_df = immoSV_df.drop(\"index\", axis=1)"
   ]
  },
  {
   "cell_type": "code",
   "execution_count": 36,
   "id": "fb79e5ef",
   "metadata": {},
   "outputs": [],
   "source": [
    "df = immoSV_df.copy()"
   ]
  },
  {
   "cell_type": "code",
   "execution_count": 37,
   "id": "19925ede",
   "metadata": {},
   "outputs": [
    {
     "data": {
      "text/html": [
       "<div>\n",
       "<style scoped>\n",
       "    .dataframe tbody tr th:only-of-type {\n",
       "        vertical-align: middle;\n",
       "    }\n",
       "\n",
       "    .dataframe tbody tr th {\n",
       "        vertical-align: top;\n",
       "    }\n",
       "\n",
       "    .dataframe thead th {\n",
       "        text-align: right;\n",
       "    }\n",
       "</style>\n",
       "<table border=\"1\" class=\"dataframe\">\n",
       "  <thead>\n",
       "    <tr style=\"text-align: right;\">\n",
       "      <th></th>\n",
       "      <th>longitude</th>\n",
       "      <th>latitude</th>\n",
       "      <th>housing_median_age</th>\n",
       "      <th>total_rooms</th>\n",
       "      <th>total_bedrooms</th>\n",
       "      <th>population</th>\n",
       "      <th>households</th>\n",
       "      <th>median_income</th>\n",
       "      <th>median_house_value</th>\n",
       "      <th>ocean_proximity</th>\n",
       "    </tr>\n",
       "  </thead>\n",
       "  <tbody>\n",
       "    <tr>\n",
       "      <th>0</th>\n",
       "      <td>-119.84</td>\n",
       "      <td>36.77</td>\n",
       "      <td>6.0</td>\n",
       "      <td>1853.0</td>\n",
       "      <td>473.0</td>\n",
       "      <td>1397.0</td>\n",
       "      <td>417.0</td>\n",
       "      <td>1.4817</td>\n",
       "      <td>72000.0</td>\n",
       "      <td>INLAND</td>\n",
       "    </tr>\n",
       "    <tr>\n",
       "      <th>1</th>\n",
       "      <td>-117.80</td>\n",
       "      <td>33.68</td>\n",
       "      <td>8.0</td>\n",
       "      <td>2032.0</td>\n",
       "      <td>349.0</td>\n",
       "      <td>862.0</td>\n",
       "      <td>340.0</td>\n",
       "      <td>6.9133</td>\n",
       "      <td>274100.0</td>\n",
       "      <td>&lt;1H OCEAN</td>\n",
       "    </tr>\n",
       "    <tr>\n",
       "      <th>2</th>\n",
       "      <td>-120.19</td>\n",
       "      <td>36.60</td>\n",
       "      <td>25.0</td>\n",
       "      <td>875.0</td>\n",
       "      <td>214.0</td>\n",
       "      <td>931.0</td>\n",
       "      <td>214.0</td>\n",
       "      <td>1.5536</td>\n",
       "      <td>58300.0</td>\n",
       "      <td>INLAND</td>\n",
       "    </tr>\n",
       "    <tr>\n",
       "      <th>3</th>\n",
       "      <td>-118.32</td>\n",
       "      <td>34.10</td>\n",
       "      <td>31.0</td>\n",
       "      <td>622.0</td>\n",
       "      <td>229.0</td>\n",
       "      <td>597.0</td>\n",
       "      <td>227.0</td>\n",
       "      <td>1.5284</td>\n",
       "      <td>200000.0</td>\n",
       "      <td>&lt;1H OCEAN</td>\n",
       "    </tr>\n",
       "    <tr>\n",
       "      <th>4</th>\n",
       "      <td>-121.23</td>\n",
       "      <td>37.79</td>\n",
       "      <td>21.0</td>\n",
       "      <td>1922.0</td>\n",
       "      <td>373.0</td>\n",
       "      <td>1130.0</td>\n",
       "      <td>372.0</td>\n",
       "      <td>4.0815</td>\n",
       "      <td>117900.0</td>\n",
       "      <td>INLAND</td>\n",
       "    </tr>\n",
       "    <tr>\n",
       "      <th>...</th>\n",
       "      <td>...</td>\n",
       "      <td>...</td>\n",
       "      <td>...</td>\n",
       "      <td>...</td>\n",
       "      <td>...</td>\n",
       "      <td>...</td>\n",
       "      <td>...</td>\n",
       "      <td>...</td>\n",
       "      <td>...</td>\n",
       "      <td>...</td>\n",
       "    </tr>\n",
       "    <tr>\n",
       "      <th>16331</th>\n",
       "      <td>-121.90</td>\n",
       "      <td>39.59</td>\n",
       "      <td>20.0</td>\n",
       "      <td>1465.0</td>\n",
       "      <td>278.0</td>\n",
       "      <td>745.0</td>\n",
       "      <td>250.0</td>\n",
       "      <td>3.0625</td>\n",
       "      <td>93800.0</td>\n",
       "      <td>INLAND</td>\n",
       "    </tr>\n",
       "    <tr>\n",
       "      <th>16332</th>\n",
       "      <td>-122.25</td>\n",
       "      <td>38.11</td>\n",
       "      <td>49.0</td>\n",
       "      <td>2365.0</td>\n",
       "      <td>504.0</td>\n",
       "      <td>1131.0</td>\n",
       "      <td>458.0</td>\n",
       "      <td>2.6133</td>\n",
       "      <td>103100.0</td>\n",
       "      <td>NEAR BAY</td>\n",
       "    </tr>\n",
       "    <tr>\n",
       "      <th>16333</th>\n",
       "      <td>-121.22</td>\n",
       "      <td>38.92</td>\n",
       "      <td>19.0</td>\n",
       "      <td>2531.0</td>\n",
       "      <td>461.0</td>\n",
       "      <td>1206.0</td>\n",
       "      <td>429.0</td>\n",
       "      <td>4.4958</td>\n",
       "      <td>192600.0</td>\n",
       "      <td>INLAND</td>\n",
       "    </tr>\n",
       "    <tr>\n",
       "      <th>16334</th>\n",
       "      <td>-118.14</td>\n",
       "      <td>34.16</td>\n",
       "      <td>39.0</td>\n",
       "      <td>2776.0</td>\n",
       "      <td>840.0</td>\n",
       "      <td>2546.0</td>\n",
       "      <td>773.0</td>\n",
       "      <td>2.5750</td>\n",
       "      <td>153500.0</td>\n",
       "      <td>&lt;1H OCEAN</td>\n",
       "    </tr>\n",
       "    <tr>\n",
       "      <th>16335</th>\n",
       "      <td>-124.13</td>\n",
       "      <td>40.80</td>\n",
       "      <td>31.0</td>\n",
       "      <td>2152.0</td>\n",
       "      <td>462.0</td>\n",
       "      <td>1259.0</td>\n",
       "      <td>420.0</td>\n",
       "      <td>2.2478</td>\n",
       "      <td>81100.0</td>\n",
       "      <td>NEAR OCEAN</td>\n",
       "    </tr>\n",
       "  </tbody>\n",
       "</table>\n",
       "<p>16336 rows × 10 columns</p>\n",
       "</div>"
      ],
      "text/plain": [
       "       longitude  latitude  housing_median_age  total_rooms  total_bedrooms  \\\n",
       "0        -119.84     36.77                 6.0       1853.0           473.0   \n",
       "1        -117.80     33.68                 8.0       2032.0           349.0   \n",
       "2        -120.19     36.60                25.0        875.0           214.0   \n",
       "3        -118.32     34.10                31.0        622.0           229.0   \n",
       "4        -121.23     37.79                21.0       1922.0           373.0   \n",
       "...          ...       ...                 ...          ...             ...   \n",
       "16331    -121.90     39.59                20.0       1465.0           278.0   \n",
       "16332    -122.25     38.11                49.0       2365.0           504.0   \n",
       "16333    -121.22     38.92                19.0       2531.0           461.0   \n",
       "16334    -118.14     34.16                39.0       2776.0           840.0   \n",
       "16335    -124.13     40.80                31.0       2152.0           462.0   \n",
       "\n",
       "       population  households  median_income  median_house_value  \\\n",
       "0          1397.0       417.0         1.4817             72000.0   \n",
       "1           862.0       340.0         6.9133            274100.0   \n",
       "2           931.0       214.0         1.5536             58300.0   \n",
       "3           597.0       227.0         1.5284            200000.0   \n",
       "4          1130.0       372.0         4.0815            117900.0   \n",
       "...           ...         ...            ...                 ...   \n",
       "16331       745.0       250.0         3.0625             93800.0   \n",
       "16332      1131.0       458.0         2.6133            103100.0   \n",
       "16333      1206.0       429.0         4.4958            192600.0   \n",
       "16334      2546.0       773.0         2.5750            153500.0   \n",
       "16335      1259.0       420.0         2.2478             81100.0   \n",
       "\n",
       "      ocean_proximity  \n",
       "0              INLAND  \n",
       "1           <1H OCEAN  \n",
       "2              INLAND  \n",
       "3           <1H OCEAN  \n",
       "4              INLAND  \n",
       "...               ...  \n",
       "16331          INLAND  \n",
       "16332        NEAR BAY  \n",
       "16333          INLAND  \n",
       "16334       <1H OCEAN  \n",
       "16335      NEAR OCEAN  \n",
       "\n",
       "[16336 rows x 10 columns]"
      ]
     },
     "execution_count": 37,
     "metadata": {},
     "output_type": "execute_result"
    }
   ],
   "source": [
    "df"
   ]
  },
  {
   "cell_type": "markdown",
   "id": "70ffd3a5",
   "metadata": {},
   "source": [
    "### Split du dataset en un dataset train et un dataset test"
   ]
  },
  {
   "cell_type": "code",
   "execution_count": 38,
   "id": "fab8ef03",
   "metadata": {},
   "outputs": [],
   "source": [
    "immoSV_train, immoSV_test = train_test_split(immoSV_df, test_size=0.3)"
   ]
  },
  {
   "cell_type": "code",
   "execution_count": 39,
   "id": "38572b62",
   "metadata": {},
   "outputs": [
    {
     "data": {
      "text/plain": [
       "(11435, 10)"
      ]
     },
     "execution_count": 39,
     "metadata": {},
     "output_type": "execute_result"
    }
   ],
   "source": [
    "immoSV_train.shape"
   ]
  },
  {
   "cell_type": "code",
   "execution_count": 40,
   "id": "23dfe2b9",
   "metadata": {},
   "outputs": [
    {
     "data": {
      "text/plain": [
       "(4901, 10)"
      ]
     },
     "execution_count": 40,
     "metadata": {},
     "output_type": "execute_result"
    }
   ],
   "source": [
    "immoSV_test.shape"
   ]
  },
  {
   "cell_type": "markdown",
   "id": "021cb147",
   "metadata": {},
   "source": [
    "### Scaling par normalisation"
   ]
  },
  {
   "cell_type": "code",
   "execution_count": 41,
   "id": "7bb81fd6",
   "metadata": {},
   "outputs": [],
   "source": [
    "# Liste des colonnes de données numériques à Scaler\n",
    "immoSV_num_columns_list = list(immoSV_train.columns)\n",
    "immoSV_num_columns_list.remove('ocean_proximity')\n",
    "# immoSV_num_columns_list.remove('housing_median_age')\n",
    "# immoSV_num_columns_list.remove('total_rooms')\n",
    "# immoSV_num_columns_list.remove('total_bedrooms')\n",
    "# immoSV_num_columns_list.remove('households')\n",
    "immoSV_num_columns_list.remove('median_house_value')"
   ]
  },
  {
   "cell_type": "code",
   "execution_count": 42,
   "id": "46f4d2d8",
   "metadata": {},
   "outputs": [],
   "source": [
    "sc = MinMaxScaler()\n",
    "ft_sc = sc.fit(immoSV_train[immoSV_num_columns_list])\n",
    "immoSV_train[immoSV_num_columns_list] = ft_sc.transform(immoSV_train[immoSV_num_columns_list])"
   ]
  },
  {
   "cell_type": "code",
   "execution_count": 43,
   "id": "4b7b1c81",
   "metadata": {},
   "outputs": [],
   "source": [
    "# immoSV_train.drop(['housing_median_age','total_rooms','total_bedrooms','households'],axis=1, inplace=True)"
   ]
  },
  {
   "cell_type": "code",
   "execution_count": 44,
   "id": "346eed78",
   "metadata": {},
   "outputs": [
    {
     "data": {
      "text/html": [
       "<div>\n",
       "<style scoped>\n",
       "    .dataframe tbody tr th:only-of-type {\n",
       "        vertical-align: middle;\n",
       "    }\n",
       "\n",
       "    .dataframe tbody tr th {\n",
       "        vertical-align: top;\n",
       "    }\n",
       "\n",
       "    .dataframe thead th {\n",
       "        text-align: right;\n",
       "    }\n",
       "</style>\n",
       "<table border=\"1\" class=\"dataframe\">\n",
       "  <thead>\n",
       "    <tr style=\"text-align: right;\">\n",
       "      <th></th>\n",
       "      <th>longitude</th>\n",
       "      <th>latitude</th>\n",
       "      <th>housing_median_age</th>\n",
       "      <th>total_rooms</th>\n",
       "      <th>total_bedrooms</th>\n",
       "      <th>population</th>\n",
       "      <th>households</th>\n",
       "      <th>median_income</th>\n",
       "      <th>median_house_value</th>\n",
       "      <th>ocean_proximity</th>\n",
       "    </tr>\n",
       "  </thead>\n",
       "  <tbody>\n",
       "    <tr>\n",
       "      <th>15073</th>\n",
       "      <td>0.712151</td>\n",
       "      <td>0.026596</td>\n",
       "      <td>0.686275</td>\n",
       "      <td>0.101936</td>\n",
       "      <td>0.165166</td>\n",
       "      <td>0.045160</td>\n",
       "      <td>0.138016</td>\n",
       "      <td>0.128274</td>\n",
       "      <td>168400.0</td>\n",
       "      <td>NEAR OCEAN</td>\n",
       "    </tr>\n",
       "    <tr>\n",
       "      <th>3945</th>\n",
       "      <td>0.495020</td>\n",
       "      <td>0.398936</td>\n",
       "      <td>0.254902</td>\n",
       "      <td>0.048869</td>\n",
       "      <td>0.050761</td>\n",
       "      <td>0.027696</td>\n",
       "      <td>0.047376</td>\n",
       "      <td>0.219831</td>\n",
       "      <td>93200.0</td>\n",
       "      <td>INLAND</td>\n",
       "    </tr>\n",
       "    <tr>\n",
       "      <th>192</th>\n",
       "      <td>0.586653</td>\n",
       "      <td>0.181915</td>\n",
       "      <td>0.627451</td>\n",
       "      <td>0.034267</td>\n",
       "      <td>0.037876</td>\n",
       "      <td>0.020436</td>\n",
       "      <td>0.038164</td>\n",
       "      <td>0.316878</td>\n",
       "      <td>210300.0</td>\n",
       "      <td>&lt;1H OCEAN</td>\n",
       "    </tr>\n",
       "    <tr>\n",
       "      <th>783</th>\n",
       "      <td>0.509960</td>\n",
       "      <td>0.172340</td>\n",
       "      <td>0.333333</td>\n",
       "      <td>0.156707</td>\n",
       "      <td>0.230829</td>\n",
       "      <td>0.060410</td>\n",
       "      <td>0.198552</td>\n",
       "      <td>0.219831</td>\n",
       "      <td>500001.0</td>\n",
       "      <td>NEAR OCEAN</td>\n",
       "    </tr>\n",
       "    <tr>\n",
       "      <th>12423</th>\n",
       "      <td>0.626494</td>\n",
       "      <td>0.163830</td>\n",
       "      <td>0.686275</td>\n",
       "      <td>0.031240</td>\n",
       "      <td>0.036479</td>\n",
       "      <td>0.019847</td>\n",
       "      <td>0.038493</td>\n",
       "      <td>0.189246</td>\n",
       "      <td>258100.0</td>\n",
       "      <td>&lt;1H OCEAN</td>\n",
       "    </tr>\n",
       "    <tr>\n",
       "      <th>...</th>\n",
       "      <td>...</td>\n",
       "      <td>...</td>\n",
       "      <td>...</td>\n",
       "      <td>...</td>\n",
       "      <td>...</td>\n",
       "      <td>...</td>\n",
       "      <td>...</td>\n",
       "      <td>...</td>\n",
       "      <td>...</td>\n",
       "      <td>...</td>\n",
       "    </tr>\n",
       "    <tr>\n",
       "      <th>7703</th>\n",
       "      <td>0.751992</td>\n",
       "      <td>0.026596</td>\n",
       "      <td>0.196078</td>\n",
       "      <td>0.098273</td>\n",
       "      <td>0.087240</td>\n",
       "      <td>0.046618</td>\n",
       "      <td>0.089324</td>\n",
       "      <td>0.389526</td>\n",
       "      <td>274600.0</td>\n",
       "      <td>&lt;1H OCEAN</td>\n",
       "    </tr>\n",
       "    <tr>\n",
       "      <th>1162</th>\n",
       "      <td>0.613546</td>\n",
       "      <td>0.159574</td>\n",
       "      <td>0.823529</td>\n",
       "      <td>0.024575</td>\n",
       "      <td>0.040826</td>\n",
       "      <td>0.030135</td>\n",
       "      <td>0.042112</td>\n",
       "      <td>0.156612</td>\n",
       "      <td>127900.0</td>\n",
       "      <td>&lt;1H OCEAN</td>\n",
       "    </tr>\n",
       "    <tr>\n",
       "      <th>14701</th>\n",
       "      <td>0.600598</td>\n",
       "      <td>0.142553</td>\n",
       "      <td>0.862745</td>\n",
       "      <td>0.048767</td>\n",
       "      <td>0.069854</td>\n",
       "      <td>0.036835</td>\n",
       "      <td>0.074848</td>\n",
       "      <td>0.260783</td>\n",
       "      <td>210100.0</td>\n",
       "      <td>&lt;1H OCEAN</td>\n",
       "    </tr>\n",
       "    <tr>\n",
       "      <th>6728</th>\n",
       "      <td>0.723108</td>\n",
       "      <td>0.019149</td>\n",
       "      <td>0.490196</td>\n",
       "      <td>0.078939</td>\n",
       "      <td>0.106023</td>\n",
       "      <td>0.054355</td>\n",
       "      <td>0.108077</td>\n",
       "      <td>0.165122</td>\n",
       "      <td>124100.0</td>\n",
       "      <td>NEAR OCEAN</td>\n",
       "    </tr>\n",
       "    <tr>\n",
       "      <th>15312</th>\n",
       "      <td>0.357570</td>\n",
       "      <td>0.648936</td>\n",
       "      <td>0.313725</td>\n",
       "      <td>0.058714</td>\n",
       "      <td>0.066284</td>\n",
       "      <td>0.031312</td>\n",
       "      <td>0.060701</td>\n",
       "      <td>0.210425</td>\n",
       "      <td>155900.0</td>\n",
       "      <td>INLAND</td>\n",
       "    </tr>\n",
       "  </tbody>\n",
       "</table>\n",
       "<p>11435 rows × 10 columns</p>\n",
       "</div>"
      ],
      "text/plain": [
       "       longitude  latitude  housing_median_age  total_rooms  total_bedrooms  \\\n",
       "15073   0.712151  0.026596            0.686275     0.101936        0.165166   \n",
       "3945    0.495020  0.398936            0.254902     0.048869        0.050761   \n",
       "192     0.586653  0.181915            0.627451     0.034267        0.037876   \n",
       "783     0.509960  0.172340            0.333333     0.156707        0.230829   \n",
       "12423   0.626494  0.163830            0.686275     0.031240        0.036479   \n",
       "...          ...       ...                 ...          ...             ...   \n",
       "7703    0.751992  0.026596            0.196078     0.098273        0.087240   \n",
       "1162    0.613546  0.159574            0.823529     0.024575        0.040826   \n",
       "14701   0.600598  0.142553            0.862745     0.048767        0.069854   \n",
       "6728    0.723108  0.019149            0.490196     0.078939        0.106023   \n",
       "15312   0.357570  0.648936            0.313725     0.058714        0.066284   \n",
       "\n",
       "       population  households  median_income  median_house_value  \\\n",
       "15073    0.045160    0.138016       0.128274            168400.0   \n",
       "3945     0.027696    0.047376       0.219831             93200.0   \n",
       "192      0.020436    0.038164       0.316878            210300.0   \n",
       "783      0.060410    0.198552       0.219831            500001.0   \n",
       "12423    0.019847    0.038493       0.189246            258100.0   \n",
       "...           ...         ...            ...                 ...   \n",
       "7703     0.046618    0.089324       0.389526            274600.0   \n",
       "1162     0.030135    0.042112       0.156612            127900.0   \n",
       "14701    0.036835    0.074848       0.260783            210100.0   \n",
       "6728     0.054355    0.108077       0.165122            124100.0   \n",
       "15312    0.031312    0.060701       0.210425            155900.0   \n",
       "\n",
       "      ocean_proximity  \n",
       "15073      NEAR OCEAN  \n",
       "3945           INLAND  \n",
       "192         <1H OCEAN  \n",
       "783        NEAR OCEAN  \n",
       "12423       <1H OCEAN  \n",
       "...               ...  \n",
       "7703        <1H OCEAN  \n",
       "1162        <1H OCEAN  \n",
       "14701       <1H OCEAN  \n",
       "6728       NEAR OCEAN  \n",
       "15312          INLAND  \n",
       "\n",
       "[11435 rows x 10 columns]"
      ]
     },
     "execution_count": 44,
     "metadata": {},
     "output_type": "execute_result"
    }
   ],
   "source": [
    "immoSV_train"
   ]
  },
  {
   "cell_type": "code",
   "execution_count": 45,
   "id": "7bb73671",
   "metadata": {},
   "outputs": [],
   "source": [
    "immoSV_test[immoSV_num_columns_list] = ft_sc.transform(immoSV_test[immoSV_num_columns_list])"
   ]
  },
  {
   "cell_type": "code",
   "execution_count": 46,
   "id": "bc3d28bb",
   "metadata": {},
   "outputs": [],
   "source": [
    "# immoSV_test.drop(['housing_median_age','total_rooms','total_bedrooms','households'],axis=1, inplace=True)"
   ]
  },
  {
   "cell_type": "code",
   "execution_count": 47,
   "id": "12cb4831",
   "metadata": {},
   "outputs": [
    {
     "data": {
      "text/html": [
       "<div>\n",
       "<style scoped>\n",
       "    .dataframe tbody tr th:only-of-type {\n",
       "        vertical-align: middle;\n",
       "    }\n",
       "\n",
       "    .dataframe tbody tr th {\n",
       "        vertical-align: top;\n",
       "    }\n",
       "\n",
       "    .dataframe thead th {\n",
       "        text-align: right;\n",
       "    }\n",
       "</style>\n",
       "<table border=\"1\" class=\"dataframe\">\n",
       "  <thead>\n",
       "    <tr style=\"text-align: right;\">\n",
       "      <th></th>\n",
       "      <th>longitude</th>\n",
       "      <th>latitude</th>\n",
       "      <th>housing_median_age</th>\n",
       "      <th>total_rooms</th>\n",
       "      <th>total_bedrooms</th>\n",
       "      <th>population</th>\n",
       "      <th>households</th>\n",
       "      <th>median_income</th>\n",
       "      <th>median_house_value</th>\n",
       "      <th>ocean_proximity</th>\n",
       "    </tr>\n",
       "  </thead>\n",
       "  <tbody>\n",
       "    <tr>\n",
       "      <th>9603</th>\n",
       "      <td>0.396414</td>\n",
       "      <td>0.604255</td>\n",
       "      <td>0.235294</td>\n",
       "      <td>0.111679</td>\n",
       "      <td>0.128221</td>\n",
       "      <td>0.025650</td>\n",
       "      <td>0.062510</td>\n",
       "      <td>0.151329</td>\n",
       "      <td>123500.0</td>\n",
       "      <td>INLAND</td>\n",
       "    </tr>\n",
       "    <tr>\n",
       "      <th>13336</th>\n",
       "      <td>0.720120</td>\n",
       "      <td>0.003191</td>\n",
       "      <td>0.490196</td>\n",
       "      <td>0.034318</td>\n",
       "      <td>0.047501</td>\n",
       "      <td>0.024108</td>\n",
       "      <td>0.053463</td>\n",
       "      <td>0.173915</td>\n",
       "      <td>131600.0</td>\n",
       "      <td>NEAR OCEAN</td>\n",
       "    </tr>\n",
       "    <tr>\n",
       "      <th>6396</th>\n",
       "      <td>0.598606</td>\n",
       "      <td>0.146809</td>\n",
       "      <td>0.686275</td>\n",
       "      <td>0.038592</td>\n",
       "      <td>0.074977</td>\n",
       "      <td>0.050879</td>\n",
       "      <td>0.076822</td>\n",
       "      <td>0.121929</td>\n",
       "      <td>153900.0</td>\n",
       "      <td>&lt;1H OCEAN</td>\n",
       "    </tr>\n",
       "    <tr>\n",
       "      <th>2089</th>\n",
       "      <td>0.594622</td>\n",
       "      <td>0.148936</td>\n",
       "      <td>0.666667</td>\n",
       "      <td>0.082627</td>\n",
       "      <td>0.149643</td>\n",
       "      <td>0.055897</td>\n",
       "      <td>0.150847</td>\n",
       "      <td>0.191094</td>\n",
       "      <td>400000.0</td>\n",
       "      <td>&lt;1H OCEAN</td>\n",
       "    </tr>\n",
       "    <tr>\n",
       "      <th>10805</th>\n",
       "      <td>0.349602</td>\n",
       "      <td>0.524468</td>\n",
       "      <td>0.176471</td>\n",
       "      <td>0.072833</td>\n",
       "      <td>0.094536</td>\n",
       "      <td>0.054691</td>\n",
       "      <td>0.097549</td>\n",
       "      <td>0.154356</td>\n",
       "      <td>104600.0</td>\n",
       "      <td>INLAND</td>\n",
       "    </tr>\n",
       "    <tr>\n",
       "      <th>...</th>\n",
       "      <td>...</td>\n",
       "      <td>...</td>\n",
       "      <td>...</td>\n",
       "      <td>...</td>\n",
       "      <td>...</td>\n",
       "      <td>...</td>\n",
       "      <td>...</td>\n",
       "      <td>...</td>\n",
       "      <td>...</td>\n",
       "      <td>...</td>\n",
       "    </tr>\n",
       "    <tr>\n",
       "      <th>4924</th>\n",
       "      <td>0.305777</td>\n",
       "      <td>0.655319</td>\n",
       "      <td>0.137255</td>\n",
       "      <td>0.102826</td>\n",
       "      <td>0.141105</td>\n",
       "      <td>0.056738</td>\n",
       "      <td>0.147064</td>\n",
       "      <td>0.165336</td>\n",
       "      <td>117100.0</td>\n",
       "      <td>INLAND</td>\n",
       "    </tr>\n",
       "    <tr>\n",
       "      <th>3391</th>\n",
       "      <td>0.223108</td>\n",
       "      <td>0.546809</td>\n",
       "      <td>0.803922</td>\n",
       "      <td>0.037167</td>\n",
       "      <td>0.047656</td>\n",
       "      <td>0.021277</td>\n",
       "      <td>0.050337</td>\n",
       "      <td>0.204439</td>\n",
       "      <td>160900.0</td>\n",
       "      <td>NEAR BAY</td>\n",
       "    </tr>\n",
       "    <tr>\n",
       "      <th>10809</th>\n",
       "      <td>0.446215</td>\n",
       "      <td>0.451064</td>\n",
       "      <td>0.137255</td>\n",
       "      <td>0.072859</td>\n",
       "      <td>0.084601</td>\n",
       "      <td>0.047907</td>\n",
       "      <td>0.090146</td>\n",
       "      <td>0.217397</td>\n",
       "      <td>80200.0</td>\n",
       "      <td>INLAND</td>\n",
       "    </tr>\n",
       "    <tr>\n",
       "      <th>9818</th>\n",
       "      <td>0.719124</td>\n",
       "      <td>0.021277</td>\n",
       "      <td>0.588235</td>\n",
       "      <td>0.059147</td>\n",
       "      <td>0.101366</td>\n",
       "      <td>0.032994</td>\n",
       "      <td>0.099687</td>\n",
       "      <td>0.143950</td>\n",
       "      <td>130600.0</td>\n",
       "      <td>NEAR OCEAN</td>\n",
       "    </tr>\n",
       "    <tr>\n",
       "      <th>14996</th>\n",
       "      <td>0.302789</td>\n",
       "      <td>0.650000</td>\n",
       "      <td>0.490196</td>\n",
       "      <td>0.040525</td>\n",
       "      <td>0.037566</td>\n",
       "      <td>0.020800</td>\n",
       "      <td>0.043428</td>\n",
       "      <td>0.292286</td>\n",
       "      <td>140500.0</td>\n",
       "      <td>INLAND</td>\n",
       "    </tr>\n",
       "  </tbody>\n",
       "</table>\n",
       "<p>4901 rows × 10 columns</p>\n",
       "</div>"
      ],
      "text/plain": [
       "       longitude  latitude  housing_median_age  total_rooms  total_bedrooms  \\\n",
       "9603    0.396414  0.604255            0.235294     0.111679        0.128221   \n",
       "13336   0.720120  0.003191            0.490196     0.034318        0.047501   \n",
       "6396    0.598606  0.146809            0.686275     0.038592        0.074977   \n",
       "2089    0.594622  0.148936            0.666667     0.082627        0.149643   \n",
       "10805   0.349602  0.524468            0.176471     0.072833        0.094536   \n",
       "...          ...       ...                 ...          ...             ...   \n",
       "4924    0.305777  0.655319            0.137255     0.102826        0.141105   \n",
       "3391    0.223108  0.546809            0.803922     0.037167        0.047656   \n",
       "10809   0.446215  0.451064            0.137255     0.072859        0.084601   \n",
       "9818    0.719124  0.021277            0.588235     0.059147        0.101366   \n",
       "14996   0.302789  0.650000            0.490196     0.040525        0.037566   \n",
       "\n",
       "       population  households  median_income  median_house_value  \\\n",
       "9603     0.025650    0.062510       0.151329            123500.0   \n",
       "13336    0.024108    0.053463       0.173915            131600.0   \n",
       "6396     0.050879    0.076822       0.121929            153900.0   \n",
       "2089     0.055897    0.150847       0.191094            400000.0   \n",
       "10805    0.054691    0.097549       0.154356            104600.0   \n",
       "...           ...         ...            ...                 ...   \n",
       "4924     0.056738    0.147064       0.165336            117100.0   \n",
       "3391     0.021277    0.050337       0.204439            160900.0   \n",
       "10809    0.047907    0.090146       0.217397             80200.0   \n",
       "9818     0.032994    0.099687       0.143950            130600.0   \n",
       "14996    0.020800    0.043428       0.292286            140500.0   \n",
       "\n",
       "      ocean_proximity  \n",
       "9603           INLAND  \n",
       "13336      NEAR OCEAN  \n",
       "6396        <1H OCEAN  \n",
       "2089        <1H OCEAN  \n",
       "10805          INLAND  \n",
       "...               ...  \n",
       "4924           INLAND  \n",
       "3391         NEAR BAY  \n",
       "10809          INLAND  \n",
       "9818       NEAR OCEAN  \n",
       "14996          INLAND  \n",
       "\n",
       "[4901 rows x 10 columns]"
      ]
     },
     "execution_count": 47,
     "metadata": {},
     "output_type": "execute_result"
    }
   ],
   "source": [
    "immoSV_test"
   ]
  },
  {
   "cell_type": "code",
   "execution_count": 48,
   "id": "d0fe3d42",
   "metadata": {},
   "outputs": [],
   "source": [
    "immoSV_train_sc = immoSV_train.copy()\n",
    "immoSV_test_sc = immoSV_test.copy()"
   ]
  },
  {
   "cell_type": "code",
   "execution_count": 49,
   "id": "4b59febd",
   "metadata": {},
   "outputs": [
    {
     "data": {
      "text/plain": [
       "(11435, 10)"
      ]
     },
     "execution_count": 49,
     "metadata": {},
     "output_type": "execute_result"
    }
   ],
   "source": [
    "immoSV_train_sc.shape"
   ]
  },
  {
   "cell_type": "code",
   "execution_count": 50,
   "id": "113b9baf",
   "metadata": {},
   "outputs": [
    {
     "data": {
      "text/plain": [
       "(4901, 10)"
      ]
     },
     "execution_count": 50,
     "metadata": {},
     "output_type": "execute_result"
    }
   ],
   "source": [
    "immoSV_test_sc.shape"
   ]
  },
  {
   "cell_type": "markdown",
   "id": "f5884e8a",
   "metadata": {},
   "source": [
    "### Encoding par OneHotEncoder"
   ]
  },
  {
   "cell_type": "code",
   "execution_count": 51,
   "id": "a9873cdc",
   "metadata": {},
   "outputs": [],
   "source": [
    "enc = OneHotEncoder(handle_unknown='ignore')\n",
    "enc_df = enc.fit(immoSV_train_sc[['ocean_proximity']])\n",
    "enc_df = pd.DataFrame(enc.transform(immoSV_train_sc[['ocean_proximity']]).toarray())"
   ]
  },
  {
   "cell_type": "code",
   "execution_count": 52,
   "id": "22e41180",
   "metadata": {},
   "outputs": [
    {
     "data": {
      "text/plain": [
       "(11435, 5)"
      ]
     },
     "execution_count": 52,
     "metadata": {},
     "output_type": "execute_result"
    }
   ],
   "source": [
    "enc_df.shape"
   ]
  },
  {
   "cell_type": "code",
   "execution_count": 53,
   "id": "b59e48b8",
   "metadata": {},
   "outputs": [
    {
     "data": {
      "text/plain": [
       "(11435, 10)"
      ]
     },
     "execution_count": 53,
     "metadata": {},
     "output_type": "execute_result"
    }
   ],
   "source": [
    "immoSV_train_sc.shape"
   ]
  },
  {
   "cell_type": "code",
   "execution_count": 54,
   "id": "975aa08e",
   "metadata": {},
   "outputs": [
    {
     "data": {
      "text/html": [
       "<div>\n",
       "<style scoped>\n",
       "    .dataframe tbody tr th:only-of-type {\n",
       "        vertical-align: middle;\n",
       "    }\n",
       "\n",
       "    .dataframe tbody tr th {\n",
       "        vertical-align: top;\n",
       "    }\n",
       "\n",
       "    .dataframe thead th {\n",
       "        text-align: right;\n",
       "    }\n",
       "</style>\n",
       "<table border=\"1\" class=\"dataframe\">\n",
       "  <thead>\n",
       "    <tr style=\"text-align: right;\">\n",
       "      <th></th>\n",
       "      <th>longitude</th>\n",
       "      <th>latitude</th>\n",
       "      <th>housing_median_age</th>\n",
       "      <th>total_rooms</th>\n",
       "      <th>total_bedrooms</th>\n",
       "      <th>population</th>\n",
       "      <th>households</th>\n",
       "      <th>median_income</th>\n",
       "      <th>median_house_value</th>\n",
       "      <th>NEAR_OCEAN</th>\n",
       "      <th>NEAR_BAY</th>\n",
       "      <th>ISLAND</th>\n",
       "      <th>INLAND</th>\n",
       "      <th>H_OCEAN</th>\n",
       "    </tr>\n",
       "  </thead>\n",
       "  <tbody>\n",
       "    <tr>\n",
       "      <th>0</th>\n",
       "      <td>0.712151</td>\n",
       "      <td>0.026596</td>\n",
       "      <td>0.686275</td>\n",
       "      <td>0.101936</td>\n",
       "      <td>0.165166</td>\n",
       "      <td>0.045160</td>\n",
       "      <td>0.138016</td>\n",
       "      <td>0.128274</td>\n",
       "      <td>168400.0</td>\n",
       "      <td>0.0</td>\n",
       "      <td>0.0</td>\n",
       "      <td>0.0</td>\n",
       "      <td>0.0</td>\n",
       "      <td>1.0</td>\n",
       "    </tr>\n",
       "    <tr>\n",
       "      <th>1</th>\n",
       "      <td>0.495020</td>\n",
       "      <td>0.398936</td>\n",
       "      <td>0.254902</td>\n",
       "      <td>0.048869</td>\n",
       "      <td>0.050761</td>\n",
       "      <td>0.027696</td>\n",
       "      <td>0.047376</td>\n",
       "      <td>0.219831</td>\n",
       "      <td>93200.0</td>\n",
       "      <td>0.0</td>\n",
       "      <td>1.0</td>\n",
       "      <td>0.0</td>\n",
       "      <td>0.0</td>\n",
       "      <td>0.0</td>\n",
       "    </tr>\n",
       "    <tr>\n",
       "      <th>2</th>\n",
       "      <td>0.586653</td>\n",
       "      <td>0.181915</td>\n",
       "      <td>0.627451</td>\n",
       "      <td>0.034267</td>\n",
       "      <td>0.037876</td>\n",
       "      <td>0.020436</td>\n",
       "      <td>0.038164</td>\n",
       "      <td>0.316878</td>\n",
       "      <td>210300.0</td>\n",
       "      <td>1.0</td>\n",
       "      <td>0.0</td>\n",
       "      <td>0.0</td>\n",
       "      <td>0.0</td>\n",
       "      <td>0.0</td>\n",
       "    </tr>\n",
       "    <tr>\n",
       "      <th>3</th>\n",
       "      <td>0.509960</td>\n",
       "      <td>0.172340</td>\n",
       "      <td>0.333333</td>\n",
       "      <td>0.156707</td>\n",
       "      <td>0.230829</td>\n",
       "      <td>0.060410</td>\n",
       "      <td>0.198552</td>\n",
       "      <td>0.219831</td>\n",
       "      <td>500001.0</td>\n",
       "      <td>0.0</td>\n",
       "      <td>0.0</td>\n",
       "      <td>0.0</td>\n",
       "      <td>0.0</td>\n",
       "      <td>1.0</td>\n",
       "    </tr>\n",
       "    <tr>\n",
       "      <th>4</th>\n",
       "      <td>0.626494</td>\n",
       "      <td>0.163830</td>\n",
       "      <td>0.686275</td>\n",
       "      <td>0.031240</td>\n",
       "      <td>0.036479</td>\n",
       "      <td>0.019847</td>\n",
       "      <td>0.038493</td>\n",
       "      <td>0.189246</td>\n",
       "      <td>258100.0</td>\n",
       "      <td>1.0</td>\n",
       "      <td>0.0</td>\n",
       "      <td>0.0</td>\n",
       "      <td>0.0</td>\n",
       "      <td>0.0</td>\n",
       "    </tr>\n",
       "    <tr>\n",
       "      <th>...</th>\n",
       "      <td>...</td>\n",
       "      <td>...</td>\n",
       "      <td>...</td>\n",
       "      <td>...</td>\n",
       "      <td>...</td>\n",
       "      <td>...</td>\n",
       "      <td>...</td>\n",
       "      <td>...</td>\n",
       "      <td>...</td>\n",
       "      <td>...</td>\n",
       "      <td>...</td>\n",
       "      <td>...</td>\n",
       "      <td>...</td>\n",
       "      <td>...</td>\n",
       "    </tr>\n",
       "    <tr>\n",
       "      <th>11430</th>\n",
       "      <td>0.751992</td>\n",
       "      <td>0.026596</td>\n",
       "      <td>0.196078</td>\n",
       "      <td>0.098273</td>\n",
       "      <td>0.087240</td>\n",
       "      <td>0.046618</td>\n",
       "      <td>0.089324</td>\n",
       "      <td>0.389526</td>\n",
       "      <td>274600.0</td>\n",
       "      <td>1.0</td>\n",
       "      <td>0.0</td>\n",
       "      <td>0.0</td>\n",
       "      <td>0.0</td>\n",
       "      <td>0.0</td>\n",
       "    </tr>\n",
       "    <tr>\n",
       "      <th>11431</th>\n",
       "      <td>0.613546</td>\n",
       "      <td>0.159574</td>\n",
       "      <td>0.823529</td>\n",
       "      <td>0.024575</td>\n",
       "      <td>0.040826</td>\n",
       "      <td>0.030135</td>\n",
       "      <td>0.042112</td>\n",
       "      <td>0.156612</td>\n",
       "      <td>127900.0</td>\n",
       "      <td>1.0</td>\n",
       "      <td>0.0</td>\n",
       "      <td>0.0</td>\n",
       "      <td>0.0</td>\n",
       "      <td>0.0</td>\n",
       "    </tr>\n",
       "    <tr>\n",
       "      <th>11432</th>\n",
       "      <td>0.600598</td>\n",
       "      <td>0.142553</td>\n",
       "      <td>0.862745</td>\n",
       "      <td>0.048767</td>\n",
       "      <td>0.069854</td>\n",
       "      <td>0.036835</td>\n",
       "      <td>0.074848</td>\n",
       "      <td>0.260783</td>\n",
       "      <td>210100.0</td>\n",
       "      <td>1.0</td>\n",
       "      <td>0.0</td>\n",
       "      <td>0.0</td>\n",
       "      <td>0.0</td>\n",
       "      <td>0.0</td>\n",
       "    </tr>\n",
       "    <tr>\n",
       "      <th>11433</th>\n",
       "      <td>0.723108</td>\n",
       "      <td>0.019149</td>\n",
       "      <td>0.490196</td>\n",
       "      <td>0.078939</td>\n",
       "      <td>0.106023</td>\n",
       "      <td>0.054355</td>\n",
       "      <td>0.108077</td>\n",
       "      <td>0.165122</td>\n",
       "      <td>124100.0</td>\n",
       "      <td>0.0</td>\n",
       "      <td>0.0</td>\n",
       "      <td>0.0</td>\n",
       "      <td>0.0</td>\n",
       "      <td>1.0</td>\n",
       "    </tr>\n",
       "    <tr>\n",
       "      <th>11434</th>\n",
       "      <td>0.357570</td>\n",
       "      <td>0.648936</td>\n",
       "      <td>0.313725</td>\n",
       "      <td>0.058714</td>\n",
       "      <td>0.066284</td>\n",
       "      <td>0.031312</td>\n",
       "      <td>0.060701</td>\n",
       "      <td>0.210425</td>\n",
       "      <td>155900.0</td>\n",
       "      <td>0.0</td>\n",
       "      <td>1.0</td>\n",
       "      <td>0.0</td>\n",
       "      <td>0.0</td>\n",
       "      <td>0.0</td>\n",
       "    </tr>\n",
       "  </tbody>\n",
       "</table>\n",
       "<p>11435 rows × 14 columns</p>\n",
       "</div>"
      ],
      "text/plain": [
       "       longitude  latitude  housing_median_age  total_rooms  total_bedrooms  \\\n",
       "0       0.712151  0.026596            0.686275     0.101936        0.165166   \n",
       "1       0.495020  0.398936            0.254902     0.048869        0.050761   \n",
       "2       0.586653  0.181915            0.627451     0.034267        0.037876   \n",
       "3       0.509960  0.172340            0.333333     0.156707        0.230829   \n",
       "4       0.626494  0.163830            0.686275     0.031240        0.036479   \n",
       "...          ...       ...                 ...          ...             ...   \n",
       "11430   0.751992  0.026596            0.196078     0.098273        0.087240   \n",
       "11431   0.613546  0.159574            0.823529     0.024575        0.040826   \n",
       "11432   0.600598  0.142553            0.862745     0.048767        0.069854   \n",
       "11433   0.723108  0.019149            0.490196     0.078939        0.106023   \n",
       "11434   0.357570  0.648936            0.313725     0.058714        0.066284   \n",
       "\n",
       "       population  households  median_income  median_house_value  NEAR_OCEAN  \\\n",
       "0        0.045160    0.138016       0.128274            168400.0         0.0   \n",
       "1        0.027696    0.047376       0.219831             93200.0         0.0   \n",
       "2        0.020436    0.038164       0.316878            210300.0         1.0   \n",
       "3        0.060410    0.198552       0.219831            500001.0         0.0   \n",
       "4        0.019847    0.038493       0.189246            258100.0         1.0   \n",
       "...           ...         ...            ...                 ...         ...   \n",
       "11430    0.046618    0.089324       0.389526            274600.0         1.0   \n",
       "11431    0.030135    0.042112       0.156612            127900.0         1.0   \n",
       "11432    0.036835    0.074848       0.260783            210100.0         1.0   \n",
       "11433    0.054355    0.108077       0.165122            124100.0         0.0   \n",
       "11434    0.031312    0.060701       0.210425            155900.0         0.0   \n",
       "\n",
       "       NEAR_BAY  ISLAND  INLAND  H_OCEAN  \n",
       "0           0.0     0.0     0.0      1.0  \n",
       "1           1.0     0.0     0.0      0.0  \n",
       "2           0.0     0.0     0.0      0.0  \n",
       "3           0.0     0.0     0.0      1.0  \n",
       "4           0.0     0.0     0.0      0.0  \n",
       "...         ...     ...     ...      ...  \n",
       "11430       0.0     0.0     0.0      0.0  \n",
       "11431       0.0     0.0     0.0      0.0  \n",
       "11432       0.0     0.0     0.0      0.0  \n",
       "11433       0.0     0.0     0.0      1.0  \n",
       "11434       1.0     0.0     0.0      0.0  \n",
       "\n",
       "[11435 rows x 14 columns]"
      ]
     },
     "execution_count": 54,
     "metadata": {},
     "output_type": "execute_result"
    }
   ],
   "source": [
    "immoSV_train_sc = immoSV_train_sc.reset_index()\n",
    "immoSV_train_sc = immoSV_train_sc.merge(enc_df,how='inner', on=immoSV_train_sc[\"index\"])\n",
    "immoSV_train_sc = immoSV_train_sc.drop(['key_0','index','ocean_proximity'], axis=1)\n",
    "immoSV_train_sc.rename({0: 'NEAR_OCEAN', 1: 'NEAR_BAY',2: 'ISLAND', 3: 'INLAND', 4: 'H_OCEAN'}, inplace=True, axis=1)\n",
    "immoSV_train_sc"
   ]
  },
  {
   "cell_type": "code",
   "execution_count": 55,
   "id": "566e63c0",
   "metadata": {},
   "outputs": [],
   "source": [
    "enc_df = pd.DataFrame(enc.transform(immoSV_test_sc[['ocean_proximity']]).toarray())"
   ]
  },
  {
   "cell_type": "code",
   "execution_count": 56,
   "id": "961c279b",
   "metadata": {},
   "outputs": [
    {
     "data": {
      "text/plain": [
       "(4901, 5)"
      ]
     },
     "execution_count": 56,
     "metadata": {},
     "output_type": "execute_result"
    }
   ],
   "source": [
    "enc_df.shape"
   ]
  },
  {
   "cell_type": "code",
   "execution_count": 57,
   "id": "01c2bed7",
   "metadata": {},
   "outputs": [
    {
     "data": {
      "text/html": [
       "<div>\n",
       "<style scoped>\n",
       "    .dataframe tbody tr th:only-of-type {\n",
       "        vertical-align: middle;\n",
       "    }\n",
       "\n",
       "    .dataframe tbody tr th {\n",
       "        vertical-align: top;\n",
       "    }\n",
       "\n",
       "    .dataframe thead th {\n",
       "        text-align: right;\n",
       "    }\n",
       "</style>\n",
       "<table border=\"1\" class=\"dataframe\">\n",
       "  <thead>\n",
       "    <tr style=\"text-align: right;\">\n",
       "      <th></th>\n",
       "      <th>longitude</th>\n",
       "      <th>latitude</th>\n",
       "      <th>housing_median_age</th>\n",
       "      <th>total_rooms</th>\n",
       "      <th>total_bedrooms</th>\n",
       "      <th>population</th>\n",
       "      <th>households</th>\n",
       "      <th>median_income</th>\n",
       "      <th>median_house_value</th>\n",
       "      <th>NEAR_OCEAN</th>\n",
       "      <th>NEAR_BAY</th>\n",
       "      <th>ISLAND</th>\n",
       "      <th>INLAND</th>\n",
       "      <th>H_OCEAN</th>\n",
       "    </tr>\n",
       "  </thead>\n",
       "  <tbody>\n",
       "    <tr>\n",
       "      <th>0</th>\n",
       "      <td>0.396414</td>\n",
       "      <td>0.604255</td>\n",
       "      <td>0.235294</td>\n",
       "      <td>0.111679</td>\n",
       "      <td>0.128221</td>\n",
       "      <td>0.025650</td>\n",
       "      <td>0.062510</td>\n",
       "      <td>0.151329</td>\n",
       "      <td>123500.0</td>\n",
       "      <td>0.0</td>\n",
       "      <td>1.0</td>\n",
       "      <td>0.0</td>\n",
       "      <td>0.0</td>\n",
       "      <td>0.0</td>\n",
       "    </tr>\n",
       "    <tr>\n",
       "      <th>1</th>\n",
       "      <td>0.720120</td>\n",
       "      <td>0.003191</td>\n",
       "      <td>0.490196</td>\n",
       "      <td>0.034318</td>\n",
       "      <td>0.047501</td>\n",
       "      <td>0.024108</td>\n",
       "      <td>0.053463</td>\n",
       "      <td>0.173915</td>\n",
       "      <td>131600.0</td>\n",
       "      <td>0.0</td>\n",
       "      <td>0.0</td>\n",
       "      <td>0.0</td>\n",
       "      <td>0.0</td>\n",
       "      <td>1.0</td>\n",
       "    </tr>\n",
       "    <tr>\n",
       "      <th>2</th>\n",
       "      <td>0.598606</td>\n",
       "      <td>0.146809</td>\n",
       "      <td>0.686275</td>\n",
       "      <td>0.038592</td>\n",
       "      <td>0.074977</td>\n",
       "      <td>0.050879</td>\n",
       "      <td>0.076822</td>\n",
       "      <td>0.121929</td>\n",
       "      <td>153900.0</td>\n",
       "      <td>1.0</td>\n",
       "      <td>0.0</td>\n",
       "      <td>0.0</td>\n",
       "      <td>0.0</td>\n",
       "      <td>0.0</td>\n",
       "    </tr>\n",
       "    <tr>\n",
       "      <th>3</th>\n",
       "      <td>0.594622</td>\n",
       "      <td>0.148936</td>\n",
       "      <td>0.666667</td>\n",
       "      <td>0.082627</td>\n",
       "      <td>0.149643</td>\n",
       "      <td>0.055897</td>\n",
       "      <td>0.150847</td>\n",
       "      <td>0.191094</td>\n",
       "      <td>400000.0</td>\n",
       "      <td>1.0</td>\n",
       "      <td>0.0</td>\n",
       "      <td>0.0</td>\n",
       "      <td>0.0</td>\n",
       "      <td>0.0</td>\n",
       "    </tr>\n",
       "    <tr>\n",
       "      <th>4</th>\n",
       "      <td>0.349602</td>\n",
       "      <td>0.524468</td>\n",
       "      <td>0.176471</td>\n",
       "      <td>0.072833</td>\n",
       "      <td>0.094536</td>\n",
       "      <td>0.054691</td>\n",
       "      <td>0.097549</td>\n",
       "      <td>0.154356</td>\n",
       "      <td>104600.0</td>\n",
       "      <td>0.0</td>\n",
       "      <td>1.0</td>\n",
       "      <td>0.0</td>\n",
       "      <td>0.0</td>\n",
       "      <td>0.0</td>\n",
       "    </tr>\n",
       "    <tr>\n",
       "      <th>...</th>\n",
       "      <td>...</td>\n",
       "      <td>...</td>\n",
       "      <td>...</td>\n",
       "      <td>...</td>\n",
       "      <td>...</td>\n",
       "      <td>...</td>\n",
       "      <td>...</td>\n",
       "      <td>...</td>\n",
       "      <td>...</td>\n",
       "      <td>...</td>\n",
       "      <td>...</td>\n",
       "      <td>...</td>\n",
       "      <td>...</td>\n",
       "      <td>...</td>\n",
       "    </tr>\n",
       "    <tr>\n",
       "      <th>4896</th>\n",
       "      <td>0.305777</td>\n",
       "      <td>0.655319</td>\n",
       "      <td>0.137255</td>\n",
       "      <td>0.102826</td>\n",
       "      <td>0.141105</td>\n",
       "      <td>0.056738</td>\n",
       "      <td>0.147064</td>\n",
       "      <td>0.165336</td>\n",
       "      <td>117100.0</td>\n",
       "      <td>0.0</td>\n",
       "      <td>1.0</td>\n",
       "      <td>0.0</td>\n",
       "      <td>0.0</td>\n",
       "      <td>0.0</td>\n",
       "    </tr>\n",
       "    <tr>\n",
       "      <th>4897</th>\n",
       "      <td>0.223108</td>\n",
       "      <td>0.546809</td>\n",
       "      <td>0.803922</td>\n",
       "      <td>0.037167</td>\n",
       "      <td>0.047656</td>\n",
       "      <td>0.021277</td>\n",
       "      <td>0.050337</td>\n",
       "      <td>0.204439</td>\n",
       "      <td>160900.0</td>\n",
       "      <td>0.0</td>\n",
       "      <td>0.0</td>\n",
       "      <td>0.0</td>\n",
       "      <td>1.0</td>\n",
       "      <td>0.0</td>\n",
       "    </tr>\n",
       "    <tr>\n",
       "      <th>4898</th>\n",
       "      <td>0.446215</td>\n",
       "      <td>0.451064</td>\n",
       "      <td>0.137255</td>\n",
       "      <td>0.072859</td>\n",
       "      <td>0.084601</td>\n",
       "      <td>0.047907</td>\n",
       "      <td>0.090146</td>\n",
       "      <td>0.217397</td>\n",
       "      <td>80200.0</td>\n",
       "      <td>0.0</td>\n",
       "      <td>1.0</td>\n",
       "      <td>0.0</td>\n",
       "      <td>0.0</td>\n",
       "      <td>0.0</td>\n",
       "    </tr>\n",
       "    <tr>\n",
       "      <th>4899</th>\n",
       "      <td>0.719124</td>\n",
       "      <td>0.021277</td>\n",
       "      <td>0.588235</td>\n",
       "      <td>0.059147</td>\n",
       "      <td>0.101366</td>\n",
       "      <td>0.032994</td>\n",
       "      <td>0.099687</td>\n",
       "      <td>0.143950</td>\n",
       "      <td>130600.0</td>\n",
       "      <td>0.0</td>\n",
       "      <td>0.0</td>\n",
       "      <td>0.0</td>\n",
       "      <td>0.0</td>\n",
       "      <td>1.0</td>\n",
       "    </tr>\n",
       "    <tr>\n",
       "      <th>4900</th>\n",
       "      <td>0.302789</td>\n",
       "      <td>0.650000</td>\n",
       "      <td>0.490196</td>\n",
       "      <td>0.040525</td>\n",
       "      <td>0.037566</td>\n",
       "      <td>0.020800</td>\n",
       "      <td>0.043428</td>\n",
       "      <td>0.292286</td>\n",
       "      <td>140500.0</td>\n",
       "      <td>0.0</td>\n",
       "      <td>1.0</td>\n",
       "      <td>0.0</td>\n",
       "      <td>0.0</td>\n",
       "      <td>0.0</td>\n",
       "    </tr>\n",
       "  </tbody>\n",
       "</table>\n",
       "<p>4901 rows × 14 columns</p>\n",
       "</div>"
      ],
      "text/plain": [
       "      longitude  latitude  housing_median_age  total_rooms  total_bedrooms  \\\n",
       "0      0.396414  0.604255            0.235294     0.111679        0.128221   \n",
       "1      0.720120  0.003191            0.490196     0.034318        0.047501   \n",
       "2      0.598606  0.146809            0.686275     0.038592        0.074977   \n",
       "3      0.594622  0.148936            0.666667     0.082627        0.149643   \n",
       "4      0.349602  0.524468            0.176471     0.072833        0.094536   \n",
       "...         ...       ...                 ...          ...             ...   \n",
       "4896   0.305777  0.655319            0.137255     0.102826        0.141105   \n",
       "4897   0.223108  0.546809            0.803922     0.037167        0.047656   \n",
       "4898   0.446215  0.451064            0.137255     0.072859        0.084601   \n",
       "4899   0.719124  0.021277            0.588235     0.059147        0.101366   \n",
       "4900   0.302789  0.650000            0.490196     0.040525        0.037566   \n",
       "\n",
       "      population  households  median_income  median_house_value  NEAR_OCEAN  \\\n",
       "0       0.025650    0.062510       0.151329            123500.0         0.0   \n",
       "1       0.024108    0.053463       0.173915            131600.0         0.0   \n",
       "2       0.050879    0.076822       0.121929            153900.0         1.0   \n",
       "3       0.055897    0.150847       0.191094            400000.0         1.0   \n",
       "4       0.054691    0.097549       0.154356            104600.0         0.0   \n",
       "...          ...         ...            ...                 ...         ...   \n",
       "4896    0.056738    0.147064       0.165336            117100.0         0.0   \n",
       "4897    0.021277    0.050337       0.204439            160900.0         0.0   \n",
       "4898    0.047907    0.090146       0.217397             80200.0         0.0   \n",
       "4899    0.032994    0.099687       0.143950            130600.0         0.0   \n",
       "4900    0.020800    0.043428       0.292286            140500.0         0.0   \n",
       "\n",
       "      NEAR_BAY  ISLAND  INLAND  H_OCEAN  \n",
       "0          1.0     0.0     0.0      0.0  \n",
       "1          0.0     0.0     0.0      1.0  \n",
       "2          0.0     0.0     0.0      0.0  \n",
       "3          0.0     0.0     0.0      0.0  \n",
       "4          1.0     0.0     0.0      0.0  \n",
       "...        ...     ...     ...      ...  \n",
       "4896       1.0     0.0     0.0      0.0  \n",
       "4897       0.0     0.0     1.0      0.0  \n",
       "4898       1.0     0.0     0.0      0.0  \n",
       "4899       0.0     0.0     0.0      1.0  \n",
       "4900       1.0     0.0     0.0      0.0  \n",
       "\n",
       "[4901 rows x 14 columns]"
      ]
     },
     "execution_count": 57,
     "metadata": {},
     "output_type": "execute_result"
    }
   ],
   "source": [
    "immoSV_test_sc = immoSV_test_sc.reset_index()\n",
    "immoSV_test_sc = immoSV_test_sc.merge(enc_df,how='inner', on=immoSV_test_sc[\"index\"])\n",
    "immoSV_test_sc = immoSV_test_sc.drop(['key_0','index','ocean_proximity'], axis=1)\n",
    "immoSV_test_sc.rename({0: 'NEAR_OCEAN', 1: 'NEAR_BAY',2: 'ISLAND', 3: 'INLAND', 4: 'H_OCEAN'}, inplace=True, axis=1)\n",
    "immoSV_test_sc"
   ]
  },
  {
   "cell_type": "code",
   "execution_count": 58,
   "id": "9c62ac1e",
   "metadata": {},
   "outputs": [],
   "source": [
    "immoSV_train_enc = immoSV_train_sc.copy()\n",
    "immoSV_test_enc = immoSV_test_sc.copy()"
   ]
  },
  {
   "cell_type": "markdown",
   "id": "a144f344",
   "metadata": {},
   "source": [
    "### Definition X et y"
   ]
  },
  {
   "cell_type": "code",
   "execution_count": 220,
   "id": "e953cb10",
   "metadata": {},
   "outputs": [],
   "source": [
    "# X = df.drop([\"median_house_value\"], axis=1)\n",
    "# y = df[[\"median_house_value\"]]"
   ]
  },
  {
   "cell_type": "markdown",
   "id": "168fb1fb",
   "metadata": {},
   "source": [
    "### Modelisation"
   ]
  },
  {
   "cell_type": "code",
   "execution_count": 59,
   "id": "24d9963c",
   "metadata": {},
   "outputs": [],
   "source": [
    "X_train = immoSV_train_enc.drop([\"median_house_value\"], axis=1)\n",
    "X_test = immoSV_test_enc.drop([\"median_house_value\"], axis=1)\n",
    "y_train = immoSV_train_enc[[\"median_house_value\"]]\n",
    "y_test = immoSV_test_enc[[\"median_house_value\"]]"
   ]
  },
  {
   "cell_type": "code",
   "execution_count": 60,
   "id": "b228db19",
   "metadata": {},
   "outputs": [],
   "source": [
    "model = KNeighborsRegressor()"
   ]
  },
  {
   "cell_type": "code",
   "execution_count": 339,
   "id": "6f3910e2",
   "metadata": {},
   "outputs": [],
   "source": [
    "# # 5-Fold Cross validate model\n",
    "# cv_results = cross_validate(model, X, y, cv=5)\n",
    "# # obtain the mean of scores\n",
    "# cv_results['test_score'].mean()"
   ]
  },
  {
   "cell_type": "code",
   "execution_count": 61,
   "id": "ef361c47",
   "metadata": {},
   "outputs": [
    {
     "name": "stderr",
     "output_type": "stream",
     "text": [
      "2023/01/25 16:56:35 INFO mlflow.utils.autologging_utils: Created MLflow autologging run with ID 'f4836fd9e3504c80bfef69ece2fc179a', which will track hyperparameters, performance metrics, model artifacts, and lineage information for the current sklearn workflow\n"
     ]
    },
    {
     "name": "stdout",
     "output_type": "stream",
     "text": [
      "Train score : 0.8035350431959597\n",
      "Test score : 0.683921429144692\n"
     ]
    }
   ],
   "source": [
    "model.fit(X_train,y_train)\n",
    "model.predict(X_test)\n",
    "print(f\"Train score : {model.score(X_train, y_train)}\")\n",
    "print(f\"Test score : {model.score(X_test, y_test)}\")"
   ]
  },
  {
   "cell_type": "code",
   "execution_count": 62,
   "id": "bd8e7d88",
   "metadata": {},
   "outputs": [
    {
     "name": "stdout",
     "output_type": "stream",
     "text": [
      "MSE : 4208337858.1643987\n",
      "RMSE : 64871.70306200076\n",
      "MAE : 43787.257090389714\n"
     ]
    }
   ],
   "source": [
    "y_pred = model.predict(X_test)\n",
    "print(f\"MSE : {mean_squared_error(y_test, y_pred)}\")\n",
    "print(f\"RMSE : {np.sqrt(mean_squared_error(y_test, y_pred))}\")\n",
    "print(f\"MAE : {mean_absolute_error(y_test, y_pred)}\")"
   ]
  },
  {
   "cell_type": "code",
   "execution_count": 63,
   "id": "cc6e1936",
   "metadata": {},
   "outputs": [
    {
     "name": "stdout",
     "output_type": "stream",
     "text": [
      "R² : 0.6935006628722711\n",
      "MSE : 4066474631.9334464\n",
      "RMSE : 63751.188322232665\n",
      "MAE : 43347.85612592917\n"
     ]
    }
   ],
   "source": [
    "print(f\"R² : {cross_val_score(model,X_train, y_train,cv=KFold(n_splits=5, shuffle=True, random_state=101),scoring='r2').mean()}\")\n",
    "print(f\"MSE : {-cross_val_score(model,X_train, y_train,cv=KFold(n_splits=5, shuffle=True, random_state=101),scoring='neg_mean_squared_error').mean()}\")\n",
    "print(f\"RMSE : {-cross_val_score(model,X_train, y_train,cv=KFold(n_splits=5, shuffle=True, random_state=101),scoring='neg_root_mean_squared_error').mean()}\")\n",
    "print(f\"MAE : {-cross_val_score(model,X_train, y_train,cv=KFold(n_splits=5, shuffle=True, random_state=101),scoring='neg_mean_absolute_error').mean()}\")"
   ]
  },
  {
   "cell_type": "code",
   "execution_count": 346,
   "id": "4a175d82",
   "metadata": {
    "scrolled": false
   },
   "outputs": [
    {
     "name": "stdout",
     "output_type": "stream",
     "text": [
      "Wall time: 7min 23s\n"
     ]
    },
    {
     "data": {
      "text/html": [
       "<div>\n",
       "<style scoped>\n",
       "    .dataframe tbody tr th:only-of-type {\n",
       "        vertical-align: middle;\n",
       "    }\n",
       "\n",
       "    .dataframe tbody tr th {\n",
       "        vertical-align: top;\n",
       "    }\n",
       "\n",
       "    .dataframe thead th {\n",
       "        text-align: right;\n",
       "    }\n",
       "</style>\n",
       "<table border=\"1\" class=\"dataframe\">\n",
       "  <thead>\n",
       "    <tr style=\"text-align: right;\">\n",
       "      <th></th>\n",
       "      <th>feature</th>\n",
       "      <th>feature importance</th>\n",
       "    </tr>\n",
       "  </thead>\n",
       "  <tbody>\n",
       "    <tr>\n",
       "      <th>7</th>\n",
       "      <td>median_income</td>\n",
       "      <td>0.696361</td>\n",
       "    </tr>\n",
       "    <tr>\n",
       "      <th>1</th>\n",
       "      <td>latitude</td>\n",
       "      <td>0.189514</td>\n",
       "    </tr>\n",
       "    <tr>\n",
       "      <th>0</th>\n",
       "      <td>longitude</td>\n",
       "      <td>0.188491</td>\n",
       "    </tr>\n",
       "    <tr>\n",
       "      <th>2</th>\n",
       "      <td>housing_median_age</td>\n",
       "      <td>0.122081</td>\n",
       "    </tr>\n",
       "    <tr>\n",
       "      <th>4</th>\n",
       "      <td>total_bedrooms</td>\n",
       "      <td>0.0324433</td>\n",
       "    </tr>\n",
       "    <tr>\n",
       "      <th>5</th>\n",
       "      <td>population</td>\n",
       "      <td>0.0257734</td>\n",
       "    </tr>\n",
       "    <tr>\n",
       "      <th>6</th>\n",
       "      <td>households</td>\n",
       "      <td>0.019975</td>\n",
       "    </tr>\n",
       "    <tr>\n",
       "      <th>3</th>\n",
       "      <td>total_rooms</td>\n",
       "      <td>0.0131713</td>\n",
       "    </tr>\n",
       "    <tr>\n",
       "      <th>12</th>\n",
       "      <td>H_OCEAN</td>\n",
       "      <td>0.00833091</td>\n",
       "    </tr>\n",
       "    <tr>\n",
       "      <th>9</th>\n",
       "      <td>NEAR_BAY</td>\n",
       "      <td>0.00302384</td>\n",
       "    </tr>\n",
       "    <tr>\n",
       "      <th>8</th>\n",
       "      <td>NEAR_OCEAN</td>\n",
       "      <td>0.00248949</td>\n",
       "    </tr>\n",
       "    <tr>\n",
       "      <th>10</th>\n",
       "      <td>ISLAND</td>\n",
       "      <td>0</td>\n",
       "    </tr>\n",
       "    <tr>\n",
       "      <th>11</th>\n",
       "      <td>INLAND</td>\n",
       "      <td>-0.00207554</td>\n",
       "    </tr>\n",
       "  </tbody>\n",
       "</table>\n",
       "</div>"
      ],
      "text/plain": [
       "               feature feature importance\n",
       "7        median_income           0.696361\n",
       "1             latitude           0.189514\n",
       "0            longitude           0.188491\n",
       "2   housing_median_age           0.122081\n",
       "4       total_bedrooms          0.0324433\n",
       "5           population          0.0257734\n",
       "6           households           0.019975\n",
       "3          total_rooms          0.0131713\n",
       "12             H_OCEAN         0.00833091\n",
       "9             NEAR_BAY         0.00302384\n",
       "8           NEAR_OCEAN         0.00248949\n",
       "10              ISLAND                  0\n",
       "11              INLAND        -0.00207554"
      ]
     },
     "execution_count": 346,
     "metadata": {},
     "output_type": "execute_result"
    }
   ],
   "source": [
    "%%time\n",
    "# Perform Permutation\n",
    "permutation_score = permutation_importance(model, X_test, y_test,random_state=101,n_repeats=100) \n",
    "# Unstack results\n",
    "importance_df = pd.DataFrame(np.vstack((X_test.columns,permutation_score.importances_mean)).T) \n",
    "importance_df.columns=['feature','feature importance']\n",
    "# Order by importance\n",
    "importance_df.sort_values(by=\"feature importance\", ascending = False) "
   ]
  },
  {
   "cell_type": "code",
   "execution_count": null,
   "id": "dd470109",
   "metadata": {},
   "outputs": [],
   "source": []
  },
  {
   "cell_type": "code",
   "execution_count": 400,
   "id": "c8eb11fb",
   "metadata": {},
   "outputs": [
    {
     "data": {
      "text/html": [
       "<div>\n",
       "<style scoped>\n",
       "    .dataframe tbody tr th:only-of-type {\n",
       "        vertical-align: middle;\n",
       "    }\n",
       "\n",
       "    .dataframe tbody tr th {\n",
       "        vertical-align: top;\n",
       "    }\n",
       "\n",
       "    .dataframe thead th {\n",
       "        text-align: right;\n",
       "    }\n",
       "</style>\n",
       "<table border=\"1\" class=\"dataframe\">\n",
       "  <thead>\n",
       "    <tr style=\"text-align: right;\">\n",
       "      <th></th>\n",
       "      <th>vif_index</th>\n",
       "      <th>features</th>\n",
       "    </tr>\n",
       "  </thead>\n",
       "  <tbody>\n",
       "    <tr>\n",
       "      <th>8</th>\n",
       "      <td>127.458373</td>\n",
       "      <td>NEAR_OCEAN</td>\n",
       "    </tr>\n",
       "    <tr>\n",
       "      <th>9</th>\n",
       "      <td>116.400382</td>\n",
       "      <td>NEAR_BAY</td>\n",
       "    </tr>\n",
       "    <tr>\n",
       "      <th>4</th>\n",
       "      <td>36.014650</td>\n",
       "      <td>total_bedrooms</td>\n",
       "    </tr>\n",
       "    <tr>\n",
       "      <th>12</th>\n",
       "      <td>35.266063</td>\n",
       "      <td>H_OCEAN</td>\n",
       "    </tr>\n",
       "    <tr>\n",
       "      <th>6</th>\n",
       "      <td>33.998210</td>\n",
       "      <td>households</td>\n",
       "    </tr>\n",
       "    <tr>\n",
       "      <th>11</th>\n",
       "      <td>32.521810</td>\n",
       "      <td>INLAND</td>\n",
       "    </tr>\n",
       "    <tr>\n",
       "      <th>1</th>\n",
       "      <td>19.719951</td>\n",
       "      <td>latitude</td>\n",
       "    </tr>\n",
       "    <tr>\n",
       "      <th>0</th>\n",
       "      <td>17.989983</td>\n",
       "      <td>longitude</td>\n",
       "    </tr>\n",
       "    <tr>\n",
       "      <th>3</th>\n",
       "      <td>13.065354</td>\n",
       "      <td>total_rooms</td>\n",
       "    </tr>\n",
       "    <tr>\n",
       "      <th>5</th>\n",
       "      <td>6.102097</td>\n",
       "      <td>population</td>\n",
       "    </tr>\n",
       "    <tr>\n",
       "      <th>7</th>\n",
       "      <td>1.782501</td>\n",
       "      <td>median_income</td>\n",
       "    </tr>\n",
       "    <tr>\n",
       "      <th>2</th>\n",
       "      <td>1.328268</td>\n",
       "      <td>housing_median_age</td>\n",
       "    </tr>\n",
       "    <tr>\n",
       "      <th>10</th>\n",
       "      <td>1.086431</td>\n",
       "      <td>ISLAND</td>\n",
       "    </tr>\n",
       "  </tbody>\n",
       "</table>\n",
       "</div>"
      ],
      "text/plain": [
       "     vif_index            features\n",
       "8   127.458373          NEAR_OCEAN\n",
       "9   116.400382            NEAR_BAY\n",
       "4    36.014650      total_bedrooms\n",
       "12   35.266063             H_OCEAN\n",
       "6    33.998210          households\n",
       "11   32.521810              INLAND\n",
       "1    19.719951            latitude\n",
       "0    17.989983           longitude\n",
       "3    13.065354         total_rooms\n",
       "5     6.102097          population\n",
       "7     1.782501       median_income\n",
       "2     1.328268  housing_median_age\n",
       "10    1.086431              ISLAND"
      ]
     },
     "execution_count": 400,
     "metadata": {},
     "output_type": "execute_result"
    }
   ],
   "source": [
    "vif_df = pd.DataFrame()\n",
    "vif_df[\"vif_index\"] = [vif(X_train.values, i) for i in range(X_train.shape[1])]\n",
    "vif_df[\"features\"] = X_train.columns\n",
    "vif_df.sort_values(by=\"vif_index\", ascending = False) "
   ]
  },
  {
   "cell_type": "code",
   "execution_count": 413,
   "id": "564e0a5b",
   "metadata": {},
   "outputs": [],
   "source": [
    "X_vif = X_train.copy()"
   ]
  },
  {
   "cell_type": "code",
   "execution_count": 414,
   "id": "47cad82c",
   "metadata": {},
   "outputs": [],
   "source": [
    "X_vif.drop([\"ISLAND\",\"H_OCEAN\", \"INLAND\", \"NEAR_OCEAN\", \"housing_median_age\", \"total_rooms\"], axis=1, inplace=True)"
   ]
  },
  {
   "cell_type": "code",
   "execution_count": 415,
   "id": "33f758ec",
   "metadata": {},
   "outputs": [
    {
     "data": {
      "text/html": [
       "<div>\n",
       "<style scoped>\n",
       "    .dataframe tbody tr th:only-of-type {\n",
       "        vertical-align: middle;\n",
       "    }\n",
       "\n",
       "    .dataframe tbody tr th {\n",
       "        vertical-align: top;\n",
       "    }\n",
       "\n",
       "    .dataframe thead th {\n",
       "        text-align: right;\n",
       "    }\n",
       "</style>\n",
       "<table border=\"1\" class=\"dataframe\">\n",
       "  <thead>\n",
       "    <tr style=\"text-align: right;\">\n",
       "      <th></th>\n",
       "      <th>longitude</th>\n",
       "      <th>latitude</th>\n",
       "      <th>total_bedrooms</th>\n",
       "      <th>population</th>\n",
       "      <th>households</th>\n",
       "      <th>median_income</th>\n",
       "      <th>NEAR_BAY</th>\n",
       "    </tr>\n",
       "  </thead>\n",
       "  <tbody>\n",
       "    <tr>\n",
       "      <th>0</th>\n",
       "      <td>0.721095</td>\n",
       "      <td>0.138298</td>\n",
       "      <td>0.030585</td>\n",
       "      <td>0.016901</td>\n",
       "      <td>0.028952</td>\n",
       "      <td>0.159963</td>\n",
       "      <td>1.0</td>\n",
       "    </tr>\n",
       "    <tr>\n",
       "      <th>1</th>\n",
       "      <td>0.181542</td>\n",
       "      <td>0.589362</td>\n",
       "      <td>0.328986</td>\n",
       "      <td>0.131198</td>\n",
       "      <td>0.338378</td>\n",
       "      <td>0.253141</td>\n",
       "      <td>0.0</td>\n",
       "    </tr>\n",
       "    <tr>\n",
       "      <th>2</th>\n",
       "      <td>0.194726</td>\n",
       "      <td>0.558511</td>\n",
       "      <td>0.095948</td>\n",
       "      <td>0.026654</td>\n",
       "      <td>0.093601</td>\n",
       "      <td>0.278617</td>\n",
       "      <td>0.0</td>\n",
       "    </tr>\n",
       "    <tr>\n",
       "      <th>3</th>\n",
       "      <td>0.750507</td>\n",
       "      <td>0.029787</td>\n",
       "      <td>0.388449</td>\n",
       "      <td>0.178985</td>\n",
       "      <td>0.383287</td>\n",
       "      <td>0.193666</td>\n",
       "      <td>0.0</td>\n",
       "    </tr>\n",
       "    <tr>\n",
       "      <th>4</th>\n",
       "      <td>0.473631</td>\n",
       "      <td>0.200000</td>\n",
       "      <td>0.059308</td>\n",
       "      <td>0.035427</td>\n",
       "      <td>0.062017</td>\n",
       "      <td>0.208335</td>\n",
       "      <td>0.0</td>\n",
       "    </tr>\n",
       "    <tr>\n",
       "      <th>...</th>\n",
       "      <td>...</td>\n",
       "      <td>...</td>\n",
       "      <td>...</td>\n",
       "      <td>...</td>\n",
       "      <td>...</td>\n",
       "      <td>...</td>\n",
       "      <td>...</td>\n",
       "    </tr>\n",
       "    <tr>\n",
       "      <th>11430</th>\n",
       "      <td>0.618661</td>\n",
       "      <td>0.145745</td>\n",
       "      <td>0.035864</td>\n",
       "      <td>0.020853</td>\n",
       "      <td>0.036519</td>\n",
       "      <td>0.103454</td>\n",
       "      <td>0.0</td>\n",
       "    </tr>\n",
       "    <tr>\n",
       "      <th>11431</th>\n",
       "      <td>0.614604</td>\n",
       "      <td>0.144681</td>\n",
       "      <td>0.095327</td>\n",
       "      <td>0.062446</td>\n",
       "      <td>0.097055</td>\n",
       "      <td>0.136150</td>\n",
       "      <td>0.0</td>\n",
       "    </tr>\n",
       "    <tr>\n",
       "      <th>11432</th>\n",
       "      <td>0.116633</td>\n",
       "      <td>0.702128</td>\n",
       "      <td>0.036330</td>\n",
       "      <td>0.016508</td>\n",
       "      <td>0.036519</td>\n",
       "      <td>0.103964</td>\n",
       "      <td>0.0</td>\n",
       "    </tr>\n",
       "    <tr>\n",
       "      <th>11433</th>\n",
       "      <td>0.257606</td>\n",
       "      <td>0.510638</td>\n",
       "      <td>0.069554</td>\n",
       "      <td>0.055971</td>\n",
       "      <td>0.078631</td>\n",
       "      <td>0.267245</td>\n",
       "      <td>0.0</td>\n",
       "    </tr>\n",
       "    <tr>\n",
       "      <th>11434</th>\n",
       "      <td>0.644016</td>\n",
       "      <td>0.134043</td>\n",
       "      <td>0.093308</td>\n",
       "      <td>0.048936</td>\n",
       "      <td>0.102813</td>\n",
       "      <td>0.250183</td>\n",
       "      <td>0.0</td>\n",
       "    </tr>\n",
       "  </tbody>\n",
       "</table>\n",
       "<p>11435 rows × 7 columns</p>\n",
       "</div>"
      ],
      "text/plain": [
       "       longitude  latitude  total_bedrooms  population  households  \\\n",
       "0       0.721095  0.138298        0.030585    0.016901    0.028952   \n",
       "1       0.181542  0.589362        0.328986    0.131198    0.338378   \n",
       "2       0.194726  0.558511        0.095948    0.026654    0.093601   \n",
       "3       0.750507  0.029787        0.388449    0.178985    0.383287   \n",
       "4       0.473631  0.200000        0.059308    0.035427    0.062017   \n",
       "...          ...       ...             ...         ...         ...   \n",
       "11430   0.618661  0.145745        0.035864    0.020853    0.036519   \n",
       "11431   0.614604  0.144681        0.095327    0.062446    0.097055   \n",
       "11432   0.116633  0.702128        0.036330    0.016508    0.036519   \n",
       "11433   0.257606  0.510638        0.069554    0.055971    0.078631   \n",
       "11434   0.644016  0.134043        0.093308    0.048936    0.102813   \n",
       "\n",
       "       median_income  NEAR_BAY  \n",
       "0           0.159963       1.0  \n",
       "1           0.253141       0.0  \n",
       "2           0.278617       0.0  \n",
       "3           0.193666       0.0  \n",
       "4           0.208335       0.0  \n",
       "...              ...       ...  \n",
       "11430       0.103454       0.0  \n",
       "11431       0.136150       0.0  \n",
       "11432       0.103964       0.0  \n",
       "11433       0.267245       0.0  \n",
       "11434       0.250183       0.0  \n",
       "\n",
       "[11435 rows x 7 columns]"
      ]
     },
     "execution_count": 415,
     "metadata": {},
     "output_type": "execute_result"
    }
   ],
   "source": [
    "X_vif"
   ]
  },
  {
   "cell_type": "code",
   "execution_count": 416,
   "id": "944b99c7",
   "metadata": {},
   "outputs": [
    {
     "data": {
      "text/html": [
       "<div>\n",
       "<style scoped>\n",
       "    .dataframe tbody tr th:only-of-type {\n",
       "        vertical-align: middle;\n",
       "    }\n",
       "\n",
       "    .dataframe tbody tr th {\n",
       "        vertical-align: top;\n",
       "    }\n",
       "\n",
       "    .dataframe thead th {\n",
       "        text-align: right;\n",
       "    }\n",
       "</style>\n",
       "<table border=\"1\" class=\"dataframe\">\n",
       "  <thead>\n",
       "    <tr style=\"text-align: right;\">\n",
       "      <th></th>\n",
       "      <th>vif_index</th>\n",
       "      <th>features</th>\n",
       "    </tr>\n",
       "  </thead>\n",
       "  <tbody>\n",
       "    <tr>\n",
       "      <th>4</th>\n",
       "      <td>88.138115</td>\n",
       "      <td>households</td>\n",
       "    </tr>\n",
       "    <tr>\n",
       "      <th>2</th>\n",
       "      <td>66.747902</td>\n",
       "      <td>total_bedrooms</td>\n",
       "    </tr>\n",
       "    <tr>\n",
       "      <th>3</th>\n",
       "      <td>13.898150</td>\n",
       "      <td>population</td>\n",
       "    </tr>\n",
       "    <tr>\n",
       "      <th>5</th>\n",
       "      <td>4.201990</td>\n",
       "      <td>median_income</td>\n",
       "    </tr>\n",
       "    <tr>\n",
       "      <th>0</th>\n",
       "      <td>4.185174</td>\n",
       "      <td>longitude</td>\n",
       "    </tr>\n",
       "    <tr>\n",
       "      <th>1</th>\n",
       "      <td>3.181850</td>\n",
       "      <td>latitude</td>\n",
       "    </tr>\n",
       "    <tr>\n",
       "      <th>6</th>\n",
       "      <td>2.039185</td>\n",
       "      <td>NEAR_BAY</td>\n",
       "    </tr>\n",
       "  </tbody>\n",
       "</table>\n",
       "</div>"
      ],
      "text/plain": [
       "   vif_index        features\n",
       "4  88.138115      households\n",
       "2  66.747902  total_bedrooms\n",
       "3  13.898150      population\n",
       "5   4.201990   median_income\n",
       "0   4.185174       longitude\n",
       "1   3.181850        latitude\n",
       "6   2.039185        NEAR_BAY"
      ]
     },
     "execution_count": 416,
     "metadata": {},
     "output_type": "execute_result"
    }
   ],
   "source": [
    "vif_df2 = pd.DataFrame()\n",
    "vif_df2[\"vif_index\"] = [vif(X_vif.values, i) for i in range(X_vif.shape[1])]\n",
    "vif_df2[\"features\"] = X_vif.columns\n",
    "vif_df2.sort_values(by=\"vif_index\", ascending = False) "
   ]
  },
  {
   "cell_type": "code",
   "execution_count": 417,
   "id": "6e9ad363",
   "metadata": {},
   "outputs": [],
   "source": [
    "X_vif3 = X_train.copy()\n",
    "X_vif3.drop([\"ISLAND\",\"H_OCEAN\", \"INLAND\", \"NEAR_OCEAN\", \"housing_median_age\", \"total_rooms\", \"households\", \"total_bedrooms\"], axis=1, inplace=True)"
   ]
  },
  {
   "cell_type": "code",
   "execution_count": 418,
   "id": "1a9f347e",
   "metadata": {},
   "outputs": [
    {
     "data": {
      "text/html": [
       "<div>\n",
       "<style scoped>\n",
       "    .dataframe tbody tr th:only-of-type {\n",
       "        vertical-align: middle;\n",
       "    }\n",
       "\n",
       "    .dataframe tbody tr th {\n",
       "        vertical-align: top;\n",
       "    }\n",
       "\n",
       "    .dataframe thead th {\n",
       "        text-align: right;\n",
       "    }\n",
       "</style>\n",
       "<table border=\"1\" class=\"dataframe\">\n",
       "  <thead>\n",
       "    <tr style=\"text-align: right;\">\n",
       "      <th></th>\n",
       "      <th>vif_index</th>\n",
       "      <th>features</th>\n",
       "    </tr>\n",
       "  </thead>\n",
       "  <tbody>\n",
       "    <tr>\n",
       "      <th>3</th>\n",
       "      <td>4.164447</td>\n",
       "      <td>median_income</td>\n",
       "    </tr>\n",
       "    <tr>\n",
       "      <th>0</th>\n",
       "      <td>4.118220</td>\n",
       "      <td>longitude</td>\n",
       "    </tr>\n",
       "    <tr>\n",
       "      <th>1</th>\n",
       "      <td>3.079065</td>\n",
       "      <td>latitude</td>\n",
       "    </tr>\n",
       "    <tr>\n",
       "      <th>2</th>\n",
       "      <td>2.476788</td>\n",
       "      <td>population</td>\n",
       "    </tr>\n",
       "    <tr>\n",
       "      <th>4</th>\n",
       "      <td>1.991386</td>\n",
       "      <td>NEAR_BAY</td>\n",
       "    </tr>\n",
       "  </tbody>\n",
       "</table>\n",
       "</div>"
      ],
      "text/plain": [
       "   vif_index       features\n",
       "3   4.164447  median_income\n",
       "0   4.118220      longitude\n",
       "1   3.079065       latitude\n",
       "2   2.476788     population\n",
       "4   1.991386       NEAR_BAY"
      ]
     },
     "execution_count": 418,
     "metadata": {},
     "output_type": "execute_result"
    }
   ],
   "source": [
    "vif_df3 = pd.DataFrame()\n",
    "vif_df3[\"vif_index\"] = [vif(X_vif3.values, i) for i in range(X_vif3.shape[1])]\n",
    "vif_df3[\"features\"] = X_vif3.columns\n",
    "vif_df3.sort_values(by=\"vif_index\", ascending = False) "
   ]
  },
  {
   "cell_type": "code",
   "execution_count": 406,
   "id": "42efd37b",
   "metadata": {},
   "outputs": [
    {
     "data": {
      "image/png": "[encoded data removed]",
      "text/plain": [
       "<Figure size 432x288 with 1 Axes>"
      ]
     },
     "metadata": {
      "needs_background": "light"
     },
     "output_type": "display_data"
    }
   ],
   "source": [
    "x = [u'ISLAND',u'H_OCEAN',u'INLAND',u'NEAR_OCEAN',u'total_rooms',u'housing_median_age',u'households',u'NEAR_BAY',u'total_bedrooms',u'population',u'longitude',u'latitude',u'median_income']\n",
    "y = [0, 0, 0.00248949, 0.00302384, 0.00833091, 0.0131713, 0.019975, 0.0257734, 0.0324433, 0.122081, 0.188491, 0.189514, 0.696361]\n",
    "\n",
    "\n",
    "fig, ax = plt.subplots()    \n",
    "width = 0.75 # the width of the bars \n",
    "ind = np.arange(len(y))  # the x locations for the groups\n",
    "ax.barh(ind, y, width, color=\"blue\")\n",
    "ax.set_yticks(ind+width/2)\n",
    "ax.set_yticklabels(x, minor=False)\n",
    "plt.title('Feature importance')     \n",
    "plt.show()\n",
    "# plt.savefig(os.path.join('test.png'), dpi=300, format='png', bbox_inches='tight') # use format='svg' or 'pdf' for vectorial pictures"
   ]
  },
  {
   "cell_type": "markdown",
   "id": "a2863948",
   "metadata": {},
   "source": [
    "### Feature importance"
   ]
  },
  {
   "cell_type": "code",
   "execution_count": 227,
   "id": "39508fee",
   "metadata": {},
   "outputs": [],
   "source": [
    "df_train = immoSV_train_enc.drop([\"H_OCEAN\",\"ISLAND\"], axis=1)\n",
    "df_test = immoSV_test_enc.drop([\"H_OCEAN\",\"ISLAND\"], axis=1)"
   ]
  },
  {
   "cell_type": "code",
   "execution_count": 228,
   "id": "06507c10",
   "metadata": {},
   "outputs": [],
   "source": [
    "X_train = df_train.drop([\"median_house_value\"], axis=1)\n",
    "X_test = df_test.drop([\"median_house_value\"], axis=1)\n",
    "y_train = df_train[[\"median_house_value\"]]\n",
    "y_test = df_test[[\"median_house_value\"]]"
   ]
  },
  {
   "cell_type": "code",
   "execution_count": 229,
   "id": "213a9aec",
   "metadata": {},
   "outputs": [],
   "source": [
    "# X_train.to_csv('./datasets/X_train.csv', index=False)\n",
    "# X_test.to_csv('./datasets/X_test.csv', index=False)\n",
    "# y_train.to_csv('./datasets/y_train.csv', index=False)\n",
    "# y_test.to_csv('./datasets/y_test.csv', index=False)"
   ]
  },
  {
   "cell_type": "code",
   "execution_count": 230,
   "id": "4b6f8990",
   "metadata": {},
   "outputs": [],
   "source": [
    "# X_train = pd.read_csv('./datasets/X_train.csv')\n",
    "# X_test = pd.read_csv('./datasets/X_test.csv')\n",
    "# y_train = pd.read_csv('./datasets/y_train.csv')\n",
    "# y_test = pd.read_csv('./datasets/y_test.csv')"
   ]
  },
  {
   "cell_type": "code",
   "execution_count": 231,
   "id": "dbf38b7c",
   "metadata": {},
   "outputs": [],
   "source": [
    "model = KNeighborsRegressor()"
   ]
  },
  {
   "cell_type": "code",
   "execution_count": 232,
   "id": "e8bcbaaa",
   "metadata": {},
   "outputs": [],
   "source": [
    "# # 5-Fold Cross validate model\n",
    "# cv_results = cross_validate(model, X, y, cv=5)\n",
    "# # obtain the mean of scores\n",
    "# cv_results['test_score'].mean()"
   ]
  },
  {
   "cell_type": "code",
   "execution_count": 233,
   "id": "71bad9e1",
   "metadata": {},
   "outputs": [
    {
     "name": "stdout",
     "output_type": "stream",
     "text": [
      "Train score : 0.8030444440082032\n",
      "Test score : 0.6968812610151582\n"
     ]
    }
   ],
   "source": [
    "model.fit(X_train,y_train)\n",
    "model.predict(X_test)\n",
    "print(f\"Train score : {model.score(X_train, y_train)}\")\n",
    "print(f\"Test score : {model.score(X_test, y_test)}\")"
   ]
  },
  {
   "cell_type": "code",
   "execution_count": 234,
   "id": "0d179620",
   "metadata": {},
   "outputs": [
    {
     "name": "stdout",
     "output_type": "stream",
     "text": [
      "MSE : 4106551415.4368496\n",
      "RMSE : 64082.379913958015\n",
      "MAE : 43397.53331973067\n"
     ]
    }
   ],
   "source": [
    "print(f\"MSE : {mean_squared_error(y_test, y_pred)}\")\n",
    "print(f\"RMSE : {np.sqrt(mean_squared_error(y_test, y_pred))}\")\n",
    "print(f\"MAE : {mean_absolute_error(y_test, y_pred)}\")"
   ]
  },
  {
   "cell_type": "code",
   "execution_count": 235,
   "id": "a3013b12",
   "metadata": {},
   "outputs": [
    {
     "name": "stdout",
     "output_type": "stream",
     "text": [
      "R² : 0.6896264484170945\n",
      "MSE : 4086810033.931586\n",
      "RMSE : 63898.09826508343\n",
      "MAE : 43377.4658154788\n"
     ]
    }
   ],
   "source": [
    "print(f\"R² : {cross_val_score(model,X_train, y_train,cv=KFold(n_splits=5, shuffle=True, random_state=101),scoring='r2').mean()}\")\n",
    "print(f\"MSE : {-cross_val_score(model,X_train, y_train,cv=KFold(n_splits=5, shuffle=True, random_state=101),scoring='neg_mean_squared_error').mean()}\")\n",
    "print(f\"RMSE : {-cross_val_score(model,X_train, y_train,cv=KFold(n_splits=5, shuffle=True, random_state=101),scoring='neg_root_mean_squared_error').mean()}\")\n",
    "print(f\"MAE : {-cross_val_score(model,X_train, y_train,cv=KFold(n_splits=5, shuffle=True, random_state=101),scoring='neg_mean_absolute_error').mean()}\")"
   ]
  },
  {
   "cell_type": "markdown",
   "id": "bbf3ef57",
   "metadata": {},
   "source": [
    "### GridSearchCV : n_neighbors=11"
   ]
  },
  {
   "cell_type": "code",
   "execution_count": 236,
   "id": "b678629b",
   "metadata": {},
   "outputs": [],
   "source": [
    "# n_neighbors=11"
   ]
  },
  {
   "cell_type": "code",
   "execution_count": 237,
   "id": "990e7949",
   "metadata": {},
   "outputs": [],
   "source": [
    "model = KNeighborsRegressor(n_neighbors=11)"
   ]
  },
  {
   "cell_type": "code",
   "execution_count": 238,
   "id": "ef57250a",
   "metadata": {},
   "outputs": [],
   "source": [
    "# # 5-Fold Cross validate model\n",
    "# cv_results = cross_validate(model, X, y, cv=5)\n",
    "# # obtain the mean of scores\n",
    "# cv_results['test_score'].mean()"
   ]
  },
  {
   "cell_type": "code",
   "execution_count": 239,
   "id": "5580f234",
   "metadata": {},
   "outputs": [
    {
     "name": "stdout",
     "output_type": "stream",
     "text": [
      "Train score : 0.7540358719329356\n",
      "Test score : 0.696905023489227\n"
     ]
    }
   ],
   "source": [
    "model.fit(X_train,y_train)\n",
    "model.predict(X_test)\n",
    "print(f\"Train score : {model.score(X_train, y_train)}\")\n",
    "print(f\"Test score : {model.score(X_test, y_test)}\")"
   ]
  },
  {
   "cell_type": "code",
   "execution_count": 240,
   "id": "91b41c69",
   "metadata": {},
   "outputs": [
    {
     "name": "stdout",
     "output_type": "stream",
     "text": [
      "MSE : 4106551415.4368496\n",
      "RMSE : 64082.379913958015\n",
      "MAE : 43397.53331973067\n"
     ]
    }
   ],
   "source": [
    "print(f\"MSE : {mean_squared_error(y_test, y_pred)}\")\n",
    "print(f\"RMSE : {np.sqrt(mean_squared_error(y_test, y_pred))}\")\n",
    "print(f\"MAE : {mean_absolute_error(y_test, y_pred)}\")"
   ]
  },
  {
   "cell_type": "code",
   "execution_count": 241,
   "id": "0254a18f",
   "metadata": {},
   "outputs": [
    {
     "name": "stdout",
     "output_type": "stream",
     "text": [
      "R² : 0.6983930763471108\n",
      "MSE : 3971646992.8319755\n",
      "RMSE : 62998.779015791064\n",
      "MAE : 43086.47567675001\n"
     ]
    }
   ],
   "source": [
    "print(f\"R² : {cross_val_score(model,X_train, y_train,cv=KFold(n_splits=5, shuffle=True, random_state=101),scoring='r2').mean()}\")\n",
    "print(f\"MSE : {-cross_val_score(model,X_train, y_train,cv=KFold(n_splits=5, shuffle=True, random_state=101),scoring='neg_mean_squared_error').mean()}\")\n",
    "print(f\"RMSE : {-cross_val_score(model,X_train, y_train,cv=KFold(n_splits=5, shuffle=True, random_state=101),scoring='neg_root_mean_squared_error').mean()}\")\n",
    "print(f\"MAE : {-cross_val_score(model,X_train, y_train,cv=KFold(n_splits=5, shuffle=True, random_state=101),scoring='neg_mean_absolute_error').mean()}\")"
   ]
  },
  {
   "cell_type": "code",
   "execution_count": null,
   "id": "f5e84e93",
   "metadata": {},
   "outputs": [],
   "source": []
  },
  {
   "cell_type": "code",
   "execution_count": null,
   "id": "d6ecf077",
   "metadata": {},
   "outputs": [],
   "source": []
  },
  {
   "cell_type": "markdown",
   "id": "5651e5be",
   "metadata": {},
   "source": [
    "# Essais"
   ]
  },
  {
   "cell_type": "markdown",
   "id": "199ff78a",
   "metadata": {},
   "source": [
    "#### Supression latitude et longitude"
   ]
  },
  {
   "cell_type": "code",
   "execution_count": 242,
   "id": "fba8f2d6",
   "metadata": {},
   "outputs": [],
   "source": [
    "df_train = immoSV_train_enc.drop([\"H_OCEAN\",\"ISLAND\",\"latitude\"], axis=1)\n",
    "df_test = immoSV_test_enc.drop([\"H_OCEAN\",\"ISLAND\",\"latitude\"], axis=1)"
   ]
  },
  {
   "cell_type": "code",
   "execution_count": 243,
   "id": "48656c46",
   "metadata": {},
   "outputs": [],
   "source": [
    "X_train = df_train.drop([\"median_house_value\"], axis=1)\n",
    "X_test = df_test.drop([\"median_house_value\"], axis=1)\n",
    "y_train = df_train[[\"median_house_value\"]]\n",
    "y_test = df_test[[\"median_house_value\"]]"
   ]
  },
  {
   "cell_type": "code",
   "execution_count": 244,
   "id": "b00d95b2",
   "metadata": {},
   "outputs": [],
   "source": [
    "model = KNeighborsRegressor()"
   ]
  },
  {
   "cell_type": "code",
   "execution_count": 245,
   "id": "98a66a6b",
   "metadata": {},
   "outputs": [
    {
     "name": "stdout",
     "output_type": "stream",
     "text": [
      "Train score : 0.7924166172236172\n",
      "Test score : 0.6778552658667103\n"
     ]
    }
   ],
   "source": [
    "model.fit(X_train,y_train)\n",
    "model.predict(X_test)\n",
    "print(f\"Train score : {model.score(X_train, y_train)}\")\n",
    "print(f\"Test score : {model.score(X_test, y_test)}\")"
   ]
  },
  {
   "cell_type": "code",
   "execution_count": 246,
   "id": "6d5ed453",
   "metadata": {},
   "outputs": [
    {
     "name": "stdout",
     "output_type": "stream",
     "text": [
      "MSE : 4106551415.4368496\n",
      "RMSE : 64082.379913958015\n",
      "MAE : 43397.53331973067\n"
     ]
    }
   ],
   "source": [
    "print(f\"MSE : {mean_squared_error(y_test, y_pred)}\")\n",
    "print(f\"RMSE : {np.sqrt(mean_squared_error(y_test, y_pred))}\")\n",
    "print(f\"MAE : {mean_absolute_error(y_test, y_pred)}\")"
   ]
  },
  {
   "cell_type": "code",
   "execution_count": 247,
   "id": "eb08dde8",
   "metadata": {
    "scrolled": true
   },
   "outputs": [
    {
     "name": "stdout",
     "output_type": "stream",
     "text": [
      "R² : 0.67554322007612\n",
      "MSE : 4271895155.6954155\n",
      "RMSE : 65335.4125407123\n",
      "MAE : 44696.072671622205\n"
     ]
    }
   ],
   "source": [
    "print(f\"R² : {cross_val_score(model,X_train, y_train,cv=KFold(n_splits=5, shuffle=True, random_state=101),scoring='r2').mean()}\")\n",
    "print(f\"MSE : {-cross_val_score(model,X_train, y_train,cv=KFold(n_splits=5, shuffle=True, random_state=101),scoring='neg_mean_squared_error').mean()}\")\n",
    "print(f\"RMSE : {-cross_val_score(model,X_train, y_train,cv=KFold(n_splits=5, shuffle=True, random_state=101),scoring='neg_root_mean_squared_error').mean()}\")\n",
    "print(f\"MAE : {-cross_val_score(model,X_train, y_train,cv=KFold(n_splits=5, shuffle=True, random_state=101),scoring='neg_mean_absolute_error').mean()}\")"
   ]
  },
  {
   "cell_type": "markdown",
   "id": "1c4b67d9",
   "metadata": {},
   "source": [
    "#### Supression latitude"
   ]
  },
  {
   "cell_type": "code",
   "execution_count": 248,
   "id": "a0f26e45",
   "metadata": {},
   "outputs": [],
   "source": [
    "df_train = immoSV_train_enc.drop([\"H_OCEAN\",\"ISLAND\",\"longitude\"], axis=1)\n",
    "df_test = immoSV_test_enc.drop([\"H_OCEAN\",\"ISLAND\",\"longitude\"], axis=1)"
   ]
  },
  {
   "cell_type": "code",
   "execution_count": 249,
   "id": "b4f2edb2",
   "metadata": {},
   "outputs": [],
   "source": [
    "X_train = df_train.drop([\"median_house_value\"], axis=1)\n",
    "X_test = df_test.drop([\"median_house_value\"], axis=1)\n",
    "y_train = df_train[[\"median_house_value\"]]\n",
    "y_test = df_test[[\"median_house_value\"]]"
   ]
  },
  {
   "cell_type": "code",
   "execution_count": 250,
   "id": "4d450efc",
   "metadata": {},
   "outputs": [],
   "source": [
    "model = KNeighborsRegressor()"
   ]
  },
  {
   "cell_type": "code",
   "execution_count": 251,
   "id": "a7a48f58",
   "metadata": {},
   "outputs": [
    {
     "name": "stdout",
     "output_type": "stream",
     "text": [
      "Train score : 0.7796958241004134\n",
      "Test score : 0.6625007877951024\n"
     ]
    }
   ],
   "source": [
    "model.fit(X_train,y_train)\n",
    "model.predict(X_test)\n",
    "print(f\"Train score : {model.score(X_train, y_train)}\")\n",
    "print(f\"Test score : {model.score(X_test, y_test)}\")"
   ]
  },
  {
   "cell_type": "code",
   "execution_count": 252,
   "id": "7aa80a34",
   "metadata": {},
   "outputs": [
    {
     "name": "stdout",
     "output_type": "stream",
     "text": [
      "MSE : 4106551415.4368496\n",
      "RMSE : 64082.379913958015\n",
      "MAE : 43397.53331973067\n"
     ]
    }
   ],
   "source": [
    "print(f\"MSE : {mean_squared_error(y_test, y_pred)}\")\n",
    "print(f\"RMSE : {np.sqrt(mean_squared_error(y_test, y_pred))}\")\n",
    "print(f\"MAE : {mean_absolute_error(y_test, y_pred)}\")"
   ]
  },
  {
   "cell_type": "code",
   "execution_count": 253,
   "id": "f464f118",
   "metadata": {
    "scrolled": true
   },
   "outputs": [
    {
     "name": "stdout",
     "output_type": "stream",
     "text": [
      "R² : 0.6572790243949048\n",
      "MSE : 4511877541.075635\n",
      "RMSE : 67150.27719583767\n",
      "MAE : 46121.970459116754\n"
     ]
    }
   ],
   "source": [
    "print(f\"R² : {cross_val_score(model,X_train, y_train,cv=KFold(n_splits=5, shuffle=True, random_state=101),scoring='r2').mean()}\")\n",
    "print(f\"MSE : {-cross_val_score(model,X_train, y_train,cv=KFold(n_splits=5, shuffle=True, random_state=101),scoring='neg_mean_squared_error').mean()}\")\n",
    "print(f\"RMSE : {-cross_val_score(model,X_train, y_train,cv=KFold(n_splits=5, shuffle=True, random_state=101),scoring='neg_root_mean_squared_error').mean()}\")\n",
    "print(f\"MAE : {-cross_val_score(model,X_train, y_train,cv=KFold(n_splits=5, shuffle=True, random_state=101),scoring='neg_mean_absolute_error').mean()}\")"
   ]
  },
  {
   "cell_type": "markdown",
   "id": "9a025a82",
   "metadata": {},
   "source": [
    "#### Supression longitude"
   ]
  },
  {
   "cell_type": "code",
   "execution_count": 254,
   "id": "4d09cf28",
   "metadata": {},
   "outputs": [],
   "source": [
    "df_train = immoSV_train_enc.drop([\"H_OCEAN\",\"ISLAND\",\"latitude\"], axis=1)\n",
    "df_test = immoSV_test_enc.drop([\"H_OCEAN\",\"ISLAND\",\"latitude\"], axis=1)"
   ]
  },
  {
   "cell_type": "code",
   "execution_count": 255,
   "id": "180fc03a",
   "metadata": {},
   "outputs": [],
   "source": [
    "X_train = df_train.drop([\"median_house_value\"], axis=1)\n",
    "X_test = df_test.drop([\"median_house_value\"], axis=1)\n",
    "y_train = df_train[[\"median_house_value\"]]\n",
    "y_test = df_test[[\"median_house_value\"]]"
   ]
  },
  {
   "cell_type": "code",
   "execution_count": 256,
   "id": "60373a41",
   "metadata": {},
   "outputs": [],
   "source": [
    "model = KNeighborsRegressor()"
   ]
  },
  {
   "cell_type": "code",
   "execution_count": 257,
   "id": "f0ae1cf8",
   "metadata": {},
   "outputs": [
    {
     "name": "stdout",
     "output_type": "stream",
     "text": [
      "Train score : 0.7924166172236172\n",
      "Test score : 0.6778552658667103\n"
     ]
    }
   ],
   "source": [
    "model.fit(X_train,y_train)\n",
    "model.predict(X_test)\n",
    "print(f\"Train score : {model.score(X_train, y_train)}\")\n",
    "print(f\"Test score : {model.score(X_test, y_test)}\")"
   ]
  },
  {
   "cell_type": "code",
   "execution_count": 258,
   "id": "b6b342d0",
   "metadata": {},
   "outputs": [
    {
     "name": "stdout",
     "output_type": "stream",
     "text": [
      "MSE : 4106551415.4368496\n",
      "RMSE : 64082.379913958015\n",
      "MAE : 43397.53331973067\n"
     ]
    }
   ],
   "source": [
    "print(f\"MSE : {mean_squared_error(y_test, y_pred)}\")\n",
    "print(f\"RMSE : {np.sqrt(mean_squared_error(y_test, y_pred))}\")\n",
    "print(f\"MAE : {mean_absolute_error(y_test, y_pred)}\")"
   ]
  },
  {
   "cell_type": "code",
   "execution_count": 259,
   "id": "8fc9b063",
   "metadata": {},
   "outputs": [
    {
     "name": "stdout",
     "output_type": "stream",
     "text": [
      "R² : 0.67554322007612\n",
      "MSE : 4271895155.6954155\n",
      "RMSE : 65335.4125407123\n",
      "MAE : 44696.072671622205\n"
     ]
    }
   ],
   "source": [
    "print(f\"R² : {cross_val_score(model,X_train, y_train,cv=KFold(n_splits=5, shuffle=True, random_state=101),scoring='r2').mean()}\")\n",
    "print(f\"MSE : {-cross_val_score(model,X_train, y_train,cv=KFold(n_splits=5, shuffle=True, random_state=101),scoring='neg_mean_squared_error').mean()}\")\n",
    "print(f\"RMSE : {-cross_val_score(model,X_train, y_train,cv=KFold(n_splits=5, shuffle=True, random_state=101),scoring='neg_root_mean_squared_error').mean()}\")\n",
    "print(f\"MAE : {-cross_val_score(model,X_train, y_train,cv=KFold(n_splits=5, shuffle=True, random_state=101),scoring='neg_mean_absolute_error').mean()}\")"
   ]
  },
  {
   "cell_type": "markdown",
   "id": "1e1ccb6e",
   "metadata": {},
   "source": [
    "#### Supression housing_median_age"
   ]
  },
  {
   "cell_type": "code",
   "execution_count": 260,
   "id": "8311c83d",
   "metadata": {},
   "outputs": [],
   "source": [
    "df_train = immoSV_train_enc.drop([\"H_OCEAN\",\"ISLAND\",\"housing_median_age\"], axis=1)\n",
    "df_test = immoSV_test_enc.drop([\"H_OCEAN\",\"ISLAND\",\"housing_median_age\"], axis=1)"
   ]
  },
  {
   "cell_type": "code",
   "execution_count": 261,
   "id": "01fc16f5",
   "metadata": {},
   "outputs": [],
   "source": [
    "X_train = df_train.drop([\"median_house_value\"], axis=1)\n",
    "X_test = df_test.drop([\"median_house_value\"], axis=1)\n",
    "y_train = df_train[[\"median_house_value\"]]\n",
    "y_test = df_test[[\"median_house_value\"]]"
   ]
  },
  {
   "cell_type": "code",
   "execution_count": 262,
   "id": "057011b7",
   "metadata": {},
   "outputs": [],
   "source": [
    "model = KNeighborsRegressor()"
   ]
  },
  {
   "cell_type": "code",
   "execution_count": 263,
   "id": "ea3a1ce1",
   "metadata": {},
   "outputs": [
    {
     "name": "stdout",
     "output_type": "stream",
     "text": [
      "Train score : 0.8294758690996982\n",
      "Test score : 0.7299813558747059\n"
     ]
    }
   ],
   "source": [
    "model.fit(X_train,y_train)\n",
    "model.predict(X_test)\n",
    "print(f\"Train score : {model.score(X_train, y_train)}\")\n",
    "print(f\"Test score : {model.score(X_test, y_test)}\")"
   ]
  },
  {
   "cell_type": "code",
   "execution_count": 264,
   "id": "43c0f7a3",
   "metadata": {},
   "outputs": [
    {
     "name": "stdout",
     "output_type": "stream",
     "text": [
      "MSE : 4106551415.4368496\n",
      "RMSE : 64082.379913958015\n",
      "MAE : 43397.53331973067\n"
     ]
    }
   ],
   "source": [
    "print(f\"MSE : {mean_squared_error(y_test, y_pred)}\")\n",
    "print(f\"RMSE : {np.sqrt(mean_squared_error(y_test, y_pred))}\")\n",
    "print(f\"MAE : {mean_absolute_error(y_test, y_pred)}\")"
   ]
  },
  {
   "cell_type": "code",
   "execution_count": 265,
   "id": "d9858050",
   "metadata": {},
   "outputs": [
    {
     "name": "stdout",
     "output_type": "stream",
     "text": [
      "R² : 0.7313596169786835\n",
      "MSE : 3539225742.2002764\n",
      "RMSE : 59465.773184455335\n",
      "MAE : 39912.82728465238\n"
     ]
    }
   ],
   "source": [
    "print(f\"R² : {cross_val_score(model,X_train, y_train,cv=KFold(n_splits=5, shuffle=True, random_state=101),scoring='r2').mean()}\")\n",
    "print(f\"MSE : {-cross_val_score(model,X_train, y_train,cv=KFold(n_splits=5, shuffle=True, random_state=101),scoring='neg_mean_squared_error').mean()}\")\n",
    "print(f\"RMSE : {-cross_val_score(model,X_train, y_train,cv=KFold(n_splits=5, shuffle=True, random_state=101),scoring='neg_root_mean_squared_error').mean()}\")\n",
    "print(f\"MAE : {-cross_val_score(model,X_train, y_train,cv=KFold(n_splits=5, shuffle=True, random_state=101),scoring='neg_mean_absolute_error').mean()}\")"
   ]
  },
  {
   "cell_type": "markdown",
   "id": "2c83a232",
   "metadata": {},
   "source": [
    "#### Supression total_rooms"
   ]
  },
  {
   "cell_type": "code",
   "execution_count": 266,
   "id": "42200078",
   "metadata": {},
   "outputs": [],
   "source": [
    "df_train = immoSV_train_enc.drop([\"H_OCEAN\",\"ISLAND\",\"total_rooms\"], axis=1)\n",
    "df_test = immoSV_test_enc.drop([\"H_OCEAN\",\"ISLAND\",\"total_rooms\"], axis=1)"
   ]
  },
  {
   "cell_type": "code",
   "execution_count": 267,
   "id": "1bb34858",
   "metadata": {},
   "outputs": [],
   "source": [
    "X_train = df_train.drop([\"median_house_value\"], axis=1)\n",
    "X_test = df_test.drop([\"median_house_value\"], axis=1)\n",
    "y_train = df_train[[\"median_house_value\"]]\n",
    "y_test = df_test[[\"median_house_value\"]]"
   ]
  },
  {
   "cell_type": "code",
   "execution_count": 268,
   "id": "2227e493",
   "metadata": {},
   "outputs": [],
   "source": [
    "model = KNeighborsRegressor()"
   ]
  },
  {
   "cell_type": "code",
   "execution_count": 269,
   "id": "52a046af",
   "metadata": {},
   "outputs": [
    {
     "name": "stdout",
     "output_type": "stream",
     "text": [
      "Train score : 0.8040260094658285\n",
      "Test score : 0.6979310897636216\n"
     ]
    }
   ],
   "source": [
    "model.fit(X_train,y_train)\n",
    "model.predict(X_test)\n",
    "print(f\"Train score : {model.score(X_train, y_train)}\")\n",
    "print(f\"Test score : {model.score(X_test, y_test)}\")"
   ]
  },
  {
   "cell_type": "code",
   "execution_count": 270,
   "id": "6fa9b556",
   "metadata": {},
   "outputs": [
    {
     "name": "stdout",
     "output_type": "stream",
     "text": [
      "MSE : 4106551415.4368496\n",
      "RMSE : 64082.379913958015\n",
      "MAE : 43397.53331973067\n"
     ]
    }
   ],
   "source": [
    "print(f\"MSE : {mean_squared_error(y_test, y_pred)}\")\n",
    "print(f\"RMSE : {np.sqrt(mean_squared_error(y_test, y_pred))}\")\n",
    "print(f\"MAE : {mean_absolute_error(y_test, y_pred)}\")"
   ]
  },
  {
   "cell_type": "code",
   "execution_count": 271,
   "id": "a7611ddb",
   "metadata": {},
   "outputs": [
    {
     "name": "stdout",
     "output_type": "stream",
     "text": [
      "R² : 0.6907797452883787\n",
      "MSE : 4071599267.829901\n",
      "RMSE : 63779.709476763484\n",
      "MAE : 43326.901880192396\n"
     ]
    }
   ],
   "source": [
    "print(f\"R² : {cross_val_score(model,X_train, y_train,cv=KFold(n_splits=5, shuffle=True, random_state=101),scoring='r2').mean()}\")\n",
    "print(f\"MSE : {-cross_val_score(model,X_train, y_train,cv=KFold(n_splits=5, shuffle=True, random_state=101),scoring='neg_mean_squared_error').mean()}\")\n",
    "print(f\"RMSE : {-cross_val_score(model,X_train, y_train,cv=KFold(n_splits=5, shuffle=True, random_state=101),scoring='neg_root_mean_squared_error').mean()}\")\n",
    "print(f\"MAE : {-cross_val_score(model,X_train, y_train,cv=KFold(n_splits=5, shuffle=True, random_state=101),scoring='neg_mean_absolute_error').mean()}\")"
   ]
  },
  {
   "cell_type": "code",
   "execution_count": null,
   "id": "543afe2b",
   "metadata": {},
   "outputs": [],
   "source": []
  },
  {
   "cell_type": "markdown",
   "id": "a81b4c67",
   "metadata": {},
   "source": [
    "#### Supression total_bedrooms"
   ]
  },
  {
   "cell_type": "code",
   "execution_count": 272,
   "id": "522f9caf",
   "metadata": {},
   "outputs": [],
   "source": [
    "df_train = immoSV_train_enc.drop([\"H_OCEAN\",\"ISLAND\",\"total_bedrooms\"], axis=1)\n",
    "df_test = immoSV_test_enc.drop([\"H_OCEAN\",\"ISLAND\",\"total_bedrooms\"], axis=1)"
   ]
  },
  {
   "cell_type": "code",
   "execution_count": 273,
   "id": "c7342545",
   "metadata": {},
   "outputs": [],
   "source": [
    "X_train = df_train.drop([\"median_house_value\"], axis=1)\n",
    "X_test = df_test.drop([\"median_house_value\"], axis=1)\n",
    "y_train = df_train[[\"median_house_value\"]]\n",
    "y_test = df_test[[\"median_house_value\"]]"
   ]
  },
  {
   "cell_type": "code",
   "execution_count": 274,
   "id": "d062c831",
   "metadata": {},
   "outputs": [],
   "source": [
    "model = KNeighborsRegressor()"
   ]
  },
  {
   "cell_type": "code",
   "execution_count": 275,
   "id": "96344ea8",
   "metadata": {},
   "outputs": [
    {
     "name": "stdout",
     "output_type": "stream",
     "text": [
      "Train score : 0.8066846469199059\n",
      "Test score : 0.6974535281774239\n"
     ]
    }
   ],
   "source": [
    "model.fit(X_train,y_train)\n",
    "model.predict(X_test)\n",
    "print(f\"Train score : {model.score(X_train, y_train)}\")\n",
    "print(f\"Test score : {model.score(X_test, y_test)}\")"
   ]
  },
  {
   "cell_type": "code",
   "execution_count": 276,
   "id": "a892f9ff",
   "metadata": {},
   "outputs": [
    {
     "name": "stdout",
     "output_type": "stream",
     "text": [
      "MSE : 4106551415.4368496\n",
      "RMSE : 64082.379913958015\n",
      "MAE : 43397.53331973067\n"
     ]
    }
   ],
   "source": [
    "print(f\"MSE : {mean_squared_error(y_test, y_pred)}\")\n",
    "print(f\"RMSE : {np.sqrt(mean_squared_error(y_test, y_pred))}\")\n",
    "print(f\"MAE : {mean_absolute_error(y_test, y_pred)}\")"
   ]
  },
  {
   "cell_type": "code",
   "execution_count": 277,
   "id": "61f841c7",
   "metadata": {},
   "outputs": [
    {
     "name": "stdout",
     "output_type": "stream",
     "text": [
      "R² : 0.6935726020874231\n",
      "MSE : 4034774373.785777\n",
      "RMSE : 63495.066176688124\n",
      "MAE : 43021.65133362483\n"
     ]
    }
   ],
   "source": [
    "print(f\"R² : {cross_val_score(model,X_train, y_train,cv=KFold(n_splits=5, shuffle=True, random_state=101),scoring='r2').mean()}\")\n",
    "print(f\"MSE : {-cross_val_score(model,X_train, y_train,cv=KFold(n_splits=5, shuffle=True, random_state=101),scoring='neg_mean_squared_error').mean()}\")\n",
    "print(f\"RMSE : {-cross_val_score(model,X_train, y_train,cv=KFold(n_splits=5, shuffle=True, random_state=101),scoring='neg_root_mean_squared_error').mean()}\")\n",
    "print(f\"MAE : {-cross_val_score(model,X_train, y_train,cv=KFold(n_splits=5, shuffle=True, random_state=101),scoring='neg_mean_absolute_error').mean()}\")"
   ]
  },
  {
   "cell_type": "code",
   "execution_count": null,
   "id": "6f6a7af7",
   "metadata": {},
   "outputs": [],
   "source": []
  },
  {
   "cell_type": "markdown",
   "id": "d04fec96",
   "metadata": {},
   "source": [
    "#### Supression population"
   ]
  },
  {
   "cell_type": "code",
   "execution_count": 278,
   "id": "3b1681ec",
   "metadata": {},
   "outputs": [],
   "source": [
    "df_train = immoSV_train_enc.drop([\"H_OCEAN\",\"ISLAND\",\"population\"], axis=1)\n",
    "df_test = immoSV_test_enc.drop([\"H_OCEAN\",\"ISLAND\",\"population\"], axis=1)"
   ]
  },
  {
   "cell_type": "code",
   "execution_count": 279,
   "id": "9f1a04a8",
   "metadata": {},
   "outputs": [],
   "source": [
    "X_train = df_train.drop([\"median_house_value\"], axis=1)\n",
    "X_test = df_test.drop([\"median_house_value\"], axis=1)\n",
    "y_train = df_train[[\"median_house_value\"]]\n",
    "y_test = df_test[[\"median_house_value\"]]"
   ]
  },
  {
   "cell_type": "code",
   "execution_count": 280,
   "id": "31cef83e",
   "metadata": {},
   "outputs": [],
   "source": [
    "model = KNeighborsRegressor()"
   ]
  },
  {
   "cell_type": "code",
   "execution_count": 281,
   "id": "33717d72",
   "metadata": {},
   "outputs": [
    {
     "name": "stdout",
     "output_type": "stream",
     "text": [
      "Train score : 0.7954892557291503\n",
      "Test score : 0.684384361454441\n"
     ]
    }
   ],
   "source": [
    "model.fit(X_train,y_train)\n",
    "model.predict(X_test)\n",
    "print(f\"Train score : {model.score(X_train, y_train)}\")\n",
    "print(f\"Test score : {model.score(X_test, y_test)}\")"
   ]
  },
  {
   "cell_type": "code",
   "execution_count": 282,
   "id": "abfde531",
   "metadata": {},
   "outputs": [
    {
     "name": "stdout",
     "output_type": "stream",
     "text": [
      "MSE : 4106551415.4368496\n",
      "RMSE : 64082.379913958015\n",
      "MAE : 43397.53331973067\n"
     ]
    }
   ],
   "source": [
    "print(f\"MSE : {mean_squared_error(y_test, y_pred)}\")\n",
    "print(f\"RMSE : {np.sqrt(mean_squared_error(y_test, y_pred))}\")\n",
    "print(f\"MAE : {mean_absolute_error(y_test, y_pred)}\")"
   ]
  },
  {
   "cell_type": "code",
   "execution_count": 283,
   "id": "70e74420",
   "metadata": {},
   "outputs": [
    {
     "name": "stdout",
     "output_type": "stream",
     "text": [
      "R² : 0.6789949143742069\n",
      "MSE : 4227057653.723687\n",
      "RMSE : 64986.93503541362\n",
      "MAE : 44182.51380848273\n"
     ]
    }
   ],
   "source": [
    "print(f\"R² : {cross_val_score(model,X_train, y_train,cv=KFold(n_splits=5, shuffle=True, random_state=101),scoring='r2').mean()}\")\n",
    "print(f\"MSE : {-cross_val_score(model,X_train, y_train,cv=KFold(n_splits=5, shuffle=True, random_state=101),scoring='neg_mean_squared_error').mean()}\")\n",
    "print(f\"RMSE : {-cross_val_score(model,X_train, y_train,cv=KFold(n_splits=5, shuffle=True, random_state=101),scoring='neg_root_mean_squared_error').mean()}\")\n",
    "print(f\"MAE : {-cross_val_score(model,X_train, y_train,cv=KFold(n_splits=5, shuffle=True, random_state=101),scoring='neg_mean_absolute_error').mean()}\")"
   ]
  },
  {
   "cell_type": "code",
   "execution_count": null,
   "id": "747bf269",
   "metadata": {},
   "outputs": [],
   "source": []
  },
  {
   "cell_type": "markdown",
   "id": "a152bda1",
   "metadata": {},
   "source": [
    "#### Supression households"
   ]
  },
  {
   "cell_type": "code",
   "execution_count": 284,
   "id": "146600ef",
   "metadata": {},
   "outputs": [],
   "source": [
    "df_train = immoSV_train_enc.drop([\"H_OCEAN\",\"ISLAND\",\"households\"], axis=1)\n",
    "df_test = immoSV_test_enc.drop([\"H_OCEAN\",\"ISLAND\",\"households\"], axis=1)"
   ]
  },
  {
   "cell_type": "code",
   "execution_count": 285,
   "id": "0edf4d35",
   "metadata": {},
   "outputs": [],
   "source": [
    "X_train = df_train.drop([\"median_house_value\"], axis=1)\n",
    "X_test = df_test.drop([\"median_house_value\"], axis=1)\n",
    "y_train = df_train[[\"median_house_value\"]]\n",
    "y_test = df_test[[\"median_house_value\"]]"
   ]
  },
  {
   "cell_type": "code",
   "execution_count": 286,
   "id": "41463af4",
   "metadata": {},
   "outputs": [],
   "source": [
    "model = KNeighborsRegressor()"
   ]
  },
  {
   "cell_type": "code",
   "execution_count": 287,
   "id": "4d9f20c3",
   "metadata": {},
   "outputs": [
    {
     "name": "stdout",
     "output_type": "stream",
     "text": [
      "Train score : 0.8064520853317887\n",
      "Test score : 0.7007299784642689\n"
     ]
    }
   ],
   "source": [
    "model.fit(X_train,y_train)\n",
    "model.predict(X_test)\n",
    "print(f\"Train score : {model.score(X_train, y_train)}\")\n",
    "print(f\"Test score : {model.score(X_test, y_test)}\")"
   ]
  },
  {
   "cell_type": "code",
   "execution_count": 288,
   "id": "9b5e1322",
   "metadata": {},
   "outputs": [
    {
     "name": "stdout",
     "output_type": "stream",
     "text": [
      "MSE : 4106551415.4368496\n",
      "RMSE : 64082.379913958015\n",
      "MAE : 43397.53331973067\n"
     ]
    }
   ],
   "source": [
    "print(f\"MSE : {mean_squared_error(y_test, y_pred)}\")\n",
    "print(f\"RMSE : {np.sqrt(mean_squared_error(y_test, y_pred))}\")\n",
    "print(f\"MAE : {mean_absolute_error(y_test, y_pred)}\")"
   ]
  },
  {
   "cell_type": "code",
   "execution_count": 289,
   "id": "125c05fb",
   "metadata": {},
   "outputs": [
    {
     "name": "stdout",
     "output_type": "stream",
     "text": [
      "R² : 0.6939593760302784\n",
      "MSE : 4029839967.706543\n",
      "RMSE : 63458.18097511929\n",
      "MAE : 43010.66214254481\n"
     ]
    }
   ],
   "source": [
    "print(f\"R² : {cross_val_score(model,X_train, y_train,cv=KFold(n_splits=5, shuffle=True, random_state=101),scoring='r2').mean()}\")\n",
    "print(f\"MSE : {-cross_val_score(model,X_train, y_train,cv=KFold(n_splits=5, shuffle=True, random_state=101),scoring='neg_mean_squared_error').mean()}\")\n",
    "print(f\"RMSE : {-cross_val_score(model,X_train, y_train,cv=KFold(n_splits=5, shuffle=True, random_state=101),scoring='neg_root_mean_squared_error').mean()}\")\n",
    "print(f\"MAE : {-cross_val_score(model,X_train, y_train,cv=KFold(n_splits=5, shuffle=True, random_state=101),scoring='neg_mean_absolute_error').mean()}\")"
   ]
  },
  {
   "cell_type": "code",
   "execution_count": null,
   "id": "e136819d",
   "metadata": {},
   "outputs": [],
   "source": []
  },
  {
   "cell_type": "markdown",
   "id": "5703e9c6",
   "metadata": {},
   "source": [
    "#### Supression median_income"
   ]
  },
  {
   "cell_type": "code",
   "execution_count": 290,
   "id": "90105df3",
   "metadata": {},
   "outputs": [],
   "source": [
    "df_train = immoSV_train_enc.drop([\"H_OCEAN\",\"ISLAND\",\"median_income\"], axis=1)\n",
    "df_test = immoSV_test_enc.drop([\"H_OCEAN\",\"ISLAND\",\"median_income\"], axis=1)"
   ]
  },
  {
   "cell_type": "code",
   "execution_count": 291,
   "id": "e287ffa9",
   "metadata": {},
   "outputs": [],
   "source": [
    "X_train = df_train.drop([\"median_house_value\"], axis=1)\n",
    "X_test = df_test.drop([\"median_house_value\"], axis=1)\n",
    "y_train = df_train[[\"median_house_value\"]]\n",
    "y_test = df_test[[\"median_house_value\"]]"
   ]
  },
  {
   "cell_type": "code",
   "execution_count": 292,
   "id": "780a6444",
   "metadata": {},
   "outputs": [],
   "source": [
    "model = KNeighborsRegressor()"
   ]
  },
  {
   "cell_type": "code",
   "execution_count": 293,
   "id": "aae9bbf6",
   "metadata": {},
   "outputs": [
    {
     "name": "stdout",
     "output_type": "stream",
     "text": [
      "Train score : 0.7127863427533523\n",
      "Test score : 0.5708194434535208\n"
     ]
    }
   ],
   "source": [
    "model.fit(X_train,y_train)\n",
    "model.predict(X_test)\n",
    "print(f\"Train score : {model.score(X_train, y_train)}\")\n",
    "print(f\"Test score : {model.score(X_test, y_test)}\")"
   ]
  },
  {
   "cell_type": "code",
   "execution_count": 294,
   "id": "8e6126ac",
   "metadata": {},
   "outputs": [
    {
     "name": "stdout",
     "output_type": "stream",
     "text": [
      "MSE : 4106551415.4368496\n",
      "RMSE : 64082.379913958015\n",
      "MAE : 43397.53331973067\n"
     ]
    }
   ],
   "source": [
    "print(f\"MSE : {mean_squared_error(y_test, y_pred)}\")\n",
    "print(f\"RMSE : {np.sqrt(mean_squared_error(y_test, y_pred))}\")\n",
    "print(f\"MAE : {mean_absolute_error(y_test, y_pred)}\")"
   ]
  },
  {
   "cell_type": "code",
   "execution_count": 295,
   "id": "3aa2666d",
   "metadata": {},
   "outputs": [
    {
     "name": "stdout",
     "output_type": "stream",
     "text": [
      "R² : 0.5392271632515314\n",
      "MSE : 6067936652.791879\n",
      "RMSE : 77881.58448881877\n",
      "MAE : 54381.50845649322\n"
     ]
    }
   ],
   "source": [
    "print(f\"R² : {cross_val_score(model,X_train, y_train,cv=KFold(n_splits=5, shuffle=True, random_state=101),scoring='r2').mean()}\")\n",
    "print(f\"MSE : {-cross_val_score(model,X_train, y_train,cv=KFold(n_splits=5, shuffle=True, random_state=101),scoring='neg_mean_squared_error').mean()}\")\n",
    "print(f\"RMSE : {-cross_val_score(model,X_train, y_train,cv=KFold(n_splits=5, shuffle=True, random_state=101),scoring='neg_root_mean_squared_error').mean()}\")\n",
    "print(f\"MAE : {-cross_val_score(model,X_train, y_train,cv=KFold(n_splits=5, shuffle=True, random_state=101),scoring='neg_mean_absolute_error').mean()}\")"
   ]
  },
  {
   "cell_type": "code",
   "execution_count": null,
   "id": "77bbd132",
   "metadata": {},
   "outputs": [],
   "source": []
  },
  {
   "cell_type": "markdown",
   "id": "0dbdcfef",
   "metadata": {},
   "source": [
    "#### Supression NEAR_OCEAN, NEAR_BAY, INLAND"
   ]
  },
  {
   "cell_type": "code",
   "execution_count": 296,
   "id": "0427507a",
   "metadata": {},
   "outputs": [],
   "source": [
    "df_train = immoSV_train_enc.drop([\"H_OCEAN\",\"ISLAND\",\"NEAR_OCEAN\", \"NEAR_BAY\", \"INLAND\"], axis=1)\n",
    "df_test = immoSV_test_enc.drop([\"H_OCEAN\",\"ISLAND\",\"NEAR_OCEAN\", \"NEAR_BAY\", \"INLAND\"], axis=1)"
   ]
  },
  {
   "cell_type": "code",
   "execution_count": 297,
   "id": "403fe2a3",
   "metadata": {},
   "outputs": [],
   "source": [
    "X_train = df_train.drop([\"median_house_value\"], axis=1)\n",
    "X_test = df_test.drop([\"median_house_value\"], axis=1)\n",
    "y_train = df_train[[\"median_house_value\"]]\n",
    "y_test = df_test[[\"median_house_value\"]]"
   ]
  },
  {
   "cell_type": "code",
   "execution_count": 298,
   "id": "2a5cf69e",
   "metadata": {},
   "outputs": [],
   "source": [
    "model = KNeighborsRegressor()"
   ]
  },
  {
   "cell_type": "code",
   "execution_count": 299,
   "id": "761f08f4",
   "metadata": {},
   "outputs": [
    {
     "name": "stdout",
     "output_type": "stream",
     "text": [
      "Train score : 0.8001353146355951\n",
      "Test score : 0.6902239766789883\n"
     ]
    }
   ],
   "source": [
    "model.fit(X_train,y_train)\n",
    "model.predict(X_test)\n",
    "print(f\"Train score : {model.score(X_train, y_train)}\")\n",
    "print(f\"Test score : {model.score(X_test, y_test)}\")"
   ]
  },
  {
   "cell_type": "code",
   "execution_count": 300,
   "id": "7235c05b",
   "metadata": {},
   "outputs": [
    {
     "name": "stdout",
     "output_type": "stream",
     "text": [
      "MSE : 4106551415.4368496\n",
      "RMSE : 64082.379913958015\n",
      "MAE : 43397.53331973067\n"
     ]
    }
   ],
   "source": [
    "print(f\"MSE : {mean_squared_error(y_test, y_pred)}\")\n",
    "print(f\"RMSE : {np.sqrt(mean_squared_error(y_test, y_pred))}\")\n",
    "print(f\"MAE : {mean_absolute_error(y_test, y_pred)}\")"
   ]
  },
  {
   "cell_type": "code",
   "execution_count": 301,
   "id": "5cd99520",
   "metadata": {},
   "outputs": [
    {
     "name": "stdout",
     "output_type": "stream",
     "text": [
      "R² : 0.6879421326860511\n",
      "MSE : 4109600640.978386\n",
      "RMSE : 64088.81774129231\n",
      "MAE : 43577.835347616965\n"
     ]
    }
   ],
   "source": [
    "print(f\"R² : {cross_val_score(model,X_train, y_train,cv=KFold(n_splits=5, shuffle=True, random_state=101),scoring='r2').mean()}\")\n",
    "print(f\"MSE : {-cross_val_score(model,X_train, y_train,cv=KFold(n_splits=5, shuffle=True, random_state=101),scoring='neg_mean_squared_error').mean()}\")\n",
    "print(f\"RMSE : {-cross_val_score(model,X_train, y_train,cv=KFold(n_splits=5, shuffle=True, random_state=101),scoring='neg_root_mean_squared_error').mean()}\")\n",
    "print(f\"MAE : {-cross_val_score(model,X_train, y_train,cv=KFold(n_splits=5, shuffle=True, random_state=101),scoring='neg_mean_absolute_error').mean()}\")"
   ]
  },
  {
   "cell_type": "code",
   "execution_count": null,
   "id": "17fb9ea7",
   "metadata": {},
   "outputs": [],
   "source": []
  },
  {
   "cell_type": "markdown",
   "id": "949d4966",
   "metadata": {},
   "source": [
    "#### Supression housing_median_age"
   ]
  },
  {
   "cell_type": "code",
   "execution_count": 302,
   "id": "1ab7a199",
   "metadata": {},
   "outputs": [],
   "source": [
    "df_train = immoSV_train_enc.drop([\"H_OCEAN\",\"ISLAND\",\"housing_median_age\"], axis=1)\n",
    "df_test = immoSV_test_enc.drop([\"H_OCEAN\",\"ISLAND\",\"housing_median_age\"], axis=1)"
   ]
  },
  {
   "cell_type": "code",
   "execution_count": 303,
   "id": "77543d87",
   "metadata": {},
   "outputs": [],
   "source": [
    "X_train = df_train.drop([\"median_house_value\"], axis=1)\n",
    "X_test = df_test.drop([\"median_house_value\"], axis=1)\n",
    "y_train = df_train[[\"median_house_value\"]]\n",
    "y_test = df_test[[\"median_house_value\"]]"
   ]
  },
  {
   "cell_type": "code",
   "execution_count": 304,
   "id": "517735f8",
   "metadata": {},
   "outputs": [],
   "source": [
    "model = KNeighborsRegressor()"
   ]
  },
  {
   "cell_type": "code",
   "execution_count": 305,
   "id": "db5da7cc",
   "metadata": {},
   "outputs": [
    {
     "name": "stdout",
     "output_type": "stream",
     "text": [
      "Train score : 0.8294758690996982\n",
      "Test score : 0.7299813558747059\n"
     ]
    }
   ],
   "source": [
    "model.fit(X_train,y_train)\n",
    "model.predict(X_test)\n",
    "print(f\"Train score : {model.score(X_train, y_train)}\")\n",
    "print(f\"Test score : {model.score(X_test, y_test)}\")"
   ]
  },
  {
   "cell_type": "code",
   "execution_count": 306,
   "id": "a9862ea0",
   "metadata": {},
   "outputs": [
    {
     "name": "stdout",
     "output_type": "stream",
     "text": [
      "MSE : 4106551415.4368496\n",
      "RMSE : 64082.379913958015\n",
      "MAE : 43397.53331973067\n"
     ]
    }
   ],
   "source": [
    "print(f\"MSE : {mean_squared_error(y_test, y_pred)}\")\n",
    "print(f\"RMSE : {np.sqrt(mean_squared_error(y_test, y_pred))}\")\n",
    "print(f\"MAE : {mean_absolute_error(y_test, y_pred)}\")"
   ]
  },
  {
   "cell_type": "code",
   "execution_count": 307,
   "id": "75344c38",
   "metadata": {},
   "outputs": [
    {
     "name": "stdout",
     "output_type": "stream",
     "text": [
      "R² : 0.7313596169786835\n",
      "MSE : 3539225742.2002764\n",
      "RMSE : 59465.773184455335\n",
      "MAE : 39912.82728465238\n"
     ]
    }
   ],
   "source": [
    "print(f\"R² : {cross_val_score(model,X_train, y_train,cv=KFold(n_splits=5, shuffle=True, random_state=101),scoring='r2').mean()}\")\n",
    "print(f\"MSE : {-cross_val_score(model,X_train, y_train,cv=KFold(n_splits=5, shuffle=True, random_state=101),scoring='neg_mean_squared_error').mean()}\")\n",
    "print(f\"RMSE : {-cross_val_score(model,X_train, y_train,cv=KFold(n_splits=5, shuffle=True, random_state=101),scoring='neg_root_mean_squared_error').mean()}\")\n",
    "print(f\"MAE : {-cross_val_score(model,X_train, y_train,cv=KFold(n_splits=5, shuffle=True, random_state=101),scoring='neg_mean_absolute_error').mean()}\")"
   ]
  },
  {
   "cell_type": "code",
   "execution_count": null,
   "id": "17a8c024",
   "metadata": {},
   "outputs": [],
   "source": []
  },
  {
   "cell_type": "markdown",
   "id": "da0b96b5",
   "metadata": {},
   "source": [
    "#### Supression housing_median_age, total_rooms, total_bedrooms, households"
   ]
  },
  {
   "cell_type": "code",
   "execution_count": 308,
   "id": "548bceef",
   "metadata": {},
   "outputs": [],
   "source": [
    "df_train = immoSV_train_enc.drop([\"H_OCEAN\",\"ISLAND\",\"housing_median_age\",\"total_rooms\", \"total_bedrooms\", \"households\"], axis=1)\n",
    "df_test = immoSV_test_enc.drop([\"H_OCEAN\",\"ISLAND\",\"housing_median_age\",\"total_rooms\", \"total_bedrooms\", \"households\"], axis=1)"
   ]
  },
  {
   "cell_type": "code",
   "execution_count": 309,
   "id": "eebc0a89",
   "metadata": {},
   "outputs": [],
   "source": [
    "X_train = df_train.drop([\"median_house_value\"], axis=1)\n",
    "X_test = df_test.drop([\"median_house_value\"], axis=1)\n",
    "y_train = df_train[[\"median_house_value\"]]\n",
    "y_test = df_test[[\"median_house_value\"]]"
   ]
  },
  {
   "cell_type": "code",
   "execution_count": 310,
   "id": "e17db0bd",
   "metadata": {},
   "outputs": [],
   "source": [
    "model = KNeighborsRegressor()"
   ]
  },
  {
   "cell_type": "code",
   "execution_count": 311,
   "id": "d4949242",
   "metadata": {},
   "outputs": [
    {
     "name": "stdout",
     "output_type": "stream",
     "text": [
      "Train score : 0.8329222665446092\n",
      "Test score : 0.7387178967620454\n"
     ]
    }
   ],
   "source": [
    "model.fit(X_train,y_train)\n",
    "model.predict(X_test)\n",
    "print(f\"Train score : {model.score(X_train, y_train)}\")\n",
    "print(f\"Test score : {model.score(X_test, y_test)}\")"
   ]
  },
  {
   "cell_type": "code",
   "execution_count": 312,
   "id": "45b37c42",
   "metadata": {},
   "outputs": [
    {
     "name": "stdout",
     "output_type": "stream",
     "text": [
      "MSE : 4106551415.4368496\n",
      "RMSE : 64082.379913958015\n",
      "MAE : 43397.53331973067\n"
     ]
    }
   ],
   "source": [
    "print(f\"MSE : {mean_squared_error(y_test, y_pred)}\")\n",
    "print(f\"RMSE : {np.sqrt(mean_squared_error(y_test, y_pred))}\")\n",
    "print(f\"MAE : {mean_absolute_error(y_test, y_pred)}\")"
   ]
  },
  {
   "cell_type": "code",
   "execution_count": 313,
   "id": "8377b2ef",
   "metadata": {},
   "outputs": [
    {
     "name": "stdout",
     "output_type": "stream",
     "text": [
      "R² : 0.7399614081576986\n",
      "MSE : 3424691328.6119356\n",
      "RMSE : 58503.06736624155\n",
      "MAE : 39473.568430257976\n"
     ]
    }
   ],
   "source": [
    "print(f\"R² : {cross_val_score(model,X_train, y_train,cv=KFold(n_splits=5, shuffle=True, random_state=101),scoring='r2').mean()}\")\n",
    "print(f\"MSE : {-cross_val_score(model,X_train, y_train,cv=KFold(n_splits=5, shuffle=True, random_state=101),scoring='neg_mean_squared_error').mean()}\")\n",
    "print(f\"RMSE : {-cross_val_score(model,X_train, y_train,cv=KFold(n_splits=5, shuffle=True, random_state=101),scoring='neg_root_mean_squared_error').mean()}\")\n",
    "print(f\"MAE : {-cross_val_score(model,X_train, y_train,cv=KFold(n_splits=5, shuffle=True, random_state=101),scoring='neg_mean_absolute_error').mean()}\")"
   ]
  },
  {
   "cell_type": "code",
   "execution_count": null,
   "id": "e2c42246",
   "metadata": {},
   "outputs": [],
   "source": []
  },
  {
   "cell_type": "markdown",
   "id": "95827611",
   "metadata": {},
   "source": [
    "#### Supression housing_median_age, total_rooms, total_bedrooms, households et (n_neighbors=11)"
   ]
  },
  {
   "cell_type": "code",
   "execution_count": 314,
   "id": "c6da7eba",
   "metadata": {},
   "outputs": [],
   "source": [
    "df_train = immoSV_train_enc.drop([\"H_OCEAN\",\"ISLAND\",\"housing_median_age\",\"total_rooms\", \"total_bedrooms\", \"households\"], axis=1)\n",
    "df_test = immoSV_test_enc.drop([\"H_OCEAN\",\"ISLAND\",\"housing_median_age\",\"total_rooms\", \"total_bedrooms\", \"households\"], axis=1)"
   ]
  },
  {
   "cell_type": "code",
   "execution_count": 315,
   "id": "dd6a9cdf",
   "metadata": {},
   "outputs": [],
   "source": [
    "X_train = df_train.drop([\"median_house_value\"], axis=1)\n",
    "X_test = df_test.drop([\"median_house_value\"], axis=1)\n",
    "y_train = df_train[[\"median_house_value\"]]\n",
    "y_test = df_test[[\"median_house_value\"]]"
   ]
  },
  {
   "cell_type": "code",
   "execution_count": 316,
   "id": "0170ab22",
   "metadata": {},
   "outputs": [],
   "source": [
    "model = KNeighborsRegressor(n_neighbors=11)"
   ]
  },
  {
   "cell_type": "code",
   "execution_count": 317,
   "id": "1a9c76ce",
   "metadata": {},
   "outputs": [
    {
     "name": "stdout",
     "output_type": "stream",
     "text": [
      "Train score : 0.7926652667727929\n",
      "Test score : 0.7447162100882985\n"
     ]
    }
   ],
   "source": [
    "model.fit(X_train,y_train)\n",
    "model.predict(X_test)\n",
    "print(f\"Train score : {model.score(X_train, y_train)}\")\n",
    "print(f\"Test score : {model.score(X_test, y_test)}\")"
   ]
  },
  {
   "cell_type": "code",
   "execution_count": 318,
   "id": "bd9cc354",
   "metadata": {},
   "outputs": [
    {
     "name": "stdout",
     "output_type": "stream",
     "text": [
      "MSE : 4106551415.4368496\n",
      "RMSE : 64082.379913958015\n",
      "MAE : 43397.53331973067\n"
     ]
    }
   ],
   "source": [
    "print(f\"MSE : {mean_squared_error(y_test, y_pred)}\")\n",
    "print(f\"RMSE : {np.sqrt(mean_squared_error(y_test, y_pred))}\")\n",
    "print(f\"MAE : {mean_absolute_error(y_test, y_pred)}\")"
   ]
  },
  {
   "cell_type": "code",
   "execution_count": 319,
   "id": "5331a413",
   "metadata": {},
   "outputs": [
    {
     "name": "stdout",
     "output_type": "stream",
     "text": [
      "R² : 0.7430868087135952\n",
      "MSE : 3384423542.790679\n",
      "RMSE : 58152.31762719669\n",
      "MAE : 39498.82035218825\n"
     ]
    }
   ],
   "source": [
    "print(f\"R² : {cross_val_score(model,X_train, y_train,cv=KFold(n_splits=5, shuffle=True, random_state=101),scoring='r2').mean()}\")\n",
    "print(f\"MSE : {-cross_val_score(model,X_train, y_train,cv=KFold(n_splits=5, shuffle=True, random_state=101),scoring='neg_mean_squared_error').mean()}\")\n",
    "print(f\"RMSE : {-cross_val_score(model,X_train, y_train,cv=KFold(n_splits=5, shuffle=True, random_state=101),scoring='neg_root_mean_squared_error').mean()}\")\n",
    "print(f\"MAE : {-cross_val_score(model,X_train, y_train,cv=KFold(n_splits=5, shuffle=True, random_state=101),scoring='neg_mean_absolute_error').mean()}\")"
   ]
  },
  {
   "cell_type": "code",
   "execution_count": null,
   "id": "70219c7f",
   "metadata": {},
   "outputs": [],
   "source": []
  },
  {
   "cell_type": "markdown",
   "id": "ac6c1890",
   "metadata": {},
   "source": [
    "#### Supression housing_median_age, total_rooms, total_bedrooms, households,  NEAR_OCEAN, INLAND"
   ]
  },
  {
   "cell_type": "code",
   "execution_count": 320,
   "id": "60066920",
   "metadata": {},
   "outputs": [],
   "source": [
    "df_train = immoSV_train_enc.drop([\"H_OCEAN\",\"ISLAND\",\"housing_median_age\",\"total_rooms\", \"total_bedrooms\", \"households\", \"NEAR_OCEAN\", \"INLAND\"], axis=1)\n",
    "df_test = immoSV_test_enc.drop([\"H_OCEAN\",\"ISLAND\",\"housing_median_age\",\"total_rooms\", \"total_bedrooms\", \"households\", \"NEAR_OCEAN\", \"INLAND\"], axis=1)"
   ]
  },
  {
   "cell_type": "code",
   "execution_count": 321,
   "id": "71cf7b76",
   "metadata": {},
   "outputs": [],
   "source": [
    "X_train = df_train.drop([\"median_house_value\"], axis=1)\n",
    "X_test = df_test.drop([\"median_house_value\"], axis=1)\n",
    "y_train = df_train[[\"median_house_value\"]]\n",
    "y_test = df_test[[\"median_house_value\"]]"
   ]
  },
  {
   "cell_type": "code",
   "execution_count": 322,
   "id": "0b37784b",
   "metadata": {},
   "outputs": [],
   "source": [
    "model = KNeighborsRegressor()"
   ]
  },
  {
   "cell_type": "code",
   "execution_count": 323,
   "id": "697f5d82",
   "metadata": {},
   "outputs": [
    {
     "name": "stdout",
     "output_type": "stream",
     "text": [
      "Train score : 0.8315162189451739\n",
      "Test score : 0.7324213818295806\n"
     ]
    }
   ],
   "source": [
    "model.fit(X_train,y_train)\n",
    "model.predict(X_test)\n",
    "print(f\"Train score : {model.score(X_train, y_train)}\")\n",
    "print(f\"Test score : {model.score(X_test, y_test)}\")"
   ]
  },
  {
   "cell_type": "code",
   "execution_count": 324,
   "id": "b6066bce",
   "metadata": {},
   "outputs": [
    {
     "name": "stdout",
     "output_type": "stream",
     "text": [
      "MSE : 4106551415.4368496\n",
      "RMSE : 64082.379913958015\n",
      "MAE : 43397.53331973067\n"
     ]
    }
   ],
   "source": [
    "print(f\"MSE : {mean_squared_error(y_test, y_pred)}\")\n",
    "print(f\"RMSE : {np.sqrt(mean_squared_error(y_test, y_pred))}\")\n",
    "print(f\"MAE : {mean_absolute_error(y_test, y_pred)}\")"
   ]
  },
  {
   "cell_type": "code",
   "execution_count": 325,
   "id": "2a03be91",
   "metadata": {},
   "outputs": [
    {
     "name": "stdout",
     "output_type": "stream",
     "text": [
      "R² : 0.7365323145577355\n",
      "MSE : 3469819525.175237\n",
      "RMSE : 58894.78070291308\n",
      "MAE : 39777.36232619152\n"
     ]
    }
   ],
   "source": [
    "print(f\"R² : {cross_val_score(model,X_train, y_train,cv=KFold(n_splits=5, shuffle=True, random_state=101),scoring='r2').mean()}\")\n",
    "print(f\"MSE : {-cross_val_score(model,X_train, y_train,cv=KFold(n_splits=5, shuffle=True, random_state=101),scoring='neg_mean_squared_error').mean()}\")\n",
    "print(f\"RMSE : {-cross_val_score(model,X_train, y_train,cv=KFold(n_splits=5, shuffle=True, random_state=101),scoring='neg_root_mean_squared_error').mean()}\")\n",
    "print(f\"MAE : {-cross_val_score(model,X_train, y_train,cv=KFold(n_splits=5, shuffle=True, random_state=101),scoring='neg_mean_absolute_error').mean()}\")"
   ]
  },
  {
   "cell_type": "markdown",
   "id": "b1dca27d",
   "metadata": {},
   "source": [
    "#### Supression housing_median_age, total_rooms, total_bedrooms, households,  NEAR_OCEAN, INLAND et (n_neighbors=11)"
   ]
  },
  {
   "cell_type": "code",
   "execution_count": 326,
   "id": "6062739c",
   "metadata": {},
   "outputs": [],
   "source": [
    "df_train = immoSV_train_enc.drop([\"H_OCEAN\",\"ISLAND\",\"housing_median_age\",\"total_rooms\", \"total_bedrooms\", \"households\", \"NEAR_OCEAN\", \"INLAND\"], axis=1)\n",
    "df_test = immoSV_test_enc.drop([\"H_OCEAN\",\"ISLAND\",\"housing_median_age\",\"total_rooms\", \"total_bedrooms\", \"households\", \"NEAR_OCEAN\", \"INLAND\"], axis=1)"
   ]
  },
  {
   "cell_type": "code",
   "execution_count": 327,
   "id": "1576f971",
   "metadata": {},
   "outputs": [],
   "source": [
    "X_train = df_train.drop([\"median_house_value\"], axis=1)\n",
    "X_test = df_test.drop([\"median_house_value\"], axis=1)\n",
    "y_train = df_train[[\"median_house_value\"]]\n",
    "y_test = df_test[[\"median_house_value\"]]"
   ]
  },
  {
   "cell_type": "code",
   "execution_count": 328,
   "id": "5b3859cd",
   "metadata": {},
   "outputs": [],
   "source": [
    "model = KNeighborsRegressor(n_neighbors=11)"
   ]
  },
  {
   "cell_type": "code",
   "execution_count": 329,
   "id": "2dd21f3b",
   "metadata": {},
   "outputs": [
    {
     "name": "stdout",
     "output_type": "stream",
     "text": [
      "Train score : 0.7908990320930849\n",
      "Test score : 0.7374461118376059\n"
     ]
    }
   ],
   "source": [
    "model.fit(X_train,y_train)\n",
    "model.predict(X_test)\n",
    "print(f\"Train score : {model.score(X_train, y_train)}\")\n",
    "print(f\"Test score : {model.score(X_test, y_test)}\")"
   ]
  },
  {
   "cell_type": "code",
   "execution_count": 330,
   "id": "8e80b147",
   "metadata": {},
   "outputs": [
    {
     "name": "stdout",
     "output_type": "stream",
     "text": [
      "MSE : 4106551415.4368496\n",
      "RMSE : 64082.379913958015\n",
      "MAE : 43397.53331973067\n"
     ]
    }
   ],
   "source": [
    "print(f\"MSE : {mean_squared_error(y_test, y_pred)}\")\n",
    "print(f\"RMSE : {np.sqrt(mean_squared_error(y_test, y_pred))}\")\n",
    "print(f\"MAE : {mean_absolute_error(y_test, y_pred)}\")"
   ]
  },
  {
   "cell_type": "code",
   "execution_count": 331,
   "id": "d12ea8eb",
   "metadata": {},
   "outputs": [
    {
     "name": "stdout",
     "output_type": "stream",
     "text": [
      "R² : 0.7407571751864601\n",
      "MSE : 3414878374.145632\n",
      "RMSE : 58417.36647614559\n",
      "MAE : 39650.958691417894\n"
     ]
    }
   ],
   "source": [
    "print(f\"R² : {cross_val_score(model,X_train, y_train,cv=KFold(n_splits=5, shuffle=True, random_state=101),scoring='r2').mean()}\")\n",
    "print(f\"MSE : {-cross_val_score(model,X_train, y_train,cv=KFold(n_splits=5, shuffle=True, random_state=101),scoring='neg_mean_squared_error').mean()}\")\n",
    "print(f\"RMSE : {-cross_val_score(model,X_train, y_train,cv=KFold(n_splits=5, shuffle=True, random_state=101),scoring='neg_root_mean_squared_error').mean()}\")\n",
    "print(f\"MAE : {-cross_val_score(model,X_train, y_train,cv=KFold(n_splits=5, shuffle=True, random_state=101),scoring='neg_mean_absolute_error').mean()}\")"
   ]
  },
  {
   "cell_type": "code",
   "execution_count": null,
   "id": "662df28f",
   "metadata": {},
   "outputs": [],
   "source": []
  },
  {
   "cell_type": "markdown",
   "id": "c8961365",
   "metadata": {},
   "source": [
    "# GridSearch"
   ]
  },
  {
   "cell_type": "code",
   "execution_count": 374,
   "id": "f6ee0de4",
   "metadata": {},
   "outputs": [],
   "source": [
    "param_grid = [\n",
    "    {\n",
    "        'n_neighbors': [2, 3, 4, 5, 6, 7, 8, 9, 10, 11, 12, 13, 14, 15, 16, 17, 18, 19, 20],\n",
    "        'weights' : ['uniform', 'distance'],\n",
    "        'algorithm' : ['auto', 'ball_tree', 'kd_tree', 'brute']\n",
    "    }\n",
    "]"
   ]
  },
  {
   "cell_type": "code",
   "execution_count": 375,
   "id": "5532b8bb",
   "metadata": {},
   "outputs": [],
   "source": [
    "grid_search = GridSearchCV(KNeighborsRegressor(), param_grid, cv=5, scoring=['r2','neg_root_mean_squared_error'],refit='neg_root_mean_squared_error', n_jobs=-1, verbose=True,return_train_score=True)"
   ]
  },
  {
   "cell_type": "code",
   "execution_count": 376,
   "id": "cd8ad503",
   "metadata": {},
   "outputs": [
    {
     "name": "stdout",
     "output_type": "stream",
     "text": [
      "Fitting 5 folds for each of 152 candidates, totalling 760 fits\n",
      "Wall time: 7min 3s\n"
     ]
    },
    {
     "data": {
      "text/plain": [
       "GridSearchCV(cv=5, estimator=KNeighborsRegressor(), n_jobs=-1,\n",
       "             param_grid=[{'algorithm': ['auto', 'ball_tree', 'kd_tree',\n",
       "                                        'brute'],\n",
       "                          'n_neighbors': [2, 3, 4, 5, 6, 7, 8, 9, 10, 11, 12,\n",
       "                                          13, 14, 15, 16, 17, 18, 19, 20],\n",
       "                          'weights': ['uniform', 'distance']}],\n",
       "             refit='neg_root_mean_squared_error', return_train_score=True,\n",
       "             scoring=['r2', 'neg_root_mean_squared_error'], verbose=True)"
      ]
     },
     "execution_count": 376,
     "metadata": {},
     "output_type": "execute_result"
    }
   ],
   "source": [
    "%%time\n",
    "grid_search.fit(X_train, y_train)"
   ]
  },
  {
   "cell_type": "code",
   "execution_count": 377,
   "id": "01e47bb2",
   "metadata": {},
   "outputs": [
    {
     "name": "stdout",
     "output_type": "stream",
     "text": [
      "{'algorithm': 'auto', 'n_neighbors': 12, 'weights': 'distance'} -57354.32817149929\n"
     ]
    }
   ],
   "source": [
    "print(grid_search.best_params_, grid_search.best_score_)"
   ]
  },
  {
   "cell_type": "markdown",
   "id": "a1475163",
   "metadata": {},
   "source": [
    "#### Supression housing_median_age, total_rooms, total_bedrooms, households,  NEAR_OCEAN, INLAND et (n_neighbors=12)"
   ]
  },
  {
   "cell_type": "code",
   "execution_count": 351,
   "id": "f7e0746d",
   "metadata": {},
   "outputs": [],
   "source": [
    "df_train = immoSV_train_enc.drop([\"H_OCEAN\",\"ISLAND\",\"housing_median_age\",\"total_rooms\", \"total_bedrooms\", \"households\", \"NEAR_OCEAN\", \"INLAND\"], axis=1)\n",
    "df_test = immoSV_test_enc.drop([\"H_OCEAN\",\"ISLAND\",\"housing_median_age\",\"total_rooms\", \"total_bedrooms\", \"households\", \"NEAR_OCEAN\", \"INLAND\"], axis=1)"
   ]
  },
  {
   "cell_type": "code",
   "execution_count": 352,
   "id": "b338ac57",
   "metadata": {},
   "outputs": [],
   "source": [
    "X_train = df_train.drop([\"median_house_value\"], axis=1)\n",
    "X_test = df_test.drop([\"median_house_value\"], axis=1)\n",
    "y_train = df_train[[\"median_house_value\"]]\n",
    "y_test = df_test[[\"median_house_value\"]]"
   ]
  },
  {
   "cell_type": "code",
   "execution_count": 369,
   "id": "fd1f3d31",
   "metadata": {},
   "outputs": [],
   "source": [
    "model = KNeighborsRegressor(n_neighbors=13)"
   ]
  },
  {
   "cell_type": "code",
   "execution_count": 370,
   "id": "90e0315b",
   "metadata": {},
   "outputs": [
    {
     "name": "stdout",
     "output_type": "stream",
     "text": [
      "Train score : 0.7839078206375258\n",
      "Test score : 0.7337894972792898\n"
     ]
    }
   ],
   "source": [
    "model.fit(X_train,y_train)\n",
    "model.predict(X_test)\n",
    "print(f\"Train score : {model.score(X_train, y_train)}\")\n",
    "print(f\"Test score : {model.score(X_test, y_test)}\")"
   ]
  },
  {
   "cell_type": "code",
   "execution_count": 371,
   "id": "e62d8752",
   "metadata": {},
   "outputs": [
    {
     "name": "stdout",
     "output_type": "stream",
     "text": [
      "MSE : 4106551415.4368496\n",
      "RMSE : 64082.379913958015\n",
      "MAE : 43397.53331973067\n"
     ]
    }
   ],
   "source": [
    "print(f\"MSE : {mean_squared_error(y_test, y_pred)}\")\n",
    "print(f\"RMSE : {np.sqrt(mean_squared_error(y_test, y_pred))}\")\n",
    "print(f\"MAE : {mean_absolute_error(y_test, y_pred)}\")"
   ]
  },
  {
   "cell_type": "code",
   "execution_count": 372,
   "id": "e4f37ae4",
   "metadata": {},
   "outputs": [
    {
     "name": "stdout",
     "output_type": "stream",
     "text": [
      "R² : 0.739580049541297\n",
      "MSE : 3430474113.3468866\n",
      "RMSE : 58549.73509938696\n",
      "MAE : 39822.4646732367\n"
     ]
    }
   ],
   "source": [
    "print(f\"R² : {cross_val_score(model,X_train, y_train,cv=KFold(n_splits=5, shuffle=True, random_state=101),scoring='r2').mean()}\")\n",
    "print(f\"MSE : {-cross_val_score(model,X_train, y_train,cv=KFold(n_splits=5, shuffle=True, random_state=101),scoring='neg_mean_squared_error').mean()}\")\n",
    "print(f\"RMSE : {-cross_val_score(model,X_train, y_train,cv=KFold(n_splits=5, shuffle=True, random_state=101),scoring='neg_root_mean_squared_error').mean()}\")\n",
    "print(f\"MAE : {-cross_val_score(model,X_train, y_train,cv=KFold(n_splits=5, shuffle=True, random_state=101),scoring='neg_mean_absolute_error').mean()}\")"
   ]
  },
  {
   "cell_type": "code",
   "execution_count": null,
   "id": "a9316f3b",
   "metadata": {},
   "outputs": [],
   "source": []
  },
  {
   "cell_type": "markdown",
   "id": "5373bff4",
   "metadata": {},
   "source": [
    "#### Supression housing_median_age, total_rooms, total_bedrooms, households,  NEAR_OCEAN, INLAND et (n_neighbors=12)"
   ]
  },
  {
   "cell_type": "code",
   "execution_count": 351,
   "id": "92eb453a",
   "metadata": {},
   "outputs": [],
   "source": [
    "df_train = immoSV_train_enc.drop([\"H_OCEAN\",\"ISLAND\",\"housing_median_age\",\"total_rooms\", \"total_bedrooms\", \"households\", \"NEAR_OCEAN\", \"INLAND\"], axis=1)\n",
    "df_test = immoSV_test_enc.drop([\"H_OCEAN\",\"ISLAND\",\"housing_median_age\",\"total_rooms\", \"total_bedrooms\", \"households\", \"NEAR_OCEAN\", \"INLAND\"], axis=1)"
   ]
  },
  {
   "cell_type": "code",
   "execution_count": 352,
   "id": "243cbbb1",
   "metadata": {},
   "outputs": [],
   "source": [
    "X_train = df_train.drop([\"median_house_value\"], axis=1)\n",
    "X_test = df_test.drop([\"median_house_value\"], axis=1)\n",
    "y_train = df_train[[\"median_house_value\"]]\n",
    "y_test = df_test[[\"median_house_value\"]]"
   ]
  },
  {
   "cell_type": "code",
   "execution_count": 378,
   "id": "75c7d499",
   "metadata": {},
   "outputs": [],
   "source": [
    "model = KNeighborsRegressor(algorithm='auto', n_neighbors= 12, weights='distance')"
   ]
  },
  {
   "cell_type": "code",
   "execution_count": 379,
   "id": "84f4cf7c",
   "metadata": {},
   "outputs": [
    {
     "name": "stdout",
     "output_type": "stream",
     "text": [
      "Train score : 1.0\n",
      "Test score : 0.7447216898677488\n"
     ]
    }
   ],
   "source": [
    "model.fit(X_train,y_train)\n",
    "model.predict(X_test)\n",
    "print(f\"Train score : {model.score(X_train, y_train)}\")\n",
    "print(f\"Test score : {model.score(X_test, y_test)}\")"
   ]
  },
  {
   "cell_type": "code",
   "execution_count": 380,
   "id": "3e67b9c7",
   "metadata": {},
   "outputs": [
    {
     "name": "stdout",
     "output_type": "stream",
     "text": [
      "MSE : 4106551415.4368496\n",
      "RMSE : 64082.379913958015\n",
      "MAE : 43397.53331973067\n"
     ]
    }
   ],
   "source": [
    "print(f\"MSE : {mean_squared_error(y_test, y_pred)}\")\n",
    "print(f\"RMSE : {np.sqrt(mean_squared_error(y_test, y_pred))}\")\n",
    "print(f\"MAE : {mean_absolute_error(y_test, y_pred)}\")"
   ]
  },
  {
   "cell_type": "code",
   "execution_count": 381,
   "id": "774e48d1",
   "metadata": {},
   "outputs": [
    {
     "name": "stdout",
     "output_type": "stream",
     "text": [
      "R² : 0.750121705939226\n",
      "MSE : 3291651612.632971\n",
      "RMSE : 57354.56326826895\n",
      "MAE : 38733.39579968291\n"
     ]
    }
   ],
   "source": [
    "print(f\"R² : {cross_val_score(model,X_train, y_train,cv=KFold(n_splits=5, shuffle=True, random_state=101),scoring='r2').mean()}\")\n",
    "print(f\"MSE : {-cross_val_score(model,X_train, y_train,cv=KFold(n_splits=5, shuffle=True, random_state=101),scoring='neg_mean_squared_error').mean()}\")\n",
    "print(f\"RMSE : {-cross_val_score(model,X_train, y_train,cv=KFold(n_splits=5, shuffle=True, random_state=101),scoring='neg_root_mean_squared_error').mean()}\")\n",
    "print(f\"MAE : {-cross_val_score(model,X_train, y_train,cv=KFold(n_splits=5, shuffle=True, random_state=101),scoring='neg_mean_absolute_error').mean()}\")"
   ]
  },
  {
   "cell_type": "code",
   "execution_count": null,
   "id": "ca8bc1cc",
   "metadata": {},
   "outputs": [],
   "source": []
  },
  {
   "cell_type": "markdown",
   "id": "5b4e3170",
   "metadata": {},
   "source": [
    "#### Supression housing_median_age, total_rooms, total_bedrooms, households,  NEAR_OCEAN, INLAND et (n_neighbors=9)"
   ]
  },
  {
   "cell_type": "code",
   "execution_count": 351,
   "id": "8e0f5012",
   "metadata": {},
   "outputs": [],
   "source": [
    "df_train = immoSV_train_enc.drop([\"H_OCEAN\",\"ISLAND\",\"housing_median_age\",\"total_rooms\", \"total_bedrooms\", \"households\", \"NEAR_OCEAN\", \"INLAND\"], axis=1)\n",
    "df_test = immoSV_test_enc.drop([\"H_OCEAN\",\"ISLAND\",\"housing_median_age\",\"total_rooms\", \"total_bedrooms\", \"households\", \"NEAR_OCEAN\", \"INLAND\"], axis=1)"
   ]
  },
  {
   "cell_type": "code",
   "execution_count": 352,
   "id": "ccc75ae6",
   "metadata": {},
   "outputs": [],
   "source": [
    "X_train = df_train.drop([\"median_house_value\"], axis=1)\n",
    "X_test = df_test.drop([\"median_house_value\"], axis=1)\n",
    "y_train = df_train[[\"median_house_value\"]]\n",
    "y_test = df_test[[\"median_house_value\"]]"
   ]
  },
  {
   "cell_type": "code",
   "execution_count": 382,
   "id": "6421fddd",
   "metadata": {},
   "outputs": [],
   "source": [
    "model = KNeighborsRegressor(algorithm='auto', n_neighbors= 9, weights='distance')"
   ]
  },
  {
   "cell_type": "code",
   "execution_count": 383,
   "id": "23231e3a",
   "metadata": {},
   "outputs": [
    {
     "name": "stdout",
     "output_type": "stream",
     "text": [
      "Train score : 1.0\n",
      "Test score : 0.7458782339731238\n"
     ]
    }
   ],
   "source": [
    "model.fit(X_train,y_train)\n",
    "model.predict(X_test)\n",
    "print(f\"Train score : {model.score(X_train, y_train)}\")\n",
    "print(f\"Test score : {model.score(X_test, y_test)}\")"
   ]
  },
  {
   "cell_type": "code",
   "execution_count": 384,
   "id": "61051829",
   "metadata": {},
   "outputs": [
    {
     "name": "stdout",
     "output_type": "stream",
     "text": [
      "MSE : 4106551415.4368496\n",
      "RMSE : 64082.379913958015\n",
      "MAE : 43397.53331973067\n"
     ]
    }
   ],
   "source": [
    "print(f\"MSE : {mean_squared_error(y_test, y_pred)}\")\n",
    "print(f\"RMSE : {np.sqrt(mean_squared_error(y_test, y_pred))}\")\n",
    "print(f\"MAE : {mean_absolute_error(y_test, y_pred)}\")"
   ]
  },
  {
   "cell_type": "code",
   "execution_count": 385,
   "id": "7d6eff2f",
   "metadata": {},
   "outputs": [
    {
     "name": "stdout",
     "output_type": "stream",
     "text": [
      "R² : 0.7502281039762715\n",
      "MSE : 3290130256.725421\n",
      "RMSE : 57343.704859058\n",
      "MAE : 38748.22675703193\n"
     ]
    }
   ],
   "source": [
    "print(f\"R² : {cross_val_score(model,X_train, y_train,cv=KFold(n_splits=5, shuffle=True, random_state=101),scoring='r2').mean()}\")\n",
    "print(f\"MSE : {-cross_val_score(model,X_train, y_train,cv=KFold(n_splits=5, shuffle=True, random_state=101),scoring='neg_mean_squared_error').mean()}\")\n",
    "print(f\"RMSE : {-cross_val_score(model,X_train, y_train,cv=KFold(n_splits=5, shuffle=True, random_state=101),scoring='neg_root_mean_squared_error').mean()}\")\n",
    "print(f\"MAE : {-cross_val_score(model,X_train, y_train,cv=KFold(n_splits=5, shuffle=True, random_state=101),scoring='neg_mean_absolute_error').mean()}\")"
   ]
  },
  {
   "cell_type": "code",
   "execution_count": null,
   "id": "26ecb895",
   "metadata": {},
   "outputs": [],
   "source": []
  },
  {
   "cell_type": "markdown",
   "id": "dbf4a4c9",
   "metadata": {},
   "source": [
    "#### Supression housing_median_age, total_rooms, total_bedrooms, households,  NEAR_OCEAN, INLAND et (n_neighbors=9)"
   ]
  },
  {
   "cell_type": "code",
   "execution_count": 419,
   "id": "0aab8b49",
   "metadata": {},
   "outputs": [],
   "source": [
    "df_train = immoSV_train_enc.drop([\"H_OCEAN\",\"ISLAND\",\"housing_median_age\",\"total_rooms\", \"total_bedrooms\", \"households\", \"NEAR_OCEAN\", \"INLAND\"], axis=1)\n",
    "df_test = immoSV_test_enc.drop([\"H_OCEAN\",\"ISLAND\",\"housing_median_age\",\"total_rooms\", \"total_bedrooms\", \"households\", \"NEAR_OCEAN\", \"INLAND\"], axis=1)"
   ]
  },
  {
   "cell_type": "code",
   "execution_count": 420,
   "id": "de7e540c",
   "metadata": {},
   "outputs": [],
   "source": [
    "X_train = df_train.drop([\"median_house_value\"], axis=1)\n",
    "X_test = df_test.drop([\"median_house_value\"], axis=1)\n",
    "y_train = df_train[[\"median_house_value\"]]\n",
    "y_test = df_test[[\"median_house_value\"]]"
   ]
  },
  {
   "cell_type": "code",
   "execution_count": 421,
   "id": "107226db",
   "metadata": {},
   "outputs": [],
   "source": [
    "model = KNeighborsRegressor(n_neighbors=9)"
   ]
  },
  {
   "cell_type": "code",
   "execution_count": 422,
   "id": "ca7e2f11",
   "metadata": {},
   "outputs": [
    {
     "name": "stdout",
     "output_type": "stream",
     "text": [
      "Train score : 0.8008231512699096\n",
      "Test score : 0.7385060885818894\n"
     ]
    }
   ],
   "source": [
    "model.fit(X_train,y_train)\n",
    "y_pred = model.predict(X_test)\n",
    "print(f\"Train score : {model.score(X_train, y_train)}\")\n",
    "print(f\"Test score : {model.score(X_test, y_test)}\")"
   ]
  },
  {
   "cell_type": "code",
   "execution_count": 423,
   "id": "1f2cd32c",
   "metadata": {},
   "outputs": [
    {
     "name": "stdout",
     "output_type": "stream",
     "text": [
      "MSE : 3543451254.245423\n",
      "RMSE : 59526.89521758566\n",
      "MAE : 40080.908567412545\n"
     ]
    }
   ],
   "source": [
    "print(f\"MSE : {mean_squared_error(y_test, y_pred)}\")\n",
    "print(f\"RMSE : {np.sqrt(mean_squared_error(y_test, y_pred))}\")\n",
    "print(f\"MAE : {mean_absolute_error(y_test, y_pred)}\")"
   ]
  },
  {
   "cell_type": "code",
   "execution_count": 424,
   "id": "6a537094",
   "metadata": {},
   "outputs": [
    {
     "name": "stdout",
     "output_type": "stream",
     "text": [
      "R² : 0.7421169669062511\n",
      "MSE : 3397083859.194866\n",
      "RMSE : 58266.46389388775\n",
      "MAE : 39603.70677743769\n"
     ]
    }
   ],
   "source": [
    "print(f\"R² : {cross_val_score(model,X_train, y_train,cv=KFold(n_splits=5, shuffle=True, random_state=101),scoring='r2').mean()}\")\n",
    "print(f\"MSE : {-cross_val_score(model,X_train, y_train,cv=KFold(n_splits=5, shuffle=True, random_state=101),scoring='neg_mean_squared_error').mean()}\")\n",
    "print(f\"RMSE : {-cross_val_score(model,X_train, y_train,cv=KFold(n_splits=5, shuffle=True, random_state=101),scoring='neg_root_mean_squared_error').mean()}\")\n",
    "print(f\"MAE : {-cross_val_score(model,X_train, y_train,cv=KFold(n_splits=5, shuffle=True, random_state=101),scoring='neg_mean_absolute_error').mean()}\")"
   ]
  },
  {
   "cell_type": "code",
   "execution_count": null,
   "id": "eb5b51f3",
   "metadata": {},
   "outputs": [],
   "source": []
  },
  {
   "cell_type": "code",
   "execution_count": null,
   "id": "507d0b52",
   "metadata": {},
   "outputs": [],
   "source": []
  },
  {
   "cell_type": "code",
   "execution_count": 425,
   "id": "7abbd947",
   "metadata": {},
   "outputs": [],
   "source": [
    "# with open(\"./my_pickles/knn.pkl\", \"wb\") as file:\n",
    "#     pickle.dump(model, file)"
   ]
  },
  {
   "cell_type": "code",
   "execution_count": 25,
   "id": "f9c5a11c",
   "metadata": {},
   "outputs": [],
   "source": [
    "# with open(\"./my_pickles/minmaxscaler.pkl\", \"wb\") as file:\n",
    "#     pickle.dump(sc, file)"
   ]
  },
  {
   "cell_type": "code",
   "execution_count": 27,
   "id": "04b0a089",
   "metadata": {},
   "outputs": [],
   "source": [
    "# with open(\"./my_pickles/onehotencoder.pkl\", \"wb\") as file:\n",
    "#     pickle.dump(enc, file)"
   ]
  },
  {
   "cell_type": "code",
   "execution_count": null,
   "id": "7c7a7148",
   "metadata": {},
   "outputs": [],
   "source": []
  },
  {
   "cell_type": "markdown",
   "id": "5092bb3c",
   "metadata": {},
   "source": [
    "# MLfow"
   ]
  },
  {
   "cell_type": "code",
   "execution_count": 29,
   "id": "2e440dcf",
   "metadata": {},
   "outputs": [],
   "source": [
    "#mlflow\n",
    "from urllib.parse import urlparse\n",
    "import mlflow\n",
    "import mlflow.sklearn\n",
    "\n",
    "import logging"
   ]
  },
  {
   "cell_type": "code",
   "execution_count": 30,
   "id": "844ef1ce",
   "metadata": {},
   "outputs": [
    {
     "name": "stderr",
     "output_type": "stream",
     "text": [
      "2023/01/25 16:51:47 INFO mlflow.tracking.fluent: Experiment with name 'PREDIMMO' does not exist. Creating a new experiment.\n"
     ]
    }
   ],
   "source": [
    "mlflow.set_experiment(\"PREDIMMO\")\n",
    "mlflow.sklearn.autolog()"
   ]
  },
  {
   "cell_type": "code",
   "execution_count": null,
   "id": "89675f45",
   "metadata": {},
   "outputs": [],
   "source": [
    "r2 = cross_val_score(model,X_train, y_train,cv=KFold(n_splits=5, shuffle=True, random_state=101),scoring='r2').mean()\n",
    "RMSE = -cross_val_score(model,X_train, y_train,cv=KFold(n_splits=5, shuffle=True, random_state=101),scoring='neg_root_mean_squared_error').mean()"
   ]
  },
  {
   "cell_type": "code",
   "execution_count": null,
   "id": "f1f00b15",
   "metadata": {},
   "outputs": [],
   "source": [
    "run_name=\"KNN_1\"\n",
    "\n",
    "with mlflow.start_run(run_name=run_name):\n",
    "    \n",
    "    mlflow.log_metric(\"R²\", r2)\n",
    "    mlflow.log_metric(\"RMSE\", RMSE)\n",
    "\n",
    "    mlflow.log_artifacts(\"./mlflow_models\")"
   ]
  }
 ],
 "metadata": {
  "kernelspec": {
   "display_name": "Python 3",
   "language": "python",
   "name": "python3"
  },
  "language_info": {
   "codemirror_mode": {
    "name": "ipython",
    "version": 3
   },
   "file_extension": ".py",
   "mimetype": "text/x-python",
   "name": "python",
   "nbconvert_exporter": "python",
   "pygments_lexer": "ipython3",
   "version": "3.8.8"
  }
 },
 "nbformat": 4,
 "nbformat_minor": 5
}
