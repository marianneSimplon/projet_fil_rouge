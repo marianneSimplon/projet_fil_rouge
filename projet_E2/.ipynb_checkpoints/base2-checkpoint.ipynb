{
 "cells": [
  {
   "cell_type": "code",
   "execution_count": 61,
   "id": "6979f386",
   "metadata": {},
   "outputs": [],
   "source": [
    "import pandas as pd\n",
    "import seaborn as sns\n",
    "import matplotlib.pyplot as plt\n",
    "import numpy as np\n",
    "import os\n",
    "\n",
    "from sklearn.model_selection import train_test_split\n",
    "\n",
    "from sklearn.dummy import DummyRegressor\n",
    "from sklearn.linear_model import LinearRegression\n",
    "\n",
    "from sklearn.model_selection import cross_validate\n",
    "from sklearn.model_selection import cross_val_score\n",
    "from sklearn.model_selection import cross_val_predict\n",
    "\n",
    "from sklearn.model_selection import KFold\n",
    "from sklearn.metrics import mean_squared_error\n",
    "from sklearn.metrics import mean_absolute_error\n",
    "from sklearn.metrics import mean_squared_log_error\n",
    "from sklearn.metrics import r2_score\n",
    "\n",
    "from sklearn.impute import KNNImputer\n",
    "\n",
    "from scipy.stats import shapiro\n",
    "from sklearn.preprocessing import MinMaxScaler\n",
    "from sklearn.preprocessing import StandardScaler\n",
    "from sklearn.preprocessing import RobustScaler\n",
    "\n",
    "from sklearn.preprocessing import OneHotEncoder\n",
    "\n",
    "from sklearn.inspection import permutation_importance\n",
    "from statsmodels.stats.outliers_influence import variance_inflation_factor as vif\n",
    "\n",
    "from sklearn.neighbors import KNeighborsRegressor\n",
    "from sklearn.model_selection import learning_curve\n",
    "from sklearn.model_selection import GridSearchCV\n",
    "\n",
    "import pickle"
   ]
  },
  {
   "cell_type": "code",
   "execution_count": 28,
   "id": "12ad57df",
   "metadata": {},
   "outputs": [
    {
     "data": {
      "text/html": [
       "<div>\n",
       "<style scoped>\n",
       "    .dataframe tbody tr th:only-of-type {\n",
       "        vertical-align: middle;\n",
       "    }\n",
       "\n",
       "    .dataframe tbody tr th {\n",
       "        vertical-align: top;\n",
       "    }\n",
       "\n",
       "    .dataframe thead th {\n",
       "        text-align: right;\n",
       "    }\n",
       "</style>\n",
       "<table border=\"1\" class=\"dataframe\">\n",
       "  <thead>\n",
       "    <tr style=\"text-align: right;\">\n",
       "      <th></th>\n",
       "      <th>Unnamed: 0</th>\n",
       "      <th>longitude</th>\n",
       "      <th>latitude</th>\n",
       "      <th>housing_median_age</th>\n",
       "      <th>total_rooms</th>\n",
       "      <th>total_bedrooms</th>\n",
       "      <th>population</th>\n",
       "      <th>households</th>\n",
       "      <th>median_income</th>\n",
       "      <th>median_house_value</th>\n",
       "      <th>ocean_proximity</th>\n",
       "    </tr>\n",
       "  </thead>\n",
       "  <tbody>\n",
       "    <tr>\n",
       "      <th>0</th>\n",
       "      <td>2072</td>\n",
       "      <td>-119.84</td>\n",
       "      <td>36.77</td>\n",
       "      <td>6.0</td>\n",
       "      <td>1853.0</td>\n",
       "      <td>473.0</td>\n",
       "      <td>1397.0</td>\n",
       "      <td>417.0</td>\n",
       "      <td>1.4817</td>\n",
       "      <td>72000.0</td>\n",
       "      <td>INLAND</td>\n",
       "    </tr>\n",
       "    <tr>\n",
       "      <th>1</th>\n",
       "      <td>10600</td>\n",
       "      <td>-117.80</td>\n",
       "      <td>33.68</td>\n",
       "      <td>8.0</td>\n",
       "      <td>2032.0</td>\n",
       "      <td>349.0</td>\n",
       "      <td>862.0</td>\n",
       "      <td>340.0</td>\n",
       "      <td>6.9133</td>\n",
       "      <td>274100.0</td>\n",
       "      <td>&lt;1H OCEAN</td>\n",
       "    </tr>\n",
       "    <tr>\n",
       "      <th>2</th>\n",
       "      <td>2494</td>\n",
       "      <td>-120.19</td>\n",
       "      <td>36.60</td>\n",
       "      <td>25.0</td>\n",
       "      <td>875.0</td>\n",
       "      <td>214.0</td>\n",
       "      <td>931.0</td>\n",
       "      <td>214.0</td>\n",
       "      <td>1.5536</td>\n",
       "      <td>58300.0</td>\n",
       "      <td>INLAND</td>\n",
       "    </tr>\n",
       "    <tr>\n",
       "      <th>3</th>\n",
       "      <td>4284</td>\n",
       "      <td>-118.32</td>\n",
       "      <td>34.10</td>\n",
       "      <td>31.0</td>\n",
       "      <td>622.0</td>\n",
       "      <td>229.0</td>\n",
       "      <td>597.0</td>\n",
       "      <td>227.0</td>\n",
       "      <td>1.5284</td>\n",
       "      <td>200000.0</td>\n",
       "      <td>&lt;1H OCEAN</td>\n",
       "    </tr>\n",
       "    <tr>\n",
       "      <th>4</th>\n",
       "      <td>16541</td>\n",
       "      <td>-121.23</td>\n",
       "      <td>37.79</td>\n",
       "      <td>21.0</td>\n",
       "      <td>1922.0</td>\n",
       "      <td>373.0</td>\n",
       "      <td>1130.0</td>\n",
       "      <td>372.0</td>\n",
       "      <td>4.0815</td>\n",
       "      <td>117900.0</td>\n",
       "      <td>INLAND</td>\n",
       "    </tr>\n",
       "    <tr>\n",
       "      <th>...</th>\n",
       "      <td>...</td>\n",
       "      <td>...</td>\n",
       "      <td>...</td>\n",
       "      <td>...</td>\n",
       "      <td>...</td>\n",
       "      <td>...</td>\n",
       "      <td>...</td>\n",
       "      <td>...</td>\n",
       "      <td>...</td>\n",
       "      <td>...</td>\n",
       "      <td>...</td>\n",
       "    </tr>\n",
       "    <tr>\n",
       "      <th>16507</th>\n",
       "      <td>1099</td>\n",
       "      <td>-121.90</td>\n",
       "      <td>39.59</td>\n",
       "      <td>20.0</td>\n",
       "      <td>1465.0</td>\n",
       "      <td>278.0</td>\n",
       "      <td>745.0</td>\n",
       "      <td>250.0</td>\n",
       "      <td>3.0625</td>\n",
       "      <td>93800.0</td>\n",
       "      <td>INLAND</td>\n",
       "    </tr>\n",
       "    <tr>\n",
       "      <th>16508</th>\n",
       "      <td>18898</td>\n",
       "      <td>-122.25</td>\n",
       "      <td>38.11</td>\n",
       "      <td>49.0</td>\n",
       "      <td>2365.0</td>\n",
       "      <td>504.0</td>\n",
       "      <td>1131.0</td>\n",
       "      <td>458.0</td>\n",
       "      <td>2.6133</td>\n",
       "      <td>103100.0</td>\n",
       "      <td>NEAR BAY</td>\n",
       "    </tr>\n",
       "    <tr>\n",
       "      <th>16509</th>\n",
       "      <td>11798</td>\n",
       "      <td>-121.22</td>\n",
       "      <td>38.92</td>\n",
       "      <td>19.0</td>\n",
       "      <td>2531.0</td>\n",
       "      <td>461.0</td>\n",
       "      <td>1206.0</td>\n",
       "      <td>429.0</td>\n",
       "      <td>4.4958</td>\n",
       "      <td>192600.0</td>\n",
       "      <td>INLAND</td>\n",
       "    </tr>\n",
       "    <tr>\n",
       "      <th>16510</th>\n",
       "      <td>6637</td>\n",
       "      <td>-118.14</td>\n",
       "      <td>34.16</td>\n",
       "      <td>39.0</td>\n",
       "      <td>2776.0</td>\n",
       "      <td>840.0</td>\n",
       "      <td>2546.0</td>\n",
       "      <td>773.0</td>\n",
       "      <td>2.5750</td>\n",
       "      <td>153500.0</td>\n",
       "      <td>&lt;1H OCEAN</td>\n",
       "    </tr>\n",
       "    <tr>\n",
       "      <th>16511</th>\n",
       "      <td>2575</td>\n",
       "      <td>-124.13</td>\n",
       "      <td>40.80</td>\n",
       "      <td>31.0</td>\n",
       "      <td>2152.0</td>\n",
       "      <td>462.0</td>\n",
       "      <td>1259.0</td>\n",
       "      <td>420.0</td>\n",
       "      <td>2.2478</td>\n",
       "      <td>81100.0</td>\n",
       "      <td>NEAR OCEAN</td>\n",
       "    </tr>\n",
       "  </tbody>\n",
       "</table>\n",
       "<p>16512 rows × 11 columns</p>\n",
       "</div>"
      ],
      "text/plain": [
       "       Unnamed: 0  longitude  latitude  housing_median_age  total_rooms  \\\n",
       "0            2072    -119.84     36.77                 6.0       1853.0   \n",
       "1           10600    -117.80     33.68                 8.0       2032.0   \n",
       "2            2494    -120.19     36.60                25.0        875.0   \n",
       "3            4284    -118.32     34.10                31.0        622.0   \n",
       "4           16541    -121.23     37.79                21.0       1922.0   \n",
       "...           ...        ...       ...                 ...          ...   \n",
       "16507        1099    -121.90     39.59                20.0       1465.0   \n",
       "16508       18898    -122.25     38.11                49.0       2365.0   \n",
       "16509       11798    -121.22     38.92                19.0       2531.0   \n",
       "16510        6637    -118.14     34.16                39.0       2776.0   \n",
       "16511        2575    -124.13     40.80                31.0       2152.0   \n",
       "\n",
       "       total_bedrooms  population  households  median_income  \\\n",
       "0               473.0      1397.0       417.0         1.4817   \n",
       "1               349.0       862.0       340.0         6.9133   \n",
       "2               214.0       931.0       214.0         1.5536   \n",
       "3               229.0       597.0       227.0         1.5284   \n",
       "4               373.0      1130.0       372.0         4.0815   \n",
       "...               ...         ...         ...            ...   \n",
       "16507           278.0       745.0       250.0         3.0625   \n",
       "16508           504.0      1131.0       458.0         2.6133   \n",
       "16509           461.0      1206.0       429.0         4.4958   \n",
       "16510           840.0      2546.0       773.0         2.5750   \n",
       "16511           462.0      1259.0       420.0         2.2478   \n",
       "\n",
       "       median_house_value ocean_proximity  \n",
       "0                 72000.0          INLAND  \n",
       "1                274100.0       <1H OCEAN  \n",
       "2                 58300.0          INLAND  \n",
       "3                200000.0       <1H OCEAN  \n",
       "4                117900.0          INLAND  \n",
       "...                   ...             ...  \n",
       "16507             93800.0          INLAND  \n",
       "16508            103100.0        NEAR BAY  \n",
       "16509            192600.0          INLAND  \n",
       "16510            153500.0       <1H OCEAN  \n",
       "16511             81100.0      NEAR OCEAN  \n",
       "\n",
       "[16512 rows x 11 columns]"
      ]
     },
     "execution_count": 28,
     "metadata": {},
     "output_type": "execute_result"
    }
   ],
   "source": [
    "immoSV_df = pd.read_csv(r'C:\\Users\\Admin\\Documents\\marianneSimplon\\simplon\\immo_SiliconValley_marianneD\\data\\traindata_ori.csv',delimiter=',', decimal='.')\n",
    "immoSV_df"
   ]
  },
  {
   "cell_type": "code",
   "execution_count": 29,
   "id": "a53f0b66",
   "metadata": {},
   "outputs": [],
   "source": [
    "# Supression de la colonne Unnamed: 0\n",
    "immoSV_df = immoSV_df.drop(\"Unnamed: 0\", axis=1)"
   ]
  },
  {
   "cell_type": "code",
   "execution_count": 30,
   "id": "911b964f",
   "metadata": {},
   "outputs": [],
   "source": [
    "immoSV_df.dropna(axis=0, inplace=True)"
   ]
  },
  {
   "cell_type": "code",
   "execution_count": 31,
   "id": "3852c1d9",
   "metadata": {},
   "outputs": [],
   "source": [
    "immoSV_df = immoSV_df.reset_index(inplace=False)\n",
    "immoSV_df = immoSV_df.drop(\"index\", axis=1)"
   ]
  },
  {
   "cell_type": "code",
   "execution_count": 32,
   "id": "fb79e5ef",
   "metadata": {},
   "outputs": [],
   "source": [
    "df = immoSV_df.copy()"
   ]
  },
  {
   "cell_type": "markdown",
   "id": "70ffd3a5",
   "metadata": {},
   "source": [
    "### Split du dataset en un dataset train et un dataset test"
   ]
  },
  {
   "cell_type": "code",
   "execution_count": 33,
   "id": "fab8ef03",
   "metadata": {},
   "outputs": [],
   "source": [
    "immoSV_train, immoSV_test = train_test_split(immoSV_df, test_size=0.3)"
   ]
  },
  {
   "cell_type": "code",
   "execution_count": 34,
   "id": "38572b62",
   "metadata": {},
   "outputs": [
    {
     "data": {
      "text/plain": [
       "(11435, 10)"
      ]
     },
     "execution_count": 34,
     "metadata": {},
     "output_type": "execute_result"
    }
   ],
   "source": [
    "immoSV_train.shape"
   ]
  },
  {
   "cell_type": "code",
   "execution_count": 35,
   "id": "23dfe2b9",
   "metadata": {},
   "outputs": [
    {
     "data": {
      "text/plain": [
       "(4901, 10)"
      ]
     },
     "execution_count": 35,
     "metadata": {},
     "output_type": "execute_result"
    }
   ],
   "source": [
    "immoSV_test.shape"
   ]
  },
  {
   "cell_type": "markdown",
   "id": "021cb147",
   "metadata": {},
   "source": [
    "### Scaling par normalisation"
   ]
  },
  {
   "cell_type": "code",
   "execution_count": 36,
   "id": "7bb81fd6",
   "metadata": {},
   "outputs": [],
   "source": [
    "# Liste des colonnes de données numériques à Scaler\n",
    "immoSV_num_columns_list = list(immoSV_train.columns)\n",
    "immoSV_num_columns_list.remove('ocean_proximity')\n",
    "immoSV_num_columns_list.remove('median_house_value')"
   ]
  },
  {
   "cell_type": "code",
   "execution_count": 37,
   "id": "46f4d2d8",
   "metadata": {},
   "outputs": [],
   "source": [
    "sc = MinMaxScaler()\n",
    "ft_sc = sc.fit(immoSV_train[immoSV_num_columns_list])\n",
    "immoSV_train[immoSV_num_columns_list] = ft_sc.transform(immoSV_train[immoSV_num_columns_list])"
   ]
  },
  {
   "cell_type": "code",
   "execution_count": 38,
   "id": "346eed78",
   "metadata": {},
   "outputs": [
    {
     "data": {
      "text/html": [
       "<div>\n",
       "<style scoped>\n",
       "    .dataframe tbody tr th:only-of-type {\n",
       "        vertical-align: middle;\n",
       "    }\n",
       "\n",
       "    .dataframe tbody tr th {\n",
       "        vertical-align: top;\n",
       "    }\n",
       "\n",
       "    .dataframe thead th {\n",
       "        text-align: right;\n",
       "    }\n",
       "</style>\n",
       "<table border=\"1\" class=\"dataframe\">\n",
       "  <thead>\n",
       "    <tr style=\"text-align: right;\">\n",
       "      <th></th>\n",
       "      <th>longitude</th>\n",
       "      <th>latitude</th>\n",
       "      <th>housing_median_age</th>\n",
       "      <th>total_rooms</th>\n",
       "      <th>total_bedrooms</th>\n",
       "      <th>population</th>\n",
       "      <th>households</th>\n",
       "      <th>median_income</th>\n",
       "      <th>median_house_value</th>\n",
       "      <th>ocean_proximity</th>\n",
       "    </tr>\n",
       "  </thead>\n",
       "  <tbody>\n",
       "    <tr>\n",
       "      <th>16269</th>\n",
       "      <td>0.203203</td>\n",
       "      <td>0.533475</td>\n",
       "      <td>0.078431</td>\n",
       "      <td>0.129577</td>\n",
       "      <td>0.182679</td>\n",
       "      <td>0.050646</td>\n",
       "      <td>0.176151</td>\n",
       "      <td>0.358181</td>\n",
       "      <td>322200.0</td>\n",
       "      <td>NEAR BAY</td>\n",
       "    </tr>\n",
       "    <tr>\n",
       "      <th>6166</th>\n",
       "      <td>0.601602</td>\n",
       "      <td>0.134963</td>\n",
       "      <td>0.352941</td>\n",
       "      <td>0.184994</td>\n",
       "      <td>0.238398</td>\n",
       "      <td>0.111830</td>\n",
       "      <td>0.231908</td>\n",
       "      <td>0.314016</td>\n",
       "      <td>218200.0</td>\n",
       "      <td>&lt;1H OCEAN</td>\n",
       "    </tr>\n",
       "    <tr>\n",
       "      <th>15248</th>\n",
       "      <td>0.699700</td>\n",
       "      <td>0.201913</td>\n",
       "      <td>0.176471</td>\n",
       "      <td>0.045477</td>\n",
       "      <td>0.046097</td>\n",
       "      <td>0.029513</td>\n",
       "      <td>0.050987</td>\n",
       "      <td>0.213845</td>\n",
       "      <td>104000.0</td>\n",
       "      <td>INLAND</td>\n",
       "    </tr>\n",
       "    <tr>\n",
       "      <th>8282</th>\n",
       "      <td>0.598599</td>\n",
       "      <td>0.166844</td>\n",
       "      <td>0.803922</td>\n",
       "      <td>0.064749</td>\n",
       "      <td>0.083967</td>\n",
       "      <td>0.023936</td>\n",
       "      <td>0.078947</td>\n",
       "      <td>0.247128</td>\n",
       "      <td>434400.0</td>\n",
       "      <td>&lt;1H OCEAN</td>\n",
       "    </tr>\n",
       "    <tr>\n",
       "      <th>16021</th>\n",
       "      <td>0.273273</td>\n",
       "      <td>0.737513</td>\n",
       "      <td>0.274510</td>\n",
       "      <td>0.005167</td>\n",
       "      <td>0.008071</td>\n",
       "      <td>0.003980</td>\n",
       "      <td>0.006250</td>\n",
       "      <td>0.022434</td>\n",
       "      <td>42500.0</td>\n",
       "      <td>INLAND</td>\n",
       "    </tr>\n",
       "    <tr>\n",
       "      <th>...</th>\n",
       "      <td>...</td>\n",
       "      <td>...</td>\n",
       "      <td>...</td>\n",
       "      <td>...</td>\n",
       "      <td>...</td>\n",
       "      <td>...</td>\n",
       "      <td>...</td>\n",
       "      <td>...</td>\n",
       "      <td>...</td>\n",
       "      <td>...</td>\n",
       "    </tr>\n",
       "    <tr>\n",
       "      <th>14646</th>\n",
       "      <td>0.720721</td>\n",
       "      <td>0.003188</td>\n",
       "      <td>0.490196</td>\n",
       "      <td>0.061612</td>\n",
       "      <td>0.057271</td>\n",
       "      <td>0.034138</td>\n",
       "      <td>0.060855</td>\n",
       "      <td>0.266217</td>\n",
       "      <td>144900.0</td>\n",
       "      <td>NEAR OCEAN</td>\n",
       "    </tr>\n",
       "    <tr>\n",
       "      <th>11907</th>\n",
       "      <td>0.236236</td>\n",
       "      <td>0.503719</td>\n",
       "      <td>0.509804</td>\n",
       "      <td>0.075216</td>\n",
       "      <td>0.071706</td>\n",
       "      <td>0.031980</td>\n",
       "      <td>0.070395</td>\n",
       "      <td>0.316016</td>\n",
       "      <td>327500.0</td>\n",
       "      <td>&lt;1H OCEAN</td>\n",
       "    </tr>\n",
       "    <tr>\n",
       "      <th>13752</th>\n",
       "      <td>0.524525</td>\n",
       "      <td>0.383634</td>\n",
       "      <td>0.470588</td>\n",
       "      <td>0.063167</td>\n",
       "      <td>0.073879</td>\n",
       "      <td>0.042714</td>\n",
       "      <td>0.075493</td>\n",
       "      <td>0.125481</td>\n",
       "      <td>52900.0</td>\n",
       "      <td>INLAND</td>\n",
       "    </tr>\n",
       "    <tr>\n",
       "      <th>11639</th>\n",
       "      <td>0.220220</td>\n",
       "      <td>0.575983</td>\n",
       "      <td>0.470588</td>\n",
       "      <td>0.036065</td>\n",
       "      <td>0.031662</td>\n",
       "      <td>0.015864</td>\n",
       "      <td>0.038322</td>\n",
       "      <td>0.404822</td>\n",
       "      <td>235500.0</td>\n",
       "      <td>NEAR BAY</td>\n",
       "    </tr>\n",
       "    <tr>\n",
       "      <th>14089</th>\n",
       "      <td>0.686687</td>\n",
       "      <td>0.150903</td>\n",
       "      <td>0.549020</td>\n",
       "      <td>0.003111</td>\n",
       "      <td>0.003104</td>\n",
       "      <td>0.001317</td>\n",
       "      <td>0.002632</td>\n",
       "      <td>0.830209</td>\n",
       "      <td>112500.0</td>\n",
       "      <td>INLAND</td>\n",
       "    </tr>\n",
       "  </tbody>\n",
       "</table>\n",
       "<p>11435 rows × 10 columns</p>\n",
       "</div>"
      ],
      "text/plain": [
       "       longitude  latitude  housing_median_age  total_rooms  total_bedrooms  \\\n",
       "16269   0.203203  0.533475            0.078431     0.129577        0.182679   \n",
       "6166    0.601602  0.134963            0.352941     0.184994        0.238398   \n",
       "15248   0.699700  0.201913            0.176471     0.045477        0.046097   \n",
       "8282    0.598599  0.166844            0.803922     0.064749        0.083967   \n",
       "16021   0.273273  0.737513            0.274510     0.005167        0.008071   \n",
       "...          ...       ...                 ...          ...             ...   \n",
       "14646   0.720721  0.003188            0.490196     0.061612        0.057271   \n",
       "11907   0.236236  0.503719            0.509804     0.075216        0.071706   \n",
       "13752   0.524525  0.383634            0.470588     0.063167        0.073879   \n",
       "11639   0.220220  0.575983            0.470588     0.036065        0.031662   \n",
       "14089   0.686687  0.150903            0.549020     0.003111        0.003104   \n",
       "\n",
       "       population  households  median_income  median_house_value  \\\n",
       "16269    0.050646    0.176151       0.358181            322200.0   \n",
       "6166     0.111830    0.231908       0.314016            218200.0   \n",
       "15248    0.029513    0.050987       0.213845            104000.0   \n",
       "8282     0.023936    0.078947       0.247128            434400.0   \n",
       "16021    0.003980    0.006250       0.022434             42500.0   \n",
       "...           ...         ...            ...                 ...   \n",
       "14646    0.034138    0.060855       0.266217            144900.0   \n",
       "11907    0.031980    0.070395       0.316016            327500.0   \n",
       "13752    0.042714    0.075493       0.125481             52900.0   \n",
       "11639    0.015864    0.038322       0.404822            235500.0   \n",
       "14089    0.001317    0.002632       0.830209            112500.0   \n",
       "\n",
       "      ocean_proximity  \n",
       "16269        NEAR BAY  \n",
       "6166        <1H OCEAN  \n",
       "15248          INLAND  \n",
       "8282        <1H OCEAN  \n",
       "16021          INLAND  \n",
       "...               ...  \n",
       "14646      NEAR OCEAN  \n",
       "11907       <1H OCEAN  \n",
       "13752          INLAND  \n",
       "11639        NEAR BAY  \n",
       "14089          INLAND  \n",
       "\n",
       "[11435 rows x 10 columns]"
      ]
     },
     "execution_count": 38,
     "metadata": {},
     "output_type": "execute_result"
    }
   ],
   "source": [
    "immoSV_train"
   ]
  },
  {
   "cell_type": "code",
   "execution_count": 39,
   "id": "7bb73671",
   "metadata": {},
   "outputs": [],
   "source": [
    "immoSV_test[immoSV_num_columns_list] = ft_sc.transform(immoSV_test[immoSV_num_columns_list])"
   ]
  },
  {
   "cell_type": "code",
   "execution_count": 40,
   "id": "12cb4831",
   "metadata": {},
   "outputs": [
    {
     "data": {
      "text/html": [
       "<div>\n",
       "<style scoped>\n",
       "    .dataframe tbody tr th:only-of-type {\n",
       "        vertical-align: middle;\n",
       "    }\n",
       "\n",
       "    .dataframe tbody tr th {\n",
       "        vertical-align: top;\n",
       "    }\n",
       "\n",
       "    .dataframe thead th {\n",
       "        text-align: right;\n",
       "    }\n",
       "</style>\n",
       "<table border=\"1\" class=\"dataframe\">\n",
       "  <thead>\n",
       "    <tr style=\"text-align: right;\">\n",
       "      <th></th>\n",
       "      <th>longitude</th>\n",
       "      <th>latitude</th>\n",
       "      <th>housing_median_age</th>\n",
       "      <th>total_rooms</th>\n",
       "      <th>total_bedrooms</th>\n",
       "      <th>population</th>\n",
       "      <th>households</th>\n",
       "      <th>median_income</th>\n",
       "      <th>median_house_value</th>\n",
       "      <th>ocean_proximity</th>\n",
       "    </tr>\n",
       "  </thead>\n",
       "  <tbody>\n",
       "    <tr>\n",
       "      <th>606</th>\n",
       "      <td>0.616617</td>\n",
       "      <td>0.143464</td>\n",
       "      <td>0.627451</td>\n",
       "      <td>0.032796</td>\n",
       "      <td>0.042527</td>\n",
       "      <td>0.024188</td>\n",
       "      <td>0.043750</td>\n",
       "      <td>0.253162</td>\n",
       "      <td>175000.0</td>\n",
       "      <td>&lt;1H OCEAN</td>\n",
       "    </tr>\n",
       "    <tr>\n",
       "      <th>11280</th>\n",
       "      <td>0.501502</td>\n",
       "      <td>0.404888</td>\n",
       "      <td>0.274510</td>\n",
       "      <td>0.045715</td>\n",
       "      <td>0.049201</td>\n",
       "      <td>0.037249</td>\n",
       "      <td>0.050329</td>\n",
       "      <td>0.143060</td>\n",
       "      <td>60200.0</td>\n",
       "      <td>INLAND</td>\n",
       "    </tr>\n",
       "    <tr>\n",
       "      <th>14381</th>\n",
       "      <td>0.186186</td>\n",
       "      <td>0.558980</td>\n",
       "      <td>1.000000</td>\n",
       "      <td>0.075479</td>\n",
       "      <td>0.091883</td>\n",
       "      <td>0.013930</td>\n",
       "      <td>0.054770</td>\n",
       "      <td>0.312941</td>\n",
       "      <td>500001.0</td>\n",
       "      <td>NEAR BAY</td>\n",
       "    </tr>\n",
       "    <tr>\n",
       "      <th>8288</th>\n",
       "      <td>0.590591</td>\n",
       "      <td>0.157279</td>\n",
       "      <td>0.509804</td>\n",
       "      <td>0.013419</td>\n",
       "      <td>0.030886</td>\n",
       "      <td>0.011043</td>\n",
       "      <td>0.037171</td>\n",
       "      <td>0.131971</td>\n",
       "      <td>184400.0</td>\n",
       "      <td>&lt;1H OCEAN</td>\n",
       "    </tr>\n",
       "    <tr>\n",
       "      <th>10927</th>\n",
       "      <td>0.300300</td>\n",
       "      <td>0.648247</td>\n",
       "      <td>0.372549</td>\n",
       "      <td>0.131686</td>\n",
       "      <td>0.128512</td>\n",
       "      <td>0.065220</td>\n",
       "      <td>0.136184</td>\n",
       "      <td>0.247128</td>\n",
       "      <td>160000.0</td>\n",
       "      <td>INLAND</td>\n",
       "    </tr>\n",
       "    <tr>\n",
       "      <th>...</th>\n",
       "      <td>...</td>\n",
       "      <td>...</td>\n",
       "      <td>...</td>\n",
       "      <td>...</td>\n",
       "      <td>...</td>\n",
       "      <td>...</td>\n",
       "      <td>...</td>\n",
       "      <td>...</td>\n",
       "      <td>...</td>\n",
       "      <td>...</td>\n",
       "    </tr>\n",
       "    <tr>\n",
       "      <th>9459</th>\n",
       "      <td>0.158158</td>\n",
       "      <td>0.626993</td>\n",
       "      <td>1.000000</td>\n",
       "      <td>0.004798</td>\n",
       "      <td>0.009312</td>\n",
       "      <td>0.008352</td>\n",
       "      <td>0.011513</td>\n",
       "      <td>0.030606</td>\n",
       "      <td>129200.0</td>\n",
       "      <td>&lt;1H OCEAN</td>\n",
       "    </tr>\n",
       "    <tr>\n",
       "      <th>12599</th>\n",
       "      <td>0.621622</td>\n",
       "      <td>0.165781</td>\n",
       "      <td>0.764706</td>\n",
       "      <td>0.050038</td>\n",
       "      <td>0.060686</td>\n",
       "      <td>0.033073</td>\n",
       "      <td>0.059539</td>\n",
       "      <td>0.218597</td>\n",
       "      <td>210400.0</td>\n",
       "      <td>&lt;1H OCEAN</td>\n",
       "    </tr>\n",
       "    <tr>\n",
       "      <th>7480</th>\n",
       "      <td>0.709710</td>\n",
       "      <td>0.027630</td>\n",
       "      <td>0.352941</td>\n",
       "      <td>0.020564</td>\n",
       "      <td>0.043458</td>\n",
       "      <td>0.014630</td>\n",
       "      <td>0.037336</td>\n",
       "      <td>0.084647</td>\n",
       "      <td>137500.0</td>\n",
       "      <td>NEAR OCEAN</td>\n",
       "    </tr>\n",
       "    <tr>\n",
       "      <th>441</th>\n",
       "      <td>0.226226</td>\n",
       "      <td>0.606801</td>\n",
       "      <td>0.705882</td>\n",
       "      <td>0.030845</td>\n",
       "      <td>0.044855</td>\n",
       "      <td>0.018078</td>\n",
       "      <td>0.044243</td>\n",
       "      <td>0.152881</td>\n",
       "      <td>92200.0</td>\n",
       "      <td>INLAND</td>\n",
       "    </tr>\n",
       "    <tr>\n",
       "      <th>12526</th>\n",
       "      <td>0.236236</td>\n",
       "      <td>0.506908</td>\n",
       "      <td>0.568627</td>\n",
       "      <td>0.111571</td>\n",
       "      <td>0.156449</td>\n",
       "      <td>0.053561</td>\n",
       "      <td>0.159539</td>\n",
       "      <td>0.225052</td>\n",
       "      <td>307000.0</td>\n",
       "      <td>&lt;1H OCEAN</td>\n",
       "    </tr>\n",
       "  </tbody>\n",
       "</table>\n",
       "<p>4901 rows × 10 columns</p>\n",
       "</div>"
      ],
      "text/plain": [
       "       longitude  latitude  housing_median_age  total_rooms  total_bedrooms  \\\n",
       "606     0.616617  0.143464            0.627451     0.032796        0.042527   \n",
       "11280   0.501502  0.404888            0.274510     0.045715        0.049201   \n",
       "14381   0.186186  0.558980            1.000000     0.075479        0.091883   \n",
       "8288    0.590591  0.157279            0.509804     0.013419        0.030886   \n",
       "10927   0.300300  0.648247            0.372549     0.131686        0.128512   \n",
       "...          ...       ...                 ...          ...             ...   \n",
       "9459    0.158158  0.626993            1.000000     0.004798        0.009312   \n",
       "12599   0.621622  0.165781            0.764706     0.050038        0.060686   \n",
       "7480    0.709710  0.027630            0.352941     0.020564        0.043458   \n",
       "441     0.226226  0.606801            0.705882     0.030845        0.044855   \n",
       "12526   0.236236  0.506908            0.568627     0.111571        0.156449   \n",
       "\n",
       "       population  households  median_income  median_house_value  \\\n",
       "606      0.024188    0.043750       0.253162            175000.0   \n",
       "11280    0.037249    0.050329       0.143060             60200.0   \n",
       "14381    0.013930    0.054770       0.312941            500001.0   \n",
       "8288     0.011043    0.037171       0.131971            184400.0   \n",
       "10927    0.065220    0.136184       0.247128            160000.0   \n",
       "...           ...         ...            ...                 ...   \n",
       "9459     0.008352    0.011513       0.030606            129200.0   \n",
       "12599    0.033073    0.059539       0.218597            210400.0   \n",
       "7480     0.014630    0.037336       0.084647            137500.0   \n",
       "441      0.018078    0.044243       0.152881             92200.0   \n",
       "12526    0.053561    0.159539       0.225052            307000.0   \n",
       "\n",
       "      ocean_proximity  \n",
       "606         <1H OCEAN  \n",
       "11280          INLAND  \n",
       "14381        NEAR BAY  \n",
       "8288        <1H OCEAN  \n",
       "10927          INLAND  \n",
       "...               ...  \n",
       "9459        <1H OCEAN  \n",
       "12599       <1H OCEAN  \n",
       "7480       NEAR OCEAN  \n",
       "441            INLAND  \n",
       "12526       <1H OCEAN  \n",
       "\n",
       "[4901 rows x 10 columns]"
      ]
     },
     "execution_count": 40,
     "metadata": {},
     "output_type": "execute_result"
    }
   ],
   "source": [
    "immoSV_test"
   ]
  },
  {
   "cell_type": "code",
   "execution_count": 41,
   "id": "d0fe3d42",
   "metadata": {},
   "outputs": [],
   "source": [
    "immoSV_train_sc = immoSV_train.copy()\n",
    "immoSV_test_sc = immoSV_test.copy()"
   ]
  },
  {
   "cell_type": "code",
   "execution_count": 42,
   "id": "4b59febd",
   "metadata": {},
   "outputs": [
    {
     "data": {
      "text/plain": [
       "(11435, 10)"
      ]
     },
     "execution_count": 42,
     "metadata": {},
     "output_type": "execute_result"
    }
   ],
   "source": [
    "immoSV_train_sc.shape"
   ]
  },
  {
   "cell_type": "code",
   "execution_count": 43,
   "id": "113b9baf",
   "metadata": {},
   "outputs": [
    {
     "data": {
      "text/plain": [
       "(4901, 10)"
      ]
     },
     "execution_count": 43,
     "metadata": {},
     "output_type": "execute_result"
    }
   ],
   "source": [
    "immoSV_test_sc.shape"
   ]
  },
  {
   "cell_type": "markdown",
   "id": "f5884e8a",
   "metadata": {},
   "source": [
    "### Encoding par OneHotEncoder"
   ]
  },
  {
   "cell_type": "code",
   "execution_count": 44,
   "id": "a9873cdc",
   "metadata": {},
   "outputs": [],
   "source": [
    "enc = OneHotEncoder(handle_unknown='ignore')\n",
    "enc_df = enc.fit(immoSV_train_sc[['ocean_proximity']])\n",
    "enc_df = pd.DataFrame(enc.transform(immoSV_train_sc[['ocean_proximity']]).toarray())"
   ]
  },
  {
   "cell_type": "code",
   "execution_count": 45,
   "id": "22e41180",
   "metadata": {},
   "outputs": [
    {
     "data": {
      "text/plain": [
       "(11435, 5)"
      ]
     },
     "execution_count": 45,
     "metadata": {},
     "output_type": "execute_result"
    }
   ],
   "source": [
    "enc_df.shape"
   ]
  },
  {
   "cell_type": "code",
   "execution_count": 46,
   "id": "b59e48b8",
   "metadata": {},
   "outputs": [
    {
     "data": {
      "text/plain": [
       "(11435, 10)"
      ]
     },
     "execution_count": 46,
     "metadata": {},
     "output_type": "execute_result"
    }
   ],
   "source": [
    "immoSV_train_sc.shape"
   ]
  },
  {
   "cell_type": "code",
   "execution_count": 47,
   "id": "975aa08e",
   "metadata": {},
   "outputs": [
    {
     "data": {
      "text/html": [
       "<div>\n",
       "<style scoped>\n",
       "    .dataframe tbody tr th:only-of-type {\n",
       "        vertical-align: middle;\n",
       "    }\n",
       "\n",
       "    .dataframe tbody tr th {\n",
       "        vertical-align: top;\n",
       "    }\n",
       "\n",
       "    .dataframe thead th {\n",
       "        text-align: right;\n",
       "    }\n",
       "</style>\n",
       "<table border=\"1\" class=\"dataframe\">\n",
       "  <thead>\n",
       "    <tr style=\"text-align: right;\">\n",
       "      <th></th>\n",
       "      <th>longitude</th>\n",
       "      <th>latitude</th>\n",
       "      <th>housing_median_age</th>\n",
       "      <th>total_rooms</th>\n",
       "      <th>total_bedrooms</th>\n",
       "      <th>population</th>\n",
       "      <th>households</th>\n",
       "      <th>median_income</th>\n",
       "      <th>median_house_value</th>\n",
       "      <th>NEAR_OCEAN</th>\n",
       "      <th>NEAR_BAY</th>\n",
       "      <th>ISLAND</th>\n",
       "      <th>INLAND</th>\n",
       "      <th>H_OCEAN</th>\n",
       "    </tr>\n",
       "  </thead>\n",
       "  <tbody>\n",
       "    <tr>\n",
       "      <th>0</th>\n",
       "      <td>0.203203</td>\n",
       "      <td>0.533475</td>\n",
       "      <td>0.078431</td>\n",
       "      <td>0.129577</td>\n",
       "      <td>0.182679</td>\n",
       "      <td>0.050646</td>\n",
       "      <td>0.176151</td>\n",
       "      <td>0.358181</td>\n",
       "      <td>322200.0</td>\n",
       "      <td>0.0</td>\n",
       "      <td>0.0</td>\n",
       "      <td>0.0</td>\n",
       "      <td>1.0</td>\n",
       "      <td>0.0</td>\n",
       "    </tr>\n",
       "    <tr>\n",
       "      <th>1</th>\n",
       "      <td>0.601602</td>\n",
       "      <td>0.134963</td>\n",
       "      <td>0.352941</td>\n",
       "      <td>0.184994</td>\n",
       "      <td>0.238398</td>\n",
       "      <td>0.111830</td>\n",
       "      <td>0.231908</td>\n",
       "      <td>0.314016</td>\n",
       "      <td>218200.0</td>\n",
       "      <td>1.0</td>\n",
       "      <td>0.0</td>\n",
       "      <td>0.0</td>\n",
       "      <td>0.0</td>\n",
       "      <td>0.0</td>\n",
       "    </tr>\n",
       "    <tr>\n",
       "      <th>2</th>\n",
       "      <td>0.699700</td>\n",
       "      <td>0.201913</td>\n",
       "      <td>0.176471</td>\n",
       "      <td>0.045477</td>\n",
       "      <td>0.046097</td>\n",
       "      <td>0.029513</td>\n",
       "      <td>0.050987</td>\n",
       "      <td>0.213845</td>\n",
       "      <td>104000.0</td>\n",
       "      <td>0.0</td>\n",
       "      <td>1.0</td>\n",
       "      <td>0.0</td>\n",
       "      <td>0.0</td>\n",
       "      <td>0.0</td>\n",
       "    </tr>\n",
       "    <tr>\n",
       "      <th>3</th>\n",
       "      <td>0.598599</td>\n",
       "      <td>0.166844</td>\n",
       "      <td>0.803922</td>\n",
       "      <td>0.064749</td>\n",
       "      <td>0.083967</td>\n",
       "      <td>0.023936</td>\n",
       "      <td>0.078947</td>\n",
       "      <td>0.247128</td>\n",
       "      <td>434400.0</td>\n",
       "      <td>1.0</td>\n",
       "      <td>0.0</td>\n",
       "      <td>0.0</td>\n",
       "      <td>0.0</td>\n",
       "      <td>0.0</td>\n",
       "    </tr>\n",
       "    <tr>\n",
       "      <th>4</th>\n",
       "      <td>0.273273</td>\n",
       "      <td>0.737513</td>\n",
       "      <td>0.274510</td>\n",
       "      <td>0.005167</td>\n",
       "      <td>0.008071</td>\n",
       "      <td>0.003980</td>\n",
       "      <td>0.006250</td>\n",
       "      <td>0.022434</td>\n",
       "      <td>42500.0</td>\n",
       "      <td>0.0</td>\n",
       "      <td>1.0</td>\n",
       "      <td>0.0</td>\n",
       "      <td>0.0</td>\n",
       "      <td>0.0</td>\n",
       "    </tr>\n",
       "    <tr>\n",
       "      <th>...</th>\n",
       "      <td>...</td>\n",
       "      <td>...</td>\n",
       "      <td>...</td>\n",
       "      <td>...</td>\n",
       "      <td>...</td>\n",
       "      <td>...</td>\n",
       "      <td>...</td>\n",
       "      <td>...</td>\n",
       "      <td>...</td>\n",
       "      <td>...</td>\n",
       "      <td>...</td>\n",
       "      <td>...</td>\n",
       "      <td>...</td>\n",
       "      <td>...</td>\n",
       "    </tr>\n",
       "    <tr>\n",
       "      <th>11430</th>\n",
       "      <td>0.720721</td>\n",
       "      <td>0.003188</td>\n",
       "      <td>0.490196</td>\n",
       "      <td>0.061612</td>\n",
       "      <td>0.057271</td>\n",
       "      <td>0.034138</td>\n",
       "      <td>0.060855</td>\n",
       "      <td>0.266217</td>\n",
       "      <td>144900.0</td>\n",
       "      <td>0.0</td>\n",
       "      <td>0.0</td>\n",
       "      <td>0.0</td>\n",
       "      <td>0.0</td>\n",
       "      <td>1.0</td>\n",
       "    </tr>\n",
       "    <tr>\n",
       "      <th>11431</th>\n",
       "      <td>0.236236</td>\n",
       "      <td>0.503719</td>\n",
       "      <td>0.509804</td>\n",
       "      <td>0.075216</td>\n",
       "      <td>0.071706</td>\n",
       "      <td>0.031980</td>\n",
       "      <td>0.070395</td>\n",
       "      <td>0.316016</td>\n",
       "      <td>327500.0</td>\n",
       "      <td>1.0</td>\n",
       "      <td>0.0</td>\n",
       "      <td>0.0</td>\n",
       "      <td>0.0</td>\n",
       "      <td>0.0</td>\n",
       "    </tr>\n",
       "    <tr>\n",
       "      <th>11432</th>\n",
       "      <td>0.524525</td>\n",
       "      <td>0.383634</td>\n",
       "      <td>0.470588</td>\n",
       "      <td>0.063167</td>\n",
       "      <td>0.073879</td>\n",
       "      <td>0.042714</td>\n",
       "      <td>0.075493</td>\n",
       "      <td>0.125481</td>\n",
       "      <td>52900.0</td>\n",
       "      <td>0.0</td>\n",
       "      <td>1.0</td>\n",
       "      <td>0.0</td>\n",
       "      <td>0.0</td>\n",
       "      <td>0.0</td>\n",
       "    </tr>\n",
       "    <tr>\n",
       "      <th>11433</th>\n",
       "      <td>0.220220</td>\n",
       "      <td>0.575983</td>\n",
       "      <td>0.470588</td>\n",
       "      <td>0.036065</td>\n",
       "      <td>0.031662</td>\n",
       "      <td>0.015864</td>\n",
       "      <td>0.038322</td>\n",
       "      <td>0.404822</td>\n",
       "      <td>235500.0</td>\n",
       "      <td>0.0</td>\n",
       "      <td>0.0</td>\n",
       "      <td>0.0</td>\n",
       "      <td>1.0</td>\n",
       "      <td>0.0</td>\n",
       "    </tr>\n",
       "    <tr>\n",
       "      <th>11434</th>\n",
       "      <td>0.686687</td>\n",
       "      <td>0.150903</td>\n",
       "      <td>0.549020</td>\n",
       "      <td>0.003111</td>\n",
       "      <td>0.003104</td>\n",
       "      <td>0.001317</td>\n",
       "      <td>0.002632</td>\n",
       "      <td>0.830209</td>\n",
       "      <td>112500.0</td>\n",
       "      <td>0.0</td>\n",
       "      <td>1.0</td>\n",
       "      <td>0.0</td>\n",
       "      <td>0.0</td>\n",
       "      <td>0.0</td>\n",
       "    </tr>\n",
       "  </tbody>\n",
       "</table>\n",
       "<p>11435 rows × 14 columns</p>\n",
       "</div>"
      ],
      "text/plain": [
       "       longitude  latitude  housing_median_age  total_rooms  total_bedrooms  \\\n",
       "0       0.203203  0.533475            0.078431     0.129577        0.182679   \n",
       "1       0.601602  0.134963            0.352941     0.184994        0.238398   \n",
       "2       0.699700  0.201913            0.176471     0.045477        0.046097   \n",
       "3       0.598599  0.166844            0.803922     0.064749        0.083967   \n",
       "4       0.273273  0.737513            0.274510     0.005167        0.008071   \n",
       "...          ...       ...                 ...          ...             ...   \n",
       "11430   0.720721  0.003188            0.490196     0.061612        0.057271   \n",
       "11431   0.236236  0.503719            0.509804     0.075216        0.071706   \n",
       "11432   0.524525  0.383634            0.470588     0.063167        0.073879   \n",
       "11433   0.220220  0.575983            0.470588     0.036065        0.031662   \n",
       "11434   0.686687  0.150903            0.549020     0.003111        0.003104   \n",
       "\n",
       "       population  households  median_income  median_house_value  NEAR_OCEAN  \\\n",
       "0        0.050646    0.176151       0.358181            322200.0         0.0   \n",
       "1        0.111830    0.231908       0.314016            218200.0         1.0   \n",
       "2        0.029513    0.050987       0.213845            104000.0         0.0   \n",
       "3        0.023936    0.078947       0.247128            434400.0         1.0   \n",
       "4        0.003980    0.006250       0.022434             42500.0         0.0   \n",
       "...           ...         ...            ...                 ...         ...   \n",
       "11430    0.034138    0.060855       0.266217            144900.0         0.0   \n",
       "11431    0.031980    0.070395       0.316016            327500.0         1.0   \n",
       "11432    0.042714    0.075493       0.125481             52900.0         0.0   \n",
       "11433    0.015864    0.038322       0.404822            235500.0         0.0   \n",
       "11434    0.001317    0.002632       0.830209            112500.0         0.0   \n",
       "\n",
       "       NEAR_BAY  ISLAND  INLAND  H_OCEAN  \n",
       "0           0.0     0.0     1.0      0.0  \n",
       "1           0.0     0.0     0.0      0.0  \n",
       "2           1.0     0.0     0.0      0.0  \n",
       "3           0.0     0.0     0.0      0.0  \n",
       "4           1.0     0.0     0.0      0.0  \n",
       "...         ...     ...     ...      ...  \n",
       "11430       0.0     0.0     0.0      1.0  \n",
       "11431       0.0     0.0     0.0      0.0  \n",
       "11432       1.0     0.0     0.0      0.0  \n",
       "11433       0.0     0.0     1.0      0.0  \n",
       "11434       1.0     0.0     0.0      0.0  \n",
       "\n",
       "[11435 rows x 14 columns]"
      ]
     },
     "execution_count": 47,
     "metadata": {},
     "output_type": "execute_result"
    }
   ],
   "source": [
    "immoSV_train_sc = immoSV_train_sc.reset_index()\n",
    "immoSV_train_sc = immoSV_train_sc.merge(enc_df,how='inner', on=immoSV_train_sc[\"index\"])\n",
    "immoSV_train_sc = immoSV_train_sc.drop(['key_0','index','ocean_proximity'], axis=1)\n",
    "immoSV_train_sc.rename({0: 'NEAR_OCEAN', 1: 'NEAR_BAY',2: 'ISLAND', 3: 'INLAND', 4: 'H_OCEAN'}, inplace=True, axis=1)\n",
    "immoSV_train_sc"
   ]
  },
  {
   "cell_type": "code",
   "execution_count": 48,
   "id": "566e63c0",
   "metadata": {},
   "outputs": [],
   "source": [
    "enc_df = pd.DataFrame(enc.transform(immoSV_test_sc[['ocean_proximity']]).toarray())"
   ]
  },
  {
   "cell_type": "code",
   "execution_count": 49,
   "id": "961c279b",
   "metadata": {},
   "outputs": [
    {
     "data": {
      "text/plain": [
       "(4901, 5)"
      ]
     },
     "execution_count": 49,
     "metadata": {},
     "output_type": "execute_result"
    }
   ],
   "source": [
    "enc_df.shape"
   ]
  },
  {
   "cell_type": "code",
   "execution_count": 50,
   "id": "01c2bed7",
   "metadata": {},
   "outputs": [
    {
     "data": {
      "text/html": [
       "<div>\n",
       "<style scoped>\n",
       "    .dataframe tbody tr th:only-of-type {\n",
       "        vertical-align: middle;\n",
       "    }\n",
       "\n",
       "    .dataframe tbody tr th {\n",
       "        vertical-align: top;\n",
       "    }\n",
       "\n",
       "    .dataframe thead th {\n",
       "        text-align: right;\n",
       "    }\n",
       "</style>\n",
       "<table border=\"1\" class=\"dataframe\">\n",
       "  <thead>\n",
       "    <tr style=\"text-align: right;\">\n",
       "      <th></th>\n",
       "      <th>longitude</th>\n",
       "      <th>latitude</th>\n",
       "      <th>housing_median_age</th>\n",
       "      <th>total_rooms</th>\n",
       "      <th>total_bedrooms</th>\n",
       "      <th>population</th>\n",
       "      <th>households</th>\n",
       "      <th>median_income</th>\n",
       "      <th>median_house_value</th>\n",
       "      <th>NEAR_OCEAN</th>\n",
       "      <th>NEAR_BAY</th>\n",
       "      <th>ISLAND</th>\n",
       "      <th>INLAND</th>\n",
       "      <th>H_OCEAN</th>\n",
       "    </tr>\n",
       "  </thead>\n",
       "  <tbody>\n",
       "    <tr>\n",
       "      <th>0</th>\n",
       "      <td>0.616617</td>\n",
       "      <td>0.143464</td>\n",
       "      <td>0.627451</td>\n",
       "      <td>0.032796</td>\n",
       "      <td>0.042527</td>\n",
       "      <td>0.024188</td>\n",
       "      <td>0.043750</td>\n",
       "      <td>0.253162</td>\n",
       "      <td>175000.0</td>\n",
       "      <td>1.0</td>\n",
       "      <td>0.0</td>\n",
       "      <td>0.0</td>\n",
       "      <td>0.0</td>\n",
       "      <td>0.0</td>\n",
       "    </tr>\n",
       "    <tr>\n",
       "      <th>1</th>\n",
       "      <td>0.501502</td>\n",
       "      <td>0.404888</td>\n",
       "      <td>0.274510</td>\n",
       "      <td>0.045715</td>\n",
       "      <td>0.049201</td>\n",
       "      <td>0.037249</td>\n",
       "      <td>0.050329</td>\n",
       "      <td>0.143060</td>\n",
       "      <td>60200.0</td>\n",
       "      <td>0.0</td>\n",
       "      <td>1.0</td>\n",
       "      <td>0.0</td>\n",
       "      <td>0.0</td>\n",
       "      <td>0.0</td>\n",
       "    </tr>\n",
       "    <tr>\n",
       "      <th>2</th>\n",
       "      <td>0.186186</td>\n",
       "      <td>0.558980</td>\n",
       "      <td>1.000000</td>\n",
       "      <td>0.075479</td>\n",
       "      <td>0.091883</td>\n",
       "      <td>0.013930</td>\n",
       "      <td>0.054770</td>\n",
       "      <td>0.312941</td>\n",
       "      <td>500001.0</td>\n",
       "      <td>0.0</td>\n",
       "      <td>0.0</td>\n",
       "      <td>0.0</td>\n",
       "      <td>1.0</td>\n",
       "      <td>0.0</td>\n",
       "    </tr>\n",
       "    <tr>\n",
       "      <th>3</th>\n",
       "      <td>0.590591</td>\n",
       "      <td>0.157279</td>\n",
       "      <td>0.509804</td>\n",
       "      <td>0.013419</td>\n",
       "      <td>0.030886</td>\n",
       "      <td>0.011043</td>\n",
       "      <td>0.037171</td>\n",
       "      <td>0.131971</td>\n",
       "      <td>184400.0</td>\n",
       "      <td>1.0</td>\n",
       "      <td>0.0</td>\n",
       "      <td>0.0</td>\n",
       "      <td>0.0</td>\n",
       "      <td>0.0</td>\n",
       "    </tr>\n",
       "    <tr>\n",
       "      <th>4</th>\n",
       "      <td>0.300300</td>\n",
       "      <td>0.648247</td>\n",
       "      <td>0.372549</td>\n",
       "      <td>0.131686</td>\n",
       "      <td>0.128512</td>\n",
       "      <td>0.065220</td>\n",
       "      <td>0.136184</td>\n",
       "      <td>0.247128</td>\n",
       "      <td>160000.0</td>\n",
       "      <td>0.0</td>\n",
       "      <td>1.0</td>\n",
       "      <td>0.0</td>\n",
       "      <td>0.0</td>\n",
       "      <td>0.0</td>\n",
       "    </tr>\n",
       "    <tr>\n",
       "      <th>...</th>\n",
       "      <td>...</td>\n",
       "      <td>...</td>\n",
       "      <td>...</td>\n",
       "      <td>...</td>\n",
       "      <td>...</td>\n",
       "      <td>...</td>\n",
       "      <td>...</td>\n",
       "      <td>...</td>\n",
       "      <td>...</td>\n",
       "      <td>...</td>\n",
       "      <td>...</td>\n",
       "      <td>...</td>\n",
       "      <td>...</td>\n",
       "      <td>...</td>\n",
       "    </tr>\n",
       "    <tr>\n",
       "      <th>4896</th>\n",
       "      <td>0.158158</td>\n",
       "      <td>0.626993</td>\n",
       "      <td>1.000000</td>\n",
       "      <td>0.004798</td>\n",
       "      <td>0.009312</td>\n",
       "      <td>0.008352</td>\n",
       "      <td>0.011513</td>\n",
       "      <td>0.030606</td>\n",
       "      <td>129200.0</td>\n",
       "      <td>1.0</td>\n",
       "      <td>0.0</td>\n",
       "      <td>0.0</td>\n",
       "      <td>0.0</td>\n",
       "      <td>0.0</td>\n",
       "    </tr>\n",
       "    <tr>\n",
       "      <th>4897</th>\n",
       "      <td>0.621622</td>\n",
       "      <td>0.165781</td>\n",
       "      <td>0.764706</td>\n",
       "      <td>0.050038</td>\n",
       "      <td>0.060686</td>\n",
       "      <td>0.033073</td>\n",
       "      <td>0.059539</td>\n",
       "      <td>0.218597</td>\n",
       "      <td>210400.0</td>\n",
       "      <td>1.0</td>\n",
       "      <td>0.0</td>\n",
       "      <td>0.0</td>\n",
       "      <td>0.0</td>\n",
       "      <td>0.0</td>\n",
       "    </tr>\n",
       "    <tr>\n",
       "      <th>4898</th>\n",
       "      <td>0.709710</td>\n",
       "      <td>0.027630</td>\n",
       "      <td>0.352941</td>\n",
       "      <td>0.020564</td>\n",
       "      <td>0.043458</td>\n",
       "      <td>0.014630</td>\n",
       "      <td>0.037336</td>\n",
       "      <td>0.084647</td>\n",
       "      <td>137500.0</td>\n",
       "      <td>0.0</td>\n",
       "      <td>0.0</td>\n",
       "      <td>0.0</td>\n",
       "      <td>0.0</td>\n",
       "      <td>1.0</td>\n",
       "    </tr>\n",
       "    <tr>\n",
       "      <th>4899</th>\n",
       "      <td>0.226226</td>\n",
       "      <td>0.606801</td>\n",
       "      <td>0.705882</td>\n",
       "      <td>0.030845</td>\n",
       "      <td>0.044855</td>\n",
       "      <td>0.018078</td>\n",
       "      <td>0.044243</td>\n",
       "      <td>0.152881</td>\n",
       "      <td>92200.0</td>\n",
       "      <td>0.0</td>\n",
       "      <td>1.0</td>\n",
       "      <td>0.0</td>\n",
       "      <td>0.0</td>\n",
       "      <td>0.0</td>\n",
       "    </tr>\n",
       "    <tr>\n",
       "      <th>4900</th>\n",
       "      <td>0.236236</td>\n",
       "      <td>0.506908</td>\n",
       "      <td>0.568627</td>\n",
       "      <td>0.111571</td>\n",
       "      <td>0.156449</td>\n",
       "      <td>0.053561</td>\n",
       "      <td>0.159539</td>\n",
       "      <td>0.225052</td>\n",
       "      <td>307000.0</td>\n",
       "      <td>1.0</td>\n",
       "      <td>0.0</td>\n",
       "      <td>0.0</td>\n",
       "      <td>0.0</td>\n",
       "      <td>0.0</td>\n",
       "    </tr>\n",
       "  </tbody>\n",
       "</table>\n",
       "<p>4901 rows × 14 columns</p>\n",
       "</div>"
      ],
      "text/plain": [
       "      longitude  latitude  housing_median_age  total_rooms  total_bedrooms  \\\n",
       "0      0.616617  0.143464            0.627451     0.032796        0.042527   \n",
       "1      0.501502  0.404888            0.274510     0.045715        0.049201   \n",
       "2      0.186186  0.558980            1.000000     0.075479        0.091883   \n",
       "3      0.590591  0.157279            0.509804     0.013419        0.030886   \n",
       "4      0.300300  0.648247            0.372549     0.131686        0.128512   \n",
       "...         ...       ...                 ...          ...             ...   \n",
       "4896   0.158158  0.626993            1.000000     0.004798        0.009312   \n",
       "4897   0.621622  0.165781            0.764706     0.050038        0.060686   \n",
       "4898   0.709710  0.027630            0.352941     0.020564        0.043458   \n",
       "4899   0.226226  0.606801            0.705882     0.030845        0.044855   \n",
       "4900   0.236236  0.506908            0.568627     0.111571        0.156449   \n",
       "\n",
       "      population  households  median_income  median_house_value  NEAR_OCEAN  \\\n",
       "0       0.024188    0.043750       0.253162            175000.0         1.0   \n",
       "1       0.037249    0.050329       0.143060             60200.0         0.0   \n",
       "2       0.013930    0.054770       0.312941            500001.0         0.0   \n",
       "3       0.011043    0.037171       0.131971            184400.0         1.0   \n",
       "4       0.065220    0.136184       0.247128            160000.0         0.0   \n",
       "...          ...         ...            ...                 ...         ...   \n",
       "4896    0.008352    0.011513       0.030606            129200.0         1.0   \n",
       "4897    0.033073    0.059539       0.218597            210400.0         1.0   \n",
       "4898    0.014630    0.037336       0.084647            137500.0         0.0   \n",
       "4899    0.018078    0.044243       0.152881             92200.0         0.0   \n",
       "4900    0.053561    0.159539       0.225052            307000.0         1.0   \n",
       "\n",
       "      NEAR_BAY  ISLAND  INLAND  H_OCEAN  \n",
       "0          0.0     0.0     0.0      0.0  \n",
       "1          1.0     0.0     0.0      0.0  \n",
       "2          0.0     0.0     1.0      0.0  \n",
       "3          0.0     0.0     0.0      0.0  \n",
       "4          1.0     0.0     0.0      0.0  \n",
       "...        ...     ...     ...      ...  \n",
       "4896       0.0     0.0     0.0      0.0  \n",
       "4897       0.0     0.0     0.0      0.0  \n",
       "4898       0.0     0.0     0.0      1.0  \n",
       "4899       1.0     0.0     0.0      0.0  \n",
       "4900       0.0     0.0     0.0      0.0  \n",
       "\n",
       "[4901 rows x 14 columns]"
      ]
     },
     "execution_count": 50,
     "metadata": {},
     "output_type": "execute_result"
    }
   ],
   "source": [
    "immoSV_test_sc = immoSV_test_sc.reset_index()\n",
    "immoSV_test_sc = immoSV_test_sc.merge(enc_df,how='inner', on=immoSV_test_sc[\"index\"])\n",
    "immoSV_test_sc = immoSV_test_sc.drop(['key_0','index','ocean_proximity'], axis=1)\n",
    "immoSV_test_sc.rename({0: 'NEAR_OCEAN', 1: 'NEAR_BAY',2: 'ISLAND', 3: 'INLAND', 4: 'H_OCEAN'}, inplace=True, axis=1)\n",
    "immoSV_test_sc"
   ]
  },
  {
   "cell_type": "code",
   "execution_count": 51,
   "id": "9c62ac1e",
   "metadata": {},
   "outputs": [],
   "source": [
    "immoSV_train_enc = immoSV_train_sc.copy()\n",
    "immoSV_test_enc = immoSV_test_sc.copy()"
   ]
  },
  {
   "cell_type": "markdown",
   "id": "a144f344",
   "metadata": {},
   "source": [
    "### Definition X et y"
   ]
  },
  {
   "cell_type": "code",
   "execution_count": 52,
   "id": "24d9963c",
   "metadata": {},
   "outputs": [],
   "source": [
    "X_train = df_train.drop([\"median_house_value\"], axis=1)\n",
    "X_test = df_test.drop([\"median_house_value\"], axis=1)\n",
    "y_train = df_train[[\"median_house_value\"]]\n",
    "y_test = df_test[[\"median_house_value\"]]"
   ]
  },
  {
   "cell_type": "code",
   "execution_count": null,
   "id": "e953cb10",
   "metadata": {},
   "outputs": [],
   "source": [
    "X = df.drop([\"median_house_value\"], axis=1)\n",
    "y = df[[\"median_house_value\"]]"
   ]
  },
  {
   "cell_type": "markdown",
   "id": "168fb1fb",
   "metadata": {},
   "source": [
    "### Modelisation"
   ]
  },
  {
   "cell_type": "code",
   "execution_count": 54,
   "id": "b228db19",
   "metadata": {},
   "outputs": [],
   "source": [
    "model = KNeighborsRegressor()"
   ]
  },
  {
   "cell_type": "code",
   "execution_count": 55,
   "id": "6f3910e2",
   "metadata": {},
   "outputs": [],
   "source": [
    "# # 5-Fold Cross validate model\n",
    "# cv_results = cross_validate(model, X, y, cv=5)\n",
    "# # obtain the mean of scores\n",
    "# cv_results['test_score'].mean()"
   ]
  },
  {
   "cell_type": "code",
   "execution_count": 58,
   "id": "ef361c47",
   "metadata": {},
   "outputs": [
    {
     "name": "stdout",
     "output_type": "stream",
     "text": [
      "Train score : 0.7984925635888183\n",
      "Test score : 0.7050650643364693\n"
     ]
    }
   ],
   "source": [
    "model.fit(X_train,y_train)\n",
    "model.predict(X_test)\n",
    "print(f\"Train score : {model.score(X_train, y_train)}\")\n",
    "print(f\"Test score : {model.score(X_test, y_test)}\")"
   ]
  },
  {
   "cell_type": "code",
   "execution_count": 59,
   "id": "bd8e7d88",
   "metadata": {},
   "outputs": [
    {
     "name": "stdout",
     "output_type": "stream",
     "text": [
      "MSE : 3972366777.2786613\n",
      "RMSE : 63026.71479046533\n",
      "MAE : 42969.26921036523\n"
     ]
    }
   ],
   "source": [
    "y_pred = model.predict(X_test)\n",
    "print(f\"MSE : {mean_squared_error(y_test, y_pred)}\")\n",
    "print(f\"RMSE : {np.sqrt(mean_squared_error(y_test, y_pred))}\")\n",
    "print(f\"MAE : {mean_absolute_error(y_test, y_pred)}\")"
   ]
  },
  {
   "cell_type": "code",
   "execution_count": 63,
   "id": "cc6e1936",
   "metadata": {},
   "outputs": [
    {
     "name": "stdout",
     "output_type": "stream",
     "text": [
      "R² : 0.6917302644463629\n",
      "MSE : 4114636684.7348185\n",
      "RMSE : 64740.89539243771\n",
      "MAE : 43582.63492785308\n"
     ]
    }
   ],
   "source": [
    "print(f\"R² : {cross_val_score(model,X_train, y_train,cv=KFold(n_splits=5, shuffle=True),scoring='r2').mean()}\")\n",
    "print(f\"MSE : {-cross_val_score(model,X_train, y_train,cv=KFold(n_splits=5, shuffle=True),scoring='neg_mean_squared_error').mean()}\")\n",
    "print(f\"RMSE : {-cross_val_score(model,X_train, y_train,cv=KFold(n_splits=5, shuffle=True),scoring='neg_root_mean_squared_error').mean()}\")\n",
    "print(f\"MAE : {-cross_val_score(model,X_train, y_train,cv=KFold(n_splits=5, shuffle=True),scoring='neg_mean_absolute_error').mean()}\")"
   ]
  },
  {
   "cell_type": "markdown",
   "id": "a2863948",
   "metadata": {},
   "source": [
    "### Feature importance"
   ]
  },
  {
   "cell_type": "code",
   "execution_count": 64,
   "id": "39508fee",
   "metadata": {},
   "outputs": [],
   "source": [
    "df_train = immoSV_train_enc.drop([\"H_OCEAN\",\"ISLAND\"], axis=1)\n",
    "df_test = immoSV_test_enc.drop([\"H_OCEAN\",\"ISLAND\"], axis=1)"
   ]
  },
  {
   "cell_type": "code",
   "execution_count": 65,
   "id": "06507c10",
   "metadata": {},
   "outputs": [],
   "source": [
    "X_train = df_train.drop([\"median_house_value\"], axis=1)\n",
    "X_test = df_test.drop([\"median_house_value\"], axis=1)\n",
    "y_train = df_train[[\"median_house_value\"]]\n",
    "y_test = df_test[[\"median_house_value\"]]"
   ]
  },
  {
   "cell_type": "code",
   "execution_count": 127,
   "id": "213a9aec",
   "metadata": {},
   "outputs": [],
   "source": [
    "# X_train.to_csv('./datasets/X_train.csv', index=False)\n",
    "# X_test.to_csv('./datasets/X_test.csv', index=False)\n",
    "# y_train.to_csv('./datasets/y_train.csv', index=False)\n",
    "# y_test.to_csv('./datasets/y_test.csv', index=False)"
   ]
  },
  {
   "cell_type": "code",
   "execution_count": 3,
   "id": "4b6f8990",
   "metadata": {},
   "outputs": [],
   "source": [
    "# X_train = pd.read_csv('./datasets/X_train.csv')\n",
    "# X_test = pd.read_csv('./datasets/X_test.csv')\n",
    "# y_train = pd.read_csv('./datasets/y_train.csv')\n",
    "# y_test = pd.read_csv('./datasets/y_test.csv')"
   ]
  },
  {
   "cell_type": "code",
   "execution_count": null,
   "id": "dbf38b7c",
   "metadata": {},
   "outputs": [],
   "source": [
    "model = KNeighborsRegressor()"
   ]
  },
  {
   "cell_type": "code",
   "execution_count": 66,
   "id": "e8bcbaaa",
   "metadata": {},
   "outputs": [],
   "source": [
    "# # 5-Fold Cross validate model\n",
    "# cv_results = cross_validate(model, X, y, cv=5)\n",
    "# # obtain the mean of scores\n",
    "# cv_results['test_score'].mean()"
   ]
  },
  {
   "cell_type": "code",
   "execution_count": 67,
   "id": "71bad9e1",
   "metadata": {},
   "outputs": [
    {
     "name": "stdout",
     "output_type": "stream",
     "text": [
      "Train score : 0.802993927727252\n",
      "Test score : 0.7015175373786058\n"
     ]
    }
   ],
   "source": [
    "model.fit(X_train,y_train)\n",
    "model.predict(X_test)\n",
    "print(f\"Train score : {model.score(X_train, y_train)}\")\n",
    "print(f\"Test score : {model.score(X_test, y_test)}\")"
   ]
  },
  {
   "cell_type": "code",
   "execution_count": 68,
   "id": "0d179620",
   "metadata": {},
   "outputs": [
    {
     "name": "stdout",
     "output_type": "stream",
     "text": [
      "MSE : 23428664991.953873\n",
      "RMSE : 153064.25118868833\n",
      "MAE : 118385.73564578657\n"
     ]
    }
   ],
   "source": [
    "print(f\"MSE : {mean_squared_error(y_test, y_pred)}\")\n",
    "print(f\"RMSE : {np.sqrt(mean_squared_error(y_test, y_pred))}\")\n",
    "print(f\"MAE : {mean_absolute_error(y_test, y_pred)}\")"
   ]
  },
  {
   "cell_type": "code",
   "execution_count": 70,
   "id": "a3013b12",
   "metadata": {},
   "outputs": [
    {
     "name": "stdout",
     "output_type": "stream",
     "text": [
      "R² : 0.6889828427181414\n",
      "MSE : 4171650543.715411\n",
      "RMSE : 64254.25064729459\n",
      "MAE : 43522.49010931351\n"
     ]
    }
   ],
   "source": [
    "print(f\"R² : {cross_val_score(model,X_train, y_train,cv=KFold(n_splits=5, shuffle=True),scoring='r2').mean()}\")\n",
    "print(f\"MSE : {-cross_val_score(model,X_train, y_train,cv=KFold(n_splits=5, shuffle=True),scoring='neg_mean_squared_error').mean()}\")\n",
    "print(f\"RMSE : {-cross_val_score(model,X_train, y_train,cv=KFold(n_splits=5, shuffle=True),scoring='neg_root_mean_squared_error').mean()}\")\n",
    "print(f\"MAE : {-cross_val_score(model,X_train, y_train,cv=KFold(n_splits=5, shuffle=True),scoring='neg_mean_absolute_error').mean()}\")"
   ]
  },
  {
   "cell_type": "markdown",
   "id": "bbf3ef57",
   "metadata": {},
   "source": [
    "### GridSearchCV : n_neighbors=11"
   ]
  },
  {
   "cell_type": "code",
   "execution_count": null,
   "id": "b678629b",
   "metadata": {},
   "outputs": [],
   "source": [
    "# n_neighbors=11"
   ]
  },
  {
   "cell_type": "code",
   "execution_count": 71,
   "id": "990e7949",
   "metadata": {},
   "outputs": [],
   "source": [
    "model = KNeighborsRegressor(n_neighbors=11)"
   ]
  },
  {
   "cell_type": "code",
   "execution_count": 72,
   "id": "ef57250a",
   "metadata": {},
   "outputs": [],
   "source": [
    "# # 5-Fold Cross validate model\n",
    "# cv_results = cross_validate(model, X, y, cv=5)\n",
    "# # obtain the mean of scores\n",
    "# cv_results['test_score'].mean()"
   ]
  },
  {
   "cell_type": "code",
   "execution_count": 73,
   "id": "5580f234",
   "metadata": {},
   "outputs": [
    {
     "name": "stdout",
     "output_type": "stream",
     "text": [
      "Train score : 0.7556081628489161\n",
      "Test score : 0.7037348241485928\n"
     ]
    }
   ],
   "source": [
    "model.fit(X_train,y_train)\n",
    "model.predict(X_test)\n",
    "print(f\"Train score : {model.score(X_train, y_train)}\")\n",
    "print(f\"Test score : {model.score(X_test, y_test)}\")"
   ]
  },
  {
   "cell_type": "code",
   "execution_count": 74,
   "id": "91b41c69",
   "metadata": {},
   "outputs": [
    {
     "name": "stdout",
     "output_type": "stream",
     "text": [
      "MSE : 23428664991.953873\n",
      "RMSE : 153064.25118868833\n",
      "MAE : 118385.73564578657\n"
     ]
    }
   ],
   "source": [
    "print(f\"MSE : {mean_squared_error(y_test, y_pred)}\")\n",
    "print(f\"RMSE : {np.sqrt(mean_squared_error(y_test, y_pred))}\")\n",
    "print(f\"MAE : {mean_absolute_error(y_test, y_pred)}\")"
   ]
  },
  {
   "cell_type": "code",
   "execution_count": 75,
   "id": "0254a18f",
   "metadata": {},
   "outputs": [
    {
     "name": "stdout",
     "output_type": "stream",
     "text": [
      "R² : 0.6940561884575479\n",
      "MSE : 4066284939.6169877\n",
      "RMSE : 63635.49606232357\n",
      "MAE : 43616.404467941335\n"
     ]
    }
   ],
   "source": [
    "print(f\"R² : {cross_val_score(model,X_train, y_train,cv=KFold(n_splits=5, shuffle=True),scoring='r2').mean()}\")\n",
    "print(f\"MSE : {-cross_val_score(model,X_train, y_train,cv=KFold(n_splits=5, shuffle=True),scoring='neg_mean_squared_error').mean()}\")\n",
    "print(f\"RMSE : {-cross_val_score(model,X_train, y_train,cv=KFold(n_splits=5, shuffle=True),scoring='neg_root_mean_squared_error').mean()}\")\n",
    "print(f\"MAE : {-cross_val_score(model,X_train, y_train,cv=KFold(n_splits=5, shuffle=True),scoring='neg_mean_absolute_error').mean()}\")"
   ]
  },
  {
   "cell_type": "code",
   "execution_count": null,
   "id": "f5e84e93",
   "metadata": {},
   "outputs": [],
   "source": []
  },
  {
   "cell_type": "code",
   "execution_count": null,
   "id": "d6ecf077",
   "metadata": {},
   "outputs": [],
   "source": []
  },
  {
   "cell_type": "markdown",
   "id": "5651e5be",
   "metadata": {},
   "source": [
    "# Essais"
   ]
  },
  {
   "cell_type": "markdown",
   "id": "199ff78a",
   "metadata": {},
   "source": [
    "#### Supression latitude et longitude"
   ]
  },
  {
   "cell_type": "code",
   "execution_count": 82,
   "id": "fba8f2d6",
   "metadata": {},
   "outputs": [],
   "source": [
    "df_train = immoSV_train_enc.drop([\"H_OCEAN\",\"ISLAND\",\"latitude\"], axis=1)\n",
    "df_test = immoSV_test_enc.drop([\"H_OCEAN\",\"ISLAND\",\"latitude\"], axis=1)"
   ]
  },
  {
   "cell_type": "code",
   "execution_count": 83,
   "id": "48656c46",
   "metadata": {},
   "outputs": [],
   "source": [
    "X_train = df_train.drop([\"median_house_value\"], axis=1)\n",
    "X_test = df_test.drop([\"median_house_value\"], axis=1)\n",
    "y_train = df_train[[\"median_house_value\"]]\n",
    "y_test = df_test[[\"median_house_value\"]]"
   ]
  },
  {
   "cell_type": "code",
   "execution_count": 84,
   "id": "b00d95b2",
   "metadata": {},
   "outputs": [],
   "source": [
    "model = KNeighborsRegressor()"
   ]
  },
  {
   "cell_type": "code",
   "execution_count": 79,
   "id": "98a66a6b",
   "metadata": {},
   "outputs": [
    {
     "name": "stdout",
     "output_type": "stream",
     "text": [
      "Train score : 0.7558121623942534\n",
      "Test score : 0.6310288348244276\n"
     ]
    }
   ],
   "source": [
    "model.fit(X_train,y_train)\n",
    "model.predict(X_test)\n",
    "print(f\"Train score : {model.score(X_train, y_train)}\")\n",
    "print(f\"Test score : {model.score(X_test, y_test)}\")"
   ]
  },
  {
   "cell_type": "code",
   "execution_count": 80,
   "id": "6d5ed453",
   "metadata": {},
   "outputs": [
    {
     "name": "stdout",
     "output_type": "stream",
     "text": [
      "MSE : 23428664991.953873\n",
      "RMSE : 153064.25118868833\n",
      "MAE : 118385.73564578657\n"
     ]
    }
   ],
   "source": [
    "print(f\"MSE : {mean_squared_error(y_test, y_pred)}\")\n",
    "print(f\"RMSE : {np.sqrt(mean_squared_error(y_test, y_pred))}\")\n",
    "print(f\"MAE : {mean_absolute_error(y_test, y_pred)}\")"
   ]
  },
  {
   "cell_type": "code",
   "execution_count": 81,
   "id": "eb08dde8",
   "metadata": {
    "scrolled": true
   },
   "outputs": [
    {
     "name": "stdout",
     "output_type": "stream",
     "text": [
      "R² : 0.6323949795117798\n",
      "MSE : 4972909673.771193\n",
      "RMSE : 70625.73021680006\n",
      "MAE : 49700.21017927416\n"
     ]
    }
   ],
   "source": [
    "print(f\"R² : {cross_val_score(model,X_train, y_train,cv=KFold(n_splits=5, shuffle=True),scoring='r2').mean()}\")\n",
    "print(f\"MSE : {-cross_val_score(model,X_train, y_train,cv=KFold(n_splits=5, shuffle=True),scoring='neg_mean_squared_error').mean()}\")\n",
    "print(f\"RMSE : {-cross_val_score(model,X_train, y_train,cv=KFold(n_splits=5, shuffle=True),scoring='neg_root_mean_squared_error').mean()}\")\n",
    "print(f\"MAE : {-cross_val_score(model,X_train, y_train,cv=KFold(n_splits=5, shuffle=True),scoring='neg_mean_absolute_error').mean()}\")"
   ]
  },
  {
   "cell_type": "markdown",
   "id": "1c4b67d9",
   "metadata": {},
   "source": [
    "#### Supression latitude"
   ]
  },
  {
   "cell_type": "code",
   "execution_count": 91,
   "id": "a0f26e45",
   "metadata": {},
   "outputs": [],
   "source": [
    "df_train = immoSV_train_enc.drop([\"H_OCEAN\",\"ISLAND\",\"longitude\"], axis=1)\n",
    "df_test = immoSV_test_enc.drop([\"H_OCEAN\",\"ISLAND\",\"longitude\"], axis=1)"
   ]
  },
  {
   "cell_type": "code",
   "execution_count": 92,
   "id": "b4f2edb2",
   "metadata": {},
   "outputs": [],
   "source": [
    "X_train = df_train.drop([\"median_house_value\"], axis=1)\n",
    "X_test = df_test.drop([\"median_house_value\"], axis=1)\n",
    "y_train = df_train[[\"median_house_value\"]]\n",
    "y_test = df_test[[\"median_house_value\"]]"
   ]
  },
  {
   "cell_type": "code",
   "execution_count": 93,
   "id": "4d450efc",
   "metadata": {},
   "outputs": [],
   "source": [
    "model = KNeighborsRegressor()"
   ]
  },
  {
   "cell_type": "code",
   "execution_count": 94,
   "id": "a7a48f58",
   "metadata": {},
   "outputs": [
    {
     "name": "stdout",
     "output_type": "stream",
     "text": [
      "Train score : 0.7746626080470614\n",
      "Test score : 0.6675568874797424\n"
     ]
    }
   ],
   "source": [
    "model.fit(X_train,y_train)\n",
    "model.predict(X_test)\n",
    "print(f\"Train score : {model.score(X_train, y_train)}\")\n",
    "print(f\"Test score : {model.score(X_test, y_test)}\")"
   ]
  },
  {
   "cell_type": "code",
   "execution_count": 95,
   "id": "7aa80a34",
   "metadata": {},
   "outputs": [
    {
     "name": "stdout",
     "output_type": "stream",
     "text": [
      "MSE : 23428664991.953873\n",
      "RMSE : 153064.25118868833\n",
      "MAE : 118385.73564578657\n"
     ]
    }
   ],
   "source": [
    "print(f\"MSE : {mean_squared_error(y_test, y_pred)}\")\n",
    "print(f\"RMSE : {np.sqrt(mean_squared_error(y_test, y_pred))}\")\n",
    "print(f\"MAE : {mean_absolute_error(y_test, y_pred)}\")"
   ]
  },
  {
   "cell_type": "code",
   "execution_count": 96,
   "id": "f464f118",
   "metadata": {
    "scrolled": true
   },
   "outputs": [
    {
     "name": "stdout",
     "output_type": "stream",
     "text": [
      "R² : 0.6550296164493786\n",
      "MSE : 4563523016.455286\n",
      "RMSE : 67349.75440323292\n",
      "MAE : 46434.689304766056\n"
     ]
    }
   ],
   "source": [
    "print(f\"R² : {cross_val_score(model,X_train, y_train,cv=KFold(n_splits=5, shuffle=True),scoring='r2').mean()}\")\n",
    "print(f\"MSE : {-cross_val_score(model,X_train, y_train,cv=KFold(n_splits=5, shuffle=True),scoring='neg_mean_squared_error').mean()}\")\n",
    "print(f\"RMSE : {-cross_val_score(model,X_train, y_train,cv=KFold(n_splits=5, shuffle=True),scoring='neg_root_mean_squared_error').mean()}\")\n",
    "print(f\"MAE : {-cross_val_score(model,X_train, y_train,cv=KFold(n_splits=5, shuffle=True),scoring='neg_mean_absolute_error').mean()}\")"
   ]
  },
  {
   "cell_type": "markdown",
   "id": "9a025a82",
   "metadata": {},
   "source": [
    "#### Supression longitude"
   ]
  },
  {
   "cell_type": "code",
   "execution_count": 85,
   "id": "4d09cf28",
   "metadata": {},
   "outputs": [],
   "source": [
    "df_train = immoSV_train_enc.drop([\"H_OCEAN\",\"ISLAND\",\"latitude\"], axis=1)\n",
    "df_test = immoSV_test_enc.drop([\"H_OCEAN\",\"ISLAND\",\"latitude\"], axis=1)"
   ]
  },
  {
   "cell_type": "code",
   "execution_count": 86,
   "id": "180fc03a",
   "metadata": {},
   "outputs": [],
   "source": [
    "X_train = df_train.drop([\"median_house_value\"], axis=1)\n",
    "X_test = df_test.drop([\"median_house_value\"], axis=1)\n",
    "y_train = df_train[[\"median_house_value\"]]\n",
    "y_test = df_test[[\"median_house_value\"]]"
   ]
  },
  {
   "cell_type": "code",
   "execution_count": 87,
   "id": "60373a41",
   "metadata": {},
   "outputs": [],
   "source": [
    "model = KNeighborsRegressor()"
   ]
  },
  {
   "cell_type": "code",
   "execution_count": 88,
   "id": "f0ae1cf8",
   "metadata": {},
   "outputs": [
    {
     "name": "stdout",
     "output_type": "stream",
     "text": [
      "Train score : 0.7917553670546098\n",
      "Test score : 0.6823533705131647\n"
     ]
    }
   ],
   "source": [
    "model.fit(X_train,y_train)\n",
    "model.predict(X_test)\n",
    "print(f\"Train score : {model.score(X_train, y_train)}\")\n",
    "print(f\"Test score : {model.score(X_test, y_test)}\")"
   ]
  },
  {
   "cell_type": "code",
   "execution_count": 89,
   "id": "b6b342d0",
   "metadata": {},
   "outputs": [
    {
     "name": "stdout",
     "output_type": "stream",
     "text": [
      "MSE : 23428664991.953873\n",
      "RMSE : 153064.25118868833\n",
      "MAE : 118385.73564578657\n"
     ]
    }
   ],
   "source": [
    "print(f\"MSE : {mean_squared_error(y_test, y_pred)}\")\n",
    "print(f\"RMSE : {np.sqrt(mean_squared_error(y_test, y_pred))}\")\n",
    "print(f\"MAE : {mean_absolute_error(y_test, y_pred)}\")"
   ]
  },
  {
   "cell_type": "code",
   "execution_count": 90,
   "id": "8fc9b063",
   "metadata": {},
   "outputs": [
    {
     "name": "stdout",
     "output_type": "stream",
     "text": [
      "R² : 0.6724154081621936\n",
      "MSE : 4295696713.814425\n",
      "RMSE : 65992.2233924516\n",
      "MAE : 45170.32731088763\n"
     ]
    }
   ],
   "source": [
    "print(f\"R² : {cross_val_score(model,X_train, y_train,cv=KFold(n_splits=5, shuffle=True),scoring='r2').mean()}\")\n",
    "print(f\"MSE : {-cross_val_score(model,X_train, y_train,cv=KFold(n_splits=5, shuffle=True),scoring='neg_mean_squared_error').mean()}\")\n",
    "print(f\"RMSE : {-cross_val_score(model,X_train, y_train,cv=KFold(n_splits=5, shuffle=True),scoring='neg_root_mean_squared_error').mean()}\")\n",
    "print(f\"MAE : {-cross_val_score(model,X_train, y_train,cv=KFold(n_splits=5, shuffle=True),scoring='neg_mean_absolute_error').mean()}\")"
   ]
  },
  {
   "cell_type": "markdown",
   "id": "1e1ccb6e",
   "metadata": {},
   "source": [
    "#### Supression housing_median_age, total_rooms, total_bedrooms, households"
   ]
  },
  {
   "cell_type": "code",
   "execution_count": 141,
   "id": "8311c83d",
   "metadata": {},
   "outputs": [],
   "source": [
    "df_train = immoSV_train_enc.drop([\"H_OCEAN\",\"ISLAND\",\"housing_median_age\",\"total_rooms\", \"total_bedrooms\", \"households\"], axis=1)\n",
    "df_test = immoSV_test_enc.drop([\"H_OCEAN\",\"ISLAND\",\"housing_median_age\",\"total_rooms\", \"total_bedrooms\", \"households\"], axis=1)"
   ]
  },
  {
   "cell_type": "code",
   "execution_count": 142,
   "id": "01fc16f5",
   "metadata": {},
   "outputs": [],
   "source": [
    "X_train = df_train.drop([\"median_house_value\"], axis=1)\n",
    "X_test = df_test.drop([\"median_house_value\"], axis=1)\n",
    "y_train = df_train[[\"median_house_value\"]]\n",
    "y_test = df_test[[\"median_house_value\"]]"
   ]
  },
  {
   "cell_type": "code",
   "execution_count": 143,
   "id": "057011b7",
   "metadata": {},
   "outputs": [],
   "source": [
    "model = KNeighborsRegressor()"
   ]
  },
  {
   "cell_type": "code",
   "execution_count": 144,
   "id": "ea3a1ce1",
   "metadata": {},
   "outputs": [
    {
     "name": "stdout",
     "output_type": "stream",
     "text": [
      "Train score : 0.8296224293851118\n",
      "Test score : 0.748949154700165\n"
     ]
    }
   ],
   "source": [
    "model.fit(X_train,y_train)\n",
    "model.predict(X_test)\n",
    "print(f\"Train score : {model.score(X_train, y_train)}\")\n",
    "print(f\"Test score : {model.score(X_test, y_test)}\")"
   ]
  },
  {
   "cell_type": "code",
   "execution_count": 145,
   "id": "43c0f7a3",
   "metadata": {},
   "outputs": [
    {
     "name": "stdout",
     "output_type": "stream",
     "text": [
      "MSE : 23428664991.953873\n",
      "RMSE : 153064.25118868833\n",
      "MAE : 118385.73564578657\n"
     ]
    }
   ],
   "source": [
    "print(f\"MSE : {mean_squared_error(y_test, y_pred)}\")\n",
    "print(f\"RMSE : {np.sqrt(mean_squared_error(y_test, y_pred))}\")\n",
    "print(f\"MAE : {mean_absolute_error(y_test, y_pred)}\")"
   ]
  },
  {
   "cell_type": "code",
   "execution_count": 146,
   "id": "d9858050",
   "metadata": {},
   "outputs": [
    {
     "name": "stdout",
     "output_type": "stream",
     "text": [
      "R² : 0.7338473045441853\n",
      "MSE : 3518174112.9044127\n",
      "RMSE : 59266.24327717068\n",
      "MAE : 39938.34738959336\n"
     ]
    }
   ],
   "source": [
    "print(f\"R² : {cross_val_score(model,X_train, y_train,cv=KFold(n_splits=5, shuffle=True),scoring='r2').mean()}\")\n",
    "print(f\"MSE : {-cross_val_score(model,X_train, y_train,cv=KFold(n_splits=5, shuffle=True),scoring='neg_mean_squared_error').mean()}\")\n",
    "print(f\"RMSE : {-cross_val_score(model,X_train, y_train,cv=KFold(n_splits=5, shuffle=True),scoring='neg_root_mean_squared_error').mean()}\")\n",
    "print(f\"MAE : {-cross_val_score(model,X_train, y_train,cv=KFold(n_splits=5, shuffle=True),scoring='neg_mean_absolute_error').mean()}\")"
   ]
  },
  {
   "cell_type": "markdown",
   "id": "2c83a232",
   "metadata": {},
   "source": [
    "#### Supression total_rooms"
   ]
  },
  {
   "cell_type": "markdown",
   "id": "5acdbf05",
   "metadata": {},
   "source": [
    "#### Supression housing_median_age, total_rooms, total_bedrooms, households"
   ]
  },
  {
   "cell_type": "code",
   "execution_count": 104,
   "id": "42200078",
   "metadata": {},
   "outputs": [],
   "source": [
    "df_train = immoSV_train_enc.drop([\"H_OCEAN\",\"ISLAND\",\"total_rooms\"], axis=1)\n",
    "df_test = immoSV_test_enc.drop([\"H_OCEAN\",\"ISLAND\",\"total_rooms\"], axis=1)"
   ]
  },
  {
   "cell_type": "code",
   "execution_count": 105,
   "id": "1bb34858",
   "metadata": {},
   "outputs": [],
   "source": [
    "X_train = df_train.drop([\"median_house_value\"], axis=1)\n",
    "X_test = df_test.drop([\"median_house_value\"], axis=1)\n",
    "y_train = df_train[[\"median_house_value\"]]\n",
    "y_test = df_test[[\"median_house_value\"]]"
   ]
  },
  {
   "cell_type": "code",
   "execution_count": 106,
   "id": "2227e493",
   "metadata": {},
   "outputs": [],
   "source": [
    "model = KNeighborsRegressor()"
   ]
  },
  {
   "cell_type": "code",
   "execution_count": 107,
   "id": "52a046af",
   "metadata": {},
   "outputs": [
    {
     "name": "stdout",
     "output_type": "stream",
     "text": [
      "Train score : 0.8036171154346569\n",
      "Test score : 0.7022284922802895\n"
     ]
    }
   ],
   "source": [
    "model.fit(X_train,y_train)\n",
    "model.predict(X_test)\n",
    "print(f\"Train score : {model.score(X_train, y_train)}\")\n",
    "print(f\"Test score : {model.score(X_test, y_test)}\")"
   ]
  },
  {
   "cell_type": "code",
   "execution_count": 108,
   "id": "6fa9b556",
   "metadata": {},
   "outputs": [
    {
     "name": "stdout",
     "output_type": "stream",
     "text": [
      "MSE : 23428664991.953873\n",
      "RMSE : 153064.25118868833\n",
      "MAE : 118385.73564578657\n"
     ]
    }
   ],
   "source": [
    "print(f\"MSE : {mean_squared_error(y_test, y_pred)}\")\n",
    "print(f\"RMSE : {np.sqrt(mean_squared_error(y_test, y_pred))}\")\n",
    "print(f\"MAE : {mean_absolute_error(y_test, y_pred)}\")"
   ]
  },
  {
   "cell_type": "code",
   "execution_count": 109,
   "id": "a7611ddb",
   "metadata": {},
   "outputs": [
    {
     "name": "stdout",
     "output_type": "stream",
     "text": [
      "R² : 0.6864414041937728\n",
      "MSE : 4187079038.2765017\n",
      "RMSE : 64014.91182056741\n",
      "MAE : 43382.324529951904\n"
     ]
    }
   ],
   "source": [
    "print(f\"R² : {cross_val_score(model,X_train, y_train,cv=KFold(n_splits=5, shuffle=True),scoring='r2').mean()}\")\n",
    "print(f\"MSE : {-cross_val_score(model,X_train, y_train,cv=KFold(n_splits=5, shuffle=True),scoring='neg_mean_squared_error').mean()}\")\n",
    "print(f\"RMSE : {-cross_val_score(model,X_train, y_train,cv=KFold(n_splits=5, shuffle=True),scoring='neg_root_mean_squared_error').mean()}\")\n",
    "print(f\"MAE : {-cross_val_score(model,X_train, y_train,cv=KFold(n_splits=5, shuffle=True),scoring='neg_mean_absolute_error').mean()}\")"
   ]
  },
  {
   "cell_type": "code",
   "execution_count": null,
   "id": "543afe2b",
   "metadata": {},
   "outputs": [],
   "source": []
  },
  {
   "cell_type": "markdown",
   "id": "a81b4c67",
   "metadata": {},
   "source": [
    "#### Supression total_bedrooms"
   ]
  },
  {
   "cell_type": "code",
   "execution_count": 110,
   "id": "522f9caf",
   "metadata": {},
   "outputs": [],
   "source": [
    "df_train = immoSV_train_enc.drop([\"H_OCEAN\",\"ISLAND\",\"total_bedrooms\"], axis=1)\n",
    "df_test = immoSV_test_enc.drop([\"H_OCEAN\",\"ISLAND\",\"total_bedrooms\"], axis=1)"
   ]
  },
  {
   "cell_type": "code",
   "execution_count": 111,
   "id": "c7342545",
   "metadata": {},
   "outputs": [],
   "source": [
    "X_train = df_train.drop([\"median_house_value\"], axis=1)\n",
    "X_test = df_test.drop([\"median_house_value\"], axis=1)\n",
    "y_train = df_train[[\"median_house_value\"]]\n",
    "y_test = df_test[[\"median_house_value\"]]"
   ]
  },
  {
   "cell_type": "code",
   "execution_count": 112,
   "id": "d062c831",
   "metadata": {},
   "outputs": [],
   "source": [
    "model = KNeighborsRegressor()"
   ]
  },
  {
   "cell_type": "code",
   "execution_count": 113,
   "id": "96344ea8",
   "metadata": {},
   "outputs": [
    {
     "name": "stdout",
     "output_type": "stream",
     "text": [
      "Train score : 0.8052178297289534\n",
      "Test score : 0.7029303879761059\n"
     ]
    }
   ],
   "source": [
    "model.fit(X_train,y_train)\n",
    "model.predict(X_test)\n",
    "print(f\"Train score : {model.score(X_train, y_train)}\")\n",
    "print(f\"Test score : {model.score(X_test, y_test)}\")"
   ]
  },
  {
   "cell_type": "code",
   "execution_count": 114,
   "id": "a892f9ff",
   "metadata": {},
   "outputs": [
    {
     "name": "stdout",
     "output_type": "stream",
     "text": [
      "MSE : 23428664991.953873\n",
      "RMSE : 153064.25118868833\n",
      "MAE : 118385.73564578657\n"
     ]
    }
   ],
   "source": [
    "print(f\"MSE : {mean_squared_error(y_test, y_pred)}\")\n",
    "print(f\"RMSE : {np.sqrt(mean_squared_error(y_test, y_pred))}\")\n",
    "print(f\"MAE : {mean_absolute_error(y_test, y_pred)}\")"
   ]
  },
  {
   "cell_type": "code",
   "execution_count": 115,
   "id": "61f841c7",
   "metadata": {},
   "outputs": [
    {
     "name": "stdout",
     "output_type": "stream",
     "text": [
      "R² : 0.694271121208698\n",
      "MSE : 4074661495.7604685\n",
      "RMSE : 63898.84011085435\n",
      "MAE : 43195.88477481417\n"
     ]
    }
   ],
   "source": [
    "print(f\"R² : {cross_val_score(model,X_train, y_train,cv=KFold(n_splits=5, shuffle=True),scoring='r2').mean()}\")\n",
    "print(f\"MSE : {-cross_val_score(model,X_train, y_train,cv=KFold(n_splits=5, shuffle=True),scoring='neg_mean_squared_error').mean()}\")\n",
    "print(f\"RMSE : {-cross_val_score(model,X_train, y_train,cv=KFold(n_splits=5, shuffle=True),scoring='neg_root_mean_squared_error').mean()}\")\n",
    "print(f\"MAE : {-cross_val_score(model,X_train, y_train,cv=KFold(n_splits=5, shuffle=True),scoring='neg_mean_absolute_error').mean()}\")"
   ]
  },
  {
   "cell_type": "code",
   "execution_count": null,
   "id": "6f6a7af7",
   "metadata": {},
   "outputs": [],
   "source": []
  },
  {
   "cell_type": "markdown",
   "id": "d04fec96",
   "metadata": {},
   "source": [
    "#### Supression population"
   ]
  },
  {
   "cell_type": "code",
   "execution_count": 116,
   "id": "3b1681ec",
   "metadata": {},
   "outputs": [],
   "source": [
    "df_train = immoSV_train_enc.drop([\"H_OCEAN\",\"ISLAND\",\"population\"], axis=1)\n",
    "df_test = immoSV_test_enc.drop([\"H_OCEAN\",\"ISLAND\",\"population\"], axis=1)"
   ]
  },
  {
   "cell_type": "code",
   "execution_count": 117,
   "id": "9f1a04a8",
   "metadata": {},
   "outputs": [],
   "source": [
    "X_train = df_train.drop([\"median_house_value\"], axis=1)\n",
    "X_test = df_test.drop([\"median_house_value\"], axis=1)\n",
    "y_train = df_train[[\"median_house_value\"]]\n",
    "y_test = df_test[[\"median_house_value\"]]"
   ]
  },
  {
   "cell_type": "code",
   "execution_count": 118,
   "id": "31cef83e",
   "metadata": {},
   "outputs": [],
   "source": [
    "model = KNeighborsRegressor()"
   ]
  },
  {
   "cell_type": "code",
   "execution_count": 119,
   "id": "33717d72",
   "metadata": {},
   "outputs": [
    {
     "name": "stdout",
     "output_type": "stream",
     "text": [
      "Train score : 0.7949583305333081\n",
      "Test score : 0.685435526236607\n"
     ]
    }
   ],
   "source": [
    "model.fit(X_train,y_train)\n",
    "model.predict(X_test)\n",
    "print(f\"Train score : {model.score(X_train, y_train)}\")\n",
    "print(f\"Test score : {model.score(X_test, y_test)}\")"
   ]
  },
  {
   "cell_type": "code",
   "execution_count": 120,
   "id": "abfde531",
   "metadata": {},
   "outputs": [
    {
     "name": "stdout",
     "output_type": "stream",
     "text": [
      "MSE : 23428664991.953873\n",
      "RMSE : 153064.25118868833\n",
      "MAE : 118385.73564578657\n"
     ]
    }
   ],
   "source": [
    "print(f\"MSE : {mean_squared_error(y_test, y_pred)}\")\n",
    "print(f\"RMSE : {np.sqrt(mean_squared_error(y_test, y_pred))}\")\n",
    "print(f\"MAE : {mean_absolute_error(y_test, y_pred)}\")"
   ]
  },
  {
   "cell_type": "code",
   "execution_count": 121,
   "id": "70e74420",
   "metadata": {},
   "outputs": [
    {
     "name": "stdout",
     "output_type": "stream",
     "text": [
      "R² : 0.6775980014582208\n",
      "MSE : 4252828437.403652\n",
      "RMSE : 65272.9817903777\n",
      "MAE : 44680.046821163094\n"
     ]
    }
   ],
   "source": [
    "print(f\"R² : {cross_val_score(model,X_train, y_train,cv=KFold(n_splits=5, shuffle=True),scoring='r2').mean()}\")\n",
    "print(f\"MSE : {-cross_val_score(model,X_train, y_train,cv=KFold(n_splits=5, shuffle=True),scoring='neg_mean_squared_error').mean()}\")\n",
    "print(f\"RMSE : {-cross_val_score(model,X_train, y_train,cv=KFold(n_splits=5, shuffle=True),scoring='neg_root_mean_squared_error').mean()}\")\n",
    "print(f\"MAE : {-cross_val_score(model,X_train, y_train,cv=KFold(n_splits=5, shuffle=True),scoring='neg_mean_absolute_error').mean()}\")"
   ]
  },
  {
   "cell_type": "code",
   "execution_count": null,
   "id": "747bf269",
   "metadata": {},
   "outputs": [],
   "source": []
  },
  {
   "cell_type": "markdown",
   "id": "a152bda1",
   "metadata": {},
   "source": [
    "#### Supression households"
   ]
  },
  {
   "cell_type": "code",
   "execution_count": 122,
   "id": "146600ef",
   "metadata": {},
   "outputs": [],
   "source": [
    "df_train = immoSV_train_enc.drop([\"H_OCEAN\",\"ISLAND\",\"households\"], axis=1)\n",
    "df_test = immoSV_test_enc.drop([\"H_OCEAN\",\"ISLAND\",\"households\"], axis=1)"
   ]
  },
  {
   "cell_type": "code",
   "execution_count": 123,
   "id": "0edf4d35",
   "metadata": {},
   "outputs": [],
   "source": [
    "X_train = df_train.drop([\"median_house_value\"], axis=1)\n",
    "X_test = df_test.drop([\"median_house_value\"], axis=1)\n",
    "y_train = df_train[[\"median_house_value\"]]\n",
    "y_test = df_test[[\"median_house_value\"]]"
   ]
  },
  {
   "cell_type": "code",
   "execution_count": 124,
   "id": "41463af4",
   "metadata": {},
   "outputs": [],
   "source": [
    "model = KNeighborsRegressor()"
   ]
  },
  {
   "cell_type": "code",
   "execution_count": 125,
   "id": "4d9f20c3",
   "metadata": {},
   "outputs": [
    {
     "name": "stdout",
     "output_type": "stream",
     "text": [
      "Train score : 0.8053755305343673\n",
      "Test score : 0.7050425824896535\n"
     ]
    }
   ],
   "source": [
    "model.fit(X_train,y_train)\n",
    "model.predict(X_test)\n",
    "print(f\"Train score : {model.score(X_train, y_train)}\")\n",
    "print(f\"Test score : {model.score(X_test, y_test)}\")"
   ]
  },
  {
   "cell_type": "code",
   "execution_count": 126,
   "id": "9b5e1322",
   "metadata": {},
   "outputs": [
    {
     "name": "stdout",
     "output_type": "stream",
     "text": [
      "MSE : 23428664991.953873\n",
      "RMSE : 153064.25118868833\n",
      "MAE : 118385.73564578657\n"
     ]
    }
   ],
   "source": [
    "print(f\"MSE : {mean_squared_error(y_test, y_pred)}\")\n",
    "print(f\"RMSE : {np.sqrt(mean_squared_error(y_test, y_pred))}\")\n",
    "print(f\"MAE : {mean_absolute_error(y_test, y_pred)}\")"
   ]
  },
  {
   "cell_type": "code",
   "execution_count": 127,
   "id": "125c05fb",
   "metadata": {},
   "outputs": [
    {
     "name": "stdout",
     "output_type": "stream",
     "text": [
      "R² : 0.6942416116037899\n",
      "MSE : 4113737442.5113387\n",
      "RMSE : 63874.99376621291\n",
      "MAE : 43247.42056843026\n"
     ]
    }
   ],
   "source": [
    "print(f\"R² : {cross_val_score(model,X_train, y_train,cv=KFold(n_splits=5, shuffle=True),scoring='r2').mean()}\")\n",
    "print(f\"MSE : {-cross_val_score(model,X_train, y_train,cv=KFold(n_splits=5, shuffle=True),scoring='neg_mean_squared_error').mean()}\")\n",
    "print(f\"RMSE : {-cross_val_score(model,X_train, y_train,cv=KFold(n_splits=5, shuffle=True),scoring='neg_root_mean_squared_error').mean()}\")\n",
    "print(f\"MAE : {-cross_val_score(model,X_train, y_train,cv=KFold(n_splits=5, shuffle=True),scoring='neg_mean_absolute_error').mean()}\")"
   ]
  },
  {
   "cell_type": "code",
   "execution_count": null,
   "id": "e136819d",
   "metadata": {},
   "outputs": [],
   "source": []
  },
  {
   "cell_type": "markdown",
   "id": "5703e9c6",
   "metadata": {},
   "source": [
    "#### Supression median_income"
   ]
  },
  {
   "cell_type": "code",
   "execution_count": 128,
   "id": "90105df3",
   "metadata": {},
   "outputs": [],
   "source": [
    "df_train = immoSV_train_enc.drop([\"H_OCEAN\",\"ISLAND\",\"median_income\"], axis=1)\n",
    "df_test = immoSV_test_enc.drop([\"H_OCEAN\",\"ISLAND\",\"median_income\"], axis=1)"
   ]
  },
  {
   "cell_type": "code",
   "execution_count": 129,
   "id": "e287ffa9",
   "metadata": {},
   "outputs": [],
   "source": [
    "X_train = df_train.drop([\"median_house_value\"], axis=1)\n",
    "X_test = df_test.drop([\"median_house_value\"], axis=1)\n",
    "y_train = df_train[[\"median_house_value\"]]\n",
    "y_test = df_test[[\"median_house_value\"]]"
   ]
  },
  {
   "cell_type": "code",
   "execution_count": 130,
   "id": "780a6444",
   "metadata": {},
   "outputs": [],
   "source": [
    "model = KNeighborsRegressor()"
   ]
  },
  {
   "cell_type": "code",
   "execution_count": 131,
   "id": "aae9bbf6",
   "metadata": {},
   "outputs": [
    {
     "name": "stdout",
     "output_type": "stream",
     "text": [
      "Train score : 0.7186522301068083\n",
      "Test score : 0.5689410364796683\n"
     ]
    }
   ],
   "source": [
    "model.fit(X_train,y_train)\n",
    "model.predict(X_test)\n",
    "print(f\"Train score : {model.score(X_train, y_train)}\")\n",
    "print(f\"Test score : {model.score(X_test, y_test)}\")"
   ]
  },
  {
   "cell_type": "code",
   "execution_count": 132,
   "id": "8e6126ac",
   "metadata": {},
   "outputs": [
    {
     "name": "stdout",
     "output_type": "stream",
     "text": [
      "MSE : 23428664991.953873\n",
      "RMSE : 153064.25118868833\n",
      "MAE : 118385.73564578657\n"
     ]
    }
   ],
   "source": [
    "print(f\"MSE : {mean_squared_error(y_test, y_pred)}\")\n",
    "print(f\"RMSE : {np.sqrt(mean_squared_error(y_test, y_pred))}\")\n",
    "print(f\"MAE : {mean_absolute_error(y_test, y_pred)}\")"
   ]
  },
  {
   "cell_type": "code",
   "execution_count": 133,
   "id": "3aa2666d",
   "metadata": {},
   "outputs": [
    {
     "name": "stdout",
     "output_type": "stream",
     "text": [
      "R² : 0.5471198246438098\n",
      "MSE : 6100138361.003467\n",
      "RMSE : 77893.71625136424\n",
      "MAE : 54520.383926541326\n"
     ]
    }
   ],
   "source": [
    "print(f\"R² : {cross_val_score(model,X_train, y_train,cv=KFold(n_splits=5, shuffle=True),scoring='r2').mean()}\")\n",
    "print(f\"MSE : {-cross_val_score(model,X_train, y_train,cv=KFold(n_splits=5, shuffle=True),scoring='neg_mean_squared_error').mean()}\")\n",
    "print(f\"RMSE : {-cross_val_score(model,X_train, y_train,cv=KFold(n_splits=5, shuffle=True),scoring='neg_root_mean_squared_error').mean()}\")\n",
    "print(f\"MAE : {-cross_val_score(model,X_train, y_train,cv=KFold(n_splits=5, shuffle=True),scoring='neg_mean_absolute_error').mean()}\")"
   ]
  },
  {
   "cell_type": "code",
   "execution_count": null,
   "id": "77bbd132",
   "metadata": {},
   "outputs": [],
   "source": []
  },
  {
   "cell_type": "markdown",
   "id": "0dbdcfef",
   "metadata": {},
   "source": [
    "#### Supression NEAR_OCEAN, NEAR_BAY, INLAND"
   ]
  },
  {
   "cell_type": "code",
   "execution_count": 134,
   "id": "0427507a",
   "metadata": {},
   "outputs": [],
   "source": [
    "df_train = immoSV_train_enc.drop([\"H_OCEAN\",\"ISLAND\",\"NEAR_OCEAN\", \"NEAR_BAY\", \"INLAND\"], axis=1)\n",
    "df_test = immoSV_test_enc.drop([\"H_OCEAN\",\"ISLAND\",\"NEAR_OCEAN\", \"NEAR_BAY\", \"INLAND\"], axis=1)"
   ]
  },
  {
   "cell_type": "code",
   "execution_count": 135,
   "id": "403fe2a3",
   "metadata": {},
   "outputs": [],
   "source": [
    "X_train = df_train.drop([\"median_house_value\"], axis=1)\n",
    "X_test = df_test.drop([\"median_house_value\"], axis=1)\n",
    "y_train = df_train[[\"median_house_value\"]]\n",
    "y_test = df_test[[\"median_house_value\"]]"
   ]
  },
  {
   "cell_type": "code",
   "execution_count": 136,
   "id": "2a5cf69e",
   "metadata": {},
   "outputs": [],
   "source": [
    "model = KNeighborsRegressor()"
   ]
  },
  {
   "cell_type": "code",
   "execution_count": 137,
   "id": "761f08f4",
   "metadata": {},
   "outputs": [
    {
     "name": "stdout",
     "output_type": "stream",
     "text": [
      "Train score : 0.7979626890316539\n",
      "Test score : 0.7008066470594035\n"
     ]
    }
   ],
   "source": [
    "model.fit(X_train,y_train)\n",
    "model.predict(X_test)\n",
    "print(f\"Train score : {model.score(X_train, y_train)}\")\n",
    "print(f\"Test score : {model.score(X_test, y_test)}\")"
   ]
  },
  {
   "cell_type": "code",
   "execution_count": 138,
   "id": "7235c05b",
   "metadata": {},
   "outputs": [
    {
     "name": "stdout",
     "output_type": "stream",
     "text": [
      "MSE : 23428664991.953873\n",
      "RMSE : 153064.25118868833\n",
      "MAE : 118385.73564578657\n"
     ]
    }
   ],
   "source": [
    "print(f\"MSE : {mean_squared_error(y_test, y_pred)}\")\n",
    "print(f\"RMSE : {np.sqrt(mean_squared_error(y_test, y_pred))}\")\n",
    "print(f\"MAE : {mean_absolute_error(y_test, y_pred)}\")"
   ]
  },
  {
   "cell_type": "code",
   "execution_count": 139,
   "id": "5cd99520",
   "metadata": {},
   "outputs": [
    {
     "name": "stdout",
     "output_type": "stream",
     "text": [
      "R² : 0.6802474439655155\n",
      "MSE : 4211188844.5731874\n",
      "RMSE : 65075.866806611666\n",
      "MAE : 44666.18116309576\n"
     ]
    }
   ],
   "source": [
    "print(f\"R² : {cross_val_score(model,X_train, y_train,cv=KFold(n_splits=5, shuffle=True),scoring='r2').mean()}\")\n",
    "print(f\"MSE : {-cross_val_score(model,X_train, y_train,cv=KFold(n_splits=5, shuffle=True),scoring='neg_mean_squared_error').mean()}\")\n",
    "print(f\"RMSE : {-cross_val_score(model,X_train, y_train,cv=KFold(n_splits=5, shuffle=True),scoring='neg_root_mean_squared_error').mean()}\")\n",
    "print(f\"MAE : {-cross_val_score(model,X_train, y_train,cv=KFold(n_splits=5, shuffle=True),scoring='neg_mean_absolute_error').mean()}\")"
   ]
  },
  {
   "cell_type": "code",
   "execution_count": null,
   "id": "17fb9ea7",
   "metadata": {},
   "outputs": [],
   "source": []
  },
  {
   "cell_type": "markdown",
   "id": "949d4966",
   "metadata": {},
   "source": [
    "#### Supression housing_median_age"
   ]
  },
  {
   "cell_type": "code",
   "execution_count": 98,
   "id": "1ab7a199",
   "metadata": {},
   "outputs": [],
   "source": [
    "df_train = immoSV_train_enc.drop([\"H_OCEAN\",\"ISLAND\",\"housing_median_age\"], axis=1)\n",
    "df_test = immoSV_test_enc.drop([\"H_OCEAN\",\"ISLAND\",\"housing_median_age\"], axis=1)"
   ]
  },
  {
   "cell_type": "code",
   "execution_count": 99,
   "id": "77543d87",
   "metadata": {},
   "outputs": [],
   "source": [
    "X_train = df_train.drop([\"median_house_value\"], axis=1)\n",
    "X_test = df_test.drop([\"median_house_value\"], axis=1)\n",
    "y_train = df_train[[\"median_house_value\"]]\n",
    "y_test = df_test[[\"median_house_value\"]]"
   ]
  },
  {
   "cell_type": "code",
   "execution_count": 100,
   "id": "517735f8",
   "metadata": {},
   "outputs": [],
   "source": [
    "model = KNeighborsRegressor()"
   ]
  },
  {
   "cell_type": "code",
   "execution_count": 101,
   "id": "db5da7cc",
   "metadata": {},
   "outputs": [
    {
     "name": "stdout",
     "output_type": "stream",
     "text": [
      "Train score : 0.8292953338874102\n",
      "Test score : 0.7417586215135439\n"
     ]
    }
   ],
   "source": [
    "model.fit(X_train,y_train)\n",
    "model.predict(X_test)\n",
    "print(f\"Train score : {model.score(X_train, y_train)}\")\n",
    "print(f\"Test score : {model.score(X_test, y_test)}\")"
   ]
  },
  {
   "cell_type": "code",
   "execution_count": 102,
   "id": "a9862ea0",
   "metadata": {},
   "outputs": [
    {
     "name": "stdout",
     "output_type": "stream",
     "text": [
      "MSE : 23428664991.953873\n",
      "RMSE : 153064.25118868833\n",
      "MAE : 118385.73564578657\n"
     ]
    }
   ],
   "source": [
    "print(f\"MSE : {mean_squared_error(y_test, y_pred)}\")\n",
    "print(f\"RMSE : {np.sqrt(mean_squared_error(y_test, y_pred))}\")\n",
    "print(f\"MAE : {mean_absolute_error(y_test, y_pred)}\")"
   ]
  },
  {
   "cell_type": "code",
   "execution_count": 103,
   "id": "75344c38",
   "metadata": {},
   "outputs": [
    {
     "name": "stdout",
     "output_type": "stream",
     "text": [
      "R² : 0.7302307779356358\n",
      "MSE : 3545900830.539673\n",
      "RMSE : 60027.26560701622\n",
      "MAE : 40086.95646698732\n"
     ]
    }
   ],
   "source": [
    "print(f\"R² : {cross_val_score(model,X_train, y_train,cv=KFold(n_splits=5, shuffle=True),scoring='r2').mean()}\")\n",
    "print(f\"MSE : {-cross_val_score(model,X_train, y_train,cv=KFold(n_splits=5, shuffle=True),scoring='neg_mean_squared_error').mean()}\")\n",
    "print(f\"RMSE : {-cross_val_score(model,X_train, y_train,cv=KFold(n_splits=5, shuffle=True),scoring='neg_root_mean_squared_error').mean()}\")\n",
    "print(f\"MAE : {-cross_val_score(model,X_train, y_train,cv=KFold(n_splits=5, shuffle=True),scoring='neg_mean_absolute_error').mean()}\")"
   ]
  },
  {
   "cell_type": "code",
   "execution_count": null,
   "id": "17a8c024",
   "metadata": {},
   "outputs": [],
   "source": []
  },
  {
   "cell_type": "markdown",
   "id": "da0b96b5",
   "metadata": {},
   "source": [
    "#### Supression housing_median_age, total_rooms, total_bedrooms, households"
   ]
  },
  {
   "cell_type": "code",
   "execution_count": 141,
   "id": "548bceef",
   "metadata": {},
   "outputs": [],
   "source": [
    "df_train = immoSV_train_enc.drop([\"H_OCEAN\",\"ISLAND\",\"housing_median_age\",\"total_rooms\", \"total_bedrooms\", \"households\"], axis=1)\n",
    "df_test = immoSV_test_enc.drop([\"H_OCEAN\",\"ISLAND\",\"housing_median_age\",\"total_rooms\", \"total_bedrooms\", \"households\"], axis=1)"
   ]
  },
  {
   "cell_type": "code",
   "execution_count": 142,
   "id": "eebc0a89",
   "metadata": {},
   "outputs": [],
   "source": [
    "X_train = df_train.drop([\"median_house_value\"], axis=1)\n",
    "X_test = df_test.drop([\"median_house_value\"], axis=1)\n",
    "y_train = df_train[[\"median_house_value\"]]\n",
    "y_test = df_test[[\"median_house_value\"]]"
   ]
  },
  {
   "cell_type": "code",
   "execution_count": 143,
   "id": "e17db0bd",
   "metadata": {},
   "outputs": [],
   "source": [
    "model = KNeighborsRegressor()"
   ]
  },
  {
   "cell_type": "code",
   "execution_count": 144,
   "id": "d4949242",
   "metadata": {},
   "outputs": [
    {
     "name": "stdout",
     "output_type": "stream",
     "text": [
      "Train score : 0.8296224293851118\n",
      "Test score : 0.748949154700165\n"
     ]
    }
   ],
   "source": [
    "model.fit(X_train,y_train)\n",
    "model.predict(X_test)\n",
    "print(f\"Train score : {model.score(X_train, y_train)}\")\n",
    "print(f\"Test score : {model.score(X_test, y_test)}\")"
   ]
  },
  {
   "cell_type": "code",
   "execution_count": 145,
   "id": "45b37c42",
   "metadata": {},
   "outputs": [
    {
     "name": "stdout",
     "output_type": "stream",
     "text": [
      "MSE : 23428664991.953873\n",
      "RMSE : 153064.25118868833\n",
      "MAE : 118385.73564578657\n"
     ]
    }
   ],
   "source": [
    "print(f\"MSE : {mean_squared_error(y_test, y_pred)}\")\n",
    "print(f\"RMSE : {np.sqrt(mean_squared_error(y_test, y_pred))}\")\n",
    "print(f\"MAE : {mean_absolute_error(y_test, y_pred)}\")"
   ]
  },
  {
   "cell_type": "code",
   "execution_count": 146,
   "id": "8377b2ef",
   "metadata": {},
   "outputs": [
    {
     "name": "stdout",
     "output_type": "stream",
     "text": [
      "R² : 0.7338473045441853\n",
      "MSE : 3518174112.9044127\n",
      "RMSE : 59266.24327717068\n",
      "MAE : 39938.34738959336\n"
     ]
    }
   ],
   "source": [
    "print(f\"R² : {cross_val_score(model,X_train, y_train,cv=KFold(n_splits=5, shuffle=True),scoring='r2').mean()}\")\n",
    "print(f\"MSE : {-cross_val_score(model,X_train, y_train,cv=KFold(n_splits=5, shuffle=True),scoring='neg_mean_squared_error').mean()}\")\n",
    "print(f\"RMSE : {-cross_val_score(model,X_train, y_train,cv=KFold(n_splits=5, shuffle=True),scoring='neg_root_mean_squared_error').mean()}\")\n",
    "print(f\"MAE : {-cross_val_score(model,X_train, y_train,cv=KFold(n_splits=5, shuffle=True),scoring='neg_mean_absolute_error').mean()}\")"
   ]
  },
  {
   "cell_type": "code",
   "execution_count": null,
   "id": "e2c42246",
   "metadata": {},
   "outputs": [],
   "source": []
  },
  {
   "cell_type": "markdown",
   "id": "95827611",
   "metadata": {},
   "source": [
    "#### Supression housing_median_age, total_rooms, total_bedrooms, households et (n_neighbors=11)"
   ]
  },
  {
   "cell_type": "code",
   "execution_count": 147,
   "id": "c6da7eba",
   "metadata": {},
   "outputs": [],
   "source": [
    "df_train = immoSV_train_enc.drop([\"H_OCEAN\",\"ISLAND\",\"housing_median_age\",\"total_rooms\", \"total_bedrooms\", \"households\"], axis=1)\n",
    "df_test = immoSV_test_enc.drop([\"H_OCEAN\",\"ISLAND\",\"housing_median_age\",\"total_rooms\", \"total_bedrooms\", \"households\"], axis=1)"
   ]
  },
  {
   "cell_type": "code",
   "execution_count": 148,
   "id": "dd6a9cdf",
   "metadata": {},
   "outputs": [],
   "source": [
    "X_train = df_train.drop([\"median_house_value\"], axis=1)\n",
    "X_test = df_test.drop([\"median_house_value\"], axis=1)\n",
    "y_train = df_train[[\"median_house_value\"]]\n",
    "y_test = df_test[[\"median_house_value\"]]"
   ]
  },
  {
   "cell_type": "code",
   "execution_count": 149,
   "id": "0170ab22",
   "metadata": {},
   "outputs": [],
   "source": [
    "model = KNeighborsRegressor(n_neighbors=11)"
   ]
  },
  {
   "cell_type": "code",
   "execution_count": 150,
   "id": "1a9c76ce",
   "metadata": {},
   "outputs": [
    {
     "name": "stdout",
     "output_type": "stream",
     "text": [
      "Train score : 0.7931218833623133\n",
      "Test score : 0.750749730890458\n"
     ]
    }
   ],
   "source": [
    "model.fit(X_train,y_train)\n",
    "model.predict(X_test)\n",
    "print(f\"Train score : {model.score(X_train, y_train)}\")\n",
    "print(f\"Test score : {model.score(X_test, y_test)}\")"
   ]
  },
  {
   "cell_type": "code",
   "execution_count": 151,
   "id": "bd9cc354",
   "metadata": {},
   "outputs": [
    {
     "name": "stdout",
     "output_type": "stream",
     "text": [
      "MSE : 23428664991.953873\n",
      "RMSE : 153064.25118868833\n",
      "MAE : 118385.73564578657\n"
     ]
    }
   ],
   "source": [
    "print(f\"MSE : {mean_squared_error(y_test, y_pred)}\")\n",
    "print(f\"RMSE : {np.sqrt(mean_squared_error(y_test, y_pred))}\")\n",
    "print(f\"MAE : {mean_absolute_error(y_test, y_pred)}\")"
   ]
  },
  {
   "cell_type": "code",
   "execution_count": 152,
   "id": "5331a413",
   "metadata": {},
   "outputs": [
    {
     "name": "stdout",
     "output_type": "stream",
     "text": [
      "R² : 0.7423732168696122\n",
      "MSE : 3463747090.161255\n",
      "RMSE : 58907.40713290281\n",
      "MAE : 39886.23065548357\n"
     ]
    }
   ],
   "source": [
    "print(f\"R² : {cross_val_score(model,X_train, y_train,cv=KFold(n_splits=5, shuffle=True),scoring='r2').mean()}\")\n",
    "print(f\"MSE : {-cross_val_score(model,X_train, y_train,cv=KFold(n_splits=5, shuffle=True),scoring='neg_mean_squared_error').mean()}\")\n",
    "print(f\"RMSE : {-cross_val_score(model,X_train, y_train,cv=KFold(n_splits=5, shuffle=True),scoring='neg_root_mean_squared_error').mean()}\")\n",
    "print(f\"MAE : {-cross_val_score(model,X_train, y_train,cv=KFold(n_splits=5, shuffle=True),scoring='neg_mean_absolute_error').mean()}\")"
   ]
  }
 ],
 "metadata": {
  "kernelspec": {
   "display_name": "Python 3",
   "language": "python",
   "name": "python3"
  },
  "language_info": {
   "codemirror_mode": {
    "name": "ipython",
    "version": 3
   },
   "file_extension": ".py",
   "mimetype": "text/x-python",
   "name": "python",
   "nbconvert_exporter": "python",
   "pygments_lexer": "ipython3",
   "version": "3.8.8"
  }
 },
 "nbformat": 4,
 "nbformat_minor": 5
}
