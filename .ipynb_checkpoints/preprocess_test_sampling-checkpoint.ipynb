{
 "cells": [
  {
   "cell_type": "code",
   "execution_count": 3,
   "id": "f438c938",
   "metadata": {
    "scrolled": true
   },
   "outputs": [
    {
     "name": "stderr",
     "output_type": "stream",
     "text": [
      "[nltk_data] Downloading package omw-1.4 to\n",
      "[nltk_data]     C:\\Users\\Admin\\AppData\\Roaming\\nltk_data...\n",
      "[nltk_data]   Package omw-1.4 is already up-to-date!\n",
      "[nltk_data] Downloading package wordnet to\n",
      "[nltk_data]     C:\\Users\\Admin\\AppData\\Roaming\\nltk_data...\n",
      "[nltk_data]   Package wordnet is already up-to-date!\n",
      "[nltk_data] Downloading package averaged_perceptron_tagger to\n",
      "[nltk_data]     C:\\Users\\Admin\\AppData\\Roaming\\nltk_data...\n",
      "[nltk_data]   Package averaged_perceptron_tagger is already up-to-\n",
      "[nltk_data]       date!\n"
     ]
    }
   ],
   "source": [
    "# Connection\n",
    "import mysql.connector\n",
    "import sys\n",
    "\n",
    "# Utility\n",
    "import numpy as np \n",
    "import pandas as pd\n",
    "import matplotlib.pyplot as plt\n",
    "import seaborn as sns\n",
    "import pickle\n",
    "\n",
    "# Preprocessing\n",
    "# import string\n",
    "from nltk import *\n",
    "import nltk\n",
    "nltk.download('omw-1.4')\n",
    "nltk.download('wordnet')\n",
    "nltk.download('averaged_perceptron_tagger') #pour pos_tag\n",
    "\n",
    "from nltk.stem import WordNetLemmatizer\n",
    "from nltk.corpus import stopwords\n",
    "from nltk.tokenize import word_tokenize\n",
    "from nltk.tag import pos_tag\n",
    "from nltk.corpus import wordnet as wn\n",
    "\n",
    "# Modelling\n",
    "from sklearn.model_selection import train_test_split\n",
    "\n",
    "import tensorflow as tf\n",
    "from tensorflow.keras.preprocessing.text import Tokenizer\n",
    "from tensorflow.keras.preprocessing.sequence import pad_sequences\n",
    "from tensorflow.keras import Sequential\n",
    "from tensorflow.keras.layers import Dense, Embedding, GlobalAveragePooling1D , Activation, InputLayer, LSTM\n",
    "from tensorflow.keras.layers import Flatten, Dropout\n",
    "from tensorflow.keras.callbacks import EarlyStopping\n",
    "\n",
    "from sklearn.metrics import (classification_report, confusion_matrix, \n",
    "                            f1_score,accuracy_score, precision_score, \n",
    "                             recall_score, roc_auc_score) "
   ]
  },
  {
   "cell_type": "code",
   "execution_count": 4,
   "id": "32ff0e7d",
   "metadata": {},
   "outputs": [],
   "source": [
    "def connect():\n",
    "    try:\n",
    "        cnx = mysql.connector.connect(host=\"localhost\",user=\"root\",password=\"root\",auth_plugin='mysql_native_password',database=\"sentiment_analysis\")\n",
    "    except mysql.connector.Error as err:\n",
    "        cnx = False\n",
    "        print(err)\n",
    "        sys.exit(1)\n",
    "    finally:\n",
    "        return cnx"
   ]
  },
  {
   "cell_type": "code",
   "execution_count": 5,
   "id": "686cf01c",
   "metadata": {},
   "outputs": [],
   "source": [
    "conn = connect()\n",
    "conn\n",
    "cursor = conn.cursor()"
   ]
  },
  {
   "cell_type": "code",
   "execution_count": 6,
   "id": "254354e5",
   "metadata": {},
   "outputs": [],
   "source": [
    "def create_dataframe():\n",
    "    cursor.execute(\"\"\"  SELECT *\n",
    "                    FROM clothing_reviews; \"\"\")\n",
    "    rows = cursor.fetchall()\n",
    "    df = pd.DataFrame(rows,columns=['Index','Clothing ID', 'Age', 'Title', 'Review Text', 'Rating',\n",
    "       'Recommended IND', 'Positive Feedback Count', 'Division Name',\n",
    "       'Department Name', 'Class Name'])\n",
    "    df = df.set_index('Index')\n",
    "    df = df.replace('',np.nan,regex = True)\n",
    "    return df"
   ]
  },
  {
   "cell_type": "code",
   "execution_count": 7,
   "id": "72aeefda",
   "metadata": {},
   "outputs": [],
   "source": [
    "df_ori = create_dataframe()"
   ]
  },
  {
   "cell_type": "markdown",
   "id": "f9b020fe",
   "metadata": {},
   "source": [
    "# Cleaning"
   ]
  },
  {
   "cell_type": "code",
   "execution_count": 8,
   "id": "14df7853",
   "metadata": {},
   "outputs": [],
   "source": [
    "#Suppression de 845 données car il nous faut absolument TOUTES les Review Text\n",
    "df_ori.dropna(subset=['Review Text'], inplace=True)\n",
    "# df_ori.isna().sum()"
   ]
  },
  {
   "cell_type": "code",
   "execution_count": 9,
   "id": "d890f1d4",
   "metadata": {},
   "outputs": [],
   "source": [
    "df = df_ori[[\"Review Text\",\"Recommended IND\"]]"
   ]
  },
  {
   "cell_type": "code",
   "execution_count": 10,
   "id": "e6239b47",
   "metadata": {},
   "outputs": [],
   "source": [
    "stop_words = stopwords.words('english')"
   ]
  },
  {
   "cell_type": "code",
   "execution_count": 11,
   "id": "82dc386e",
   "metadata": {},
   "outputs": [],
   "source": [
    "def get_wordnet_pos(tag):\n",
    "    if tag.startswith('J'):\n",
    "        return wn.ADJ\n",
    "    elif tag.startswith('V'):\n",
    "        return wn.VERB\n",
    "    elif tag.startswith('N'):\n",
    "        return wn.NOUN\n",
    "    elif tag.startswith('R'):\n",
    "        return wn.ADV\n",
    "    else:\n",
    "        return wn.NOUN"
   ]
  },
  {
   "cell_type": "code",
   "execution_count": 12,
   "id": "f405f037",
   "metadata": {},
   "outputs": [],
   "source": [
    "def cleaning(data):\n",
    "    \n",
    "    #1. Tokenize\n",
    "    text_tokens = word_tokenize(data.replace(\"'\", \"\").lower()) \n",
    "        \n",
    "    #2. Remove Puncs\n",
    "    tokens_without_punc = [w for w in text_tokens if w.isalpha()]  \n",
    "    \n",
    "    #3. Removing Stopwords\n",
    "    tokens_without_sw = [t for t in tokens_without_punc if t not in stop_words]\n",
    "    \n",
    "    #4. Lemmatize\n",
    "    POS_tagging = pos_tag(tokens_without_sw)\n",
    "    wordnet_pos_tag=[]\n",
    "    wordnet_pos_tag = [(word, get_wordnet_pos(pos_tag)) for (word, pos_tag) in POS_tagging]\n",
    "    wnl = WordNetLemmatizer()\n",
    "    lemma = [wnl.lemmatize(word, tag) for word, tag in wordnet_pos_tag]\n",
    "    \n",
    "    return \" \".join(lemma)"
   ]
  },
  {
   "cell_type": "code",
   "execution_count": 13,
   "id": "94acb500",
   "metadata": {
    "scrolled": true
   },
   "outputs": [
    {
     "name": "stderr",
     "output_type": "stream",
     "text": [
      "<ipython-input-13-a330432e54a3>:1: SettingWithCopyWarning: \n",
      "A value is trying to be set on a copy of a slice from a DataFrame.\n",
      "Try using .loc[row_indexer,col_indexer] = value instead\n",
      "\n",
      "See the caveats in the documentation: https://pandas.pydata.org/pandas-docs/stable/user_guide/indexing.html#returning-a-view-versus-a-copy\n",
      "  df['Document'] = df['Review Text'].apply(cleaning)\n"
     ]
    },
    {
     "data": {
      "text/html": [
       "<div>\n",
       "<style scoped>\n",
       "    .dataframe tbody tr th:only-of-type {\n",
       "        vertical-align: middle;\n",
       "    }\n",
       "\n",
       "    .dataframe tbody tr th {\n",
       "        vertical-align: top;\n",
       "    }\n",
       "\n",
       "    .dataframe thead th {\n",
       "        text-align: right;\n",
       "    }\n",
       "</style>\n",
       "<table border=\"1\" class=\"dataframe\">\n",
       "  <thead>\n",
       "    <tr style=\"text-align: right;\">\n",
       "      <th></th>\n",
       "      <th>Review Text</th>\n",
       "      <th>Recommended IND</th>\n",
       "      <th>Document</th>\n",
       "    </tr>\n",
       "    <tr>\n",
       "      <th>Index</th>\n",
       "      <th></th>\n",
       "      <th></th>\n",
       "      <th></th>\n",
       "    </tr>\n",
       "  </thead>\n",
       "  <tbody>\n",
       "    <tr>\n",
       "      <th>1</th>\n",
       "      <td>Absolutely wonderful - silky and sexy and comf...</td>\n",
       "      <td>1</td>\n",
       "      <td>absolutely wonderful silky sexy comfortable</td>\n",
       "    </tr>\n",
       "    <tr>\n",
       "      <th>2</th>\n",
       "      <td>Love this dress!  it's sooo pretty.  i happene...</td>\n",
       "      <td>1</td>\n",
       "      <td>love dress sooo pretty happen find store im gl...</td>\n",
       "    </tr>\n",
       "    <tr>\n",
       "      <th>3</th>\n",
       "      <td>I had such high hopes for this dress and reall...</td>\n",
       "      <td>0</td>\n",
       "      <td>high hope dress really wanted work initially o...</td>\n",
       "    </tr>\n",
       "    <tr>\n",
       "      <th>4</th>\n",
       "      <td>I love, love, love this jumpsuit. it's fun, fl...</td>\n",
       "      <td>1</td>\n",
       "      <td>love love love jumpsuit fun flirty fabulous ev...</td>\n",
       "    </tr>\n",
       "    <tr>\n",
       "      <th>5</th>\n",
       "      <td>This shirt is very flattering to all due to th...</td>\n",
       "      <td>1</td>\n",
       "      <td>shirt flatter due adjustable front tie perfect...</td>\n",
       "    </tr>\n",
       "    <tr>\n",
       "      <th>...</th>\n",
       "      <td>...</td>\n",
       "      <td>...</td>\n",
       "      <td>...</td>\n",
       "    </tr>\n",
       "    <tr>\n",
       "      <th>23482</th>\n",
       "      <td>I was very happy to snag this dress at such a ...</td>\n",
       "      <td>1</td>\n",
       "      <td>happy snag dress great price easy slip flatter...</td>\n",
       "    </tr>\n",
       "    <tr>\n",
       "      <th>23483</th>\n",
       "      <td>It reminds me of maternity clothes. soft, stre...</td>\n",
       "      <td>1</td>\n",
       "      <td>reminds maternity clothes soft stretchy shiny ...</td>\n",
       "    </tr>\n",
       "    <tr>\n",
       "      <th>23484</th>\n",
       "      <td>This fit well, but the top was very see throug...</td>\n",
       "      <td>0</td>\n",
       "      <td>fit well top see never would work im glad able...</td>\n",
       "    </tr>\n",
       "    <tr>\n",
       "      <th>23485</th>\n",
       "      <td>I bought this dress for a wedding i have this ...</td>\n",
       "      <td>1</td>\n",
       "      <td>buy dress wed summer cute unfortunately fit is...</td>\n",
       "    </tr>\n",
       "    <tr>\n",
       "      <th>23486</th>\n",
       "      <td>This dress in a lovely platinum is feminine an...</td>\n",
       "      <td>1</td>\n",
       "      <td>dress lovely platinum feminine fit perfectly e...</td>\n",
       "    </tr>\n",
       "  </tbody>\n",
       "</table>\n",
       "<p>22641 rows × 3 columns</p>\n",
       "</div>"
      ],
      "text/plain": [
       "                                             Review Text  Recommended IND  \\\n",
       "Index                                                                       \n",
       "1      Absolutely wonderful - silky and sexy and comf...                1   \n",
       "2      Love this dress!  it's sooo pretty.  i happene...                1   \n",
       "3      I had such high hopes for this dress and reall...                0   \n",
       "4      I love, love, love this jumpsuit. it's fun, fl...                1   \n",
       "5      This shirt is very flattering to all due to th...                1   \n",
       "...                                                  ...              ...   \n",
       "23482  I was very happy to snag this dress at such a ...                1   \n",
       "23483  It reminds me of maternity clothes. soft, stre...                1   \n",
       "23484  This fit well, but the top was very see throug...                0   \n",
       "23485  I bought this dress for a wedding i have this ...                1   \n",
       "23486  This dress in a lovely platinum is feminine an...                1   \n",
       "\n",
       "                                                Document  \n",
       "Index                                                     \n",
       "1            absolutely wonderful silky sexy comfortable  \n",
       "2      love dress sooo pretty happen find store im gl...  \n",
       "3      high hope dress really wanted work initially o...  \n",
       "4      love love love jumpsuit fun flirty fabulous ev...  \n",
       "5      shirt flatter due adjustable front tie perfect...  \n",
       "...                                                  ...  \n",
       "23482  happy snag dress great price easy slip flatter...  \n",
       "23483  reminds maternity clothes soft stretchy shiny ...  \n",
       "23484  fit well top see never would work im glad able...  \n",
       "23485  buy dress wed summer cute unfortunately fit is...  \n",
       "23486  dress lovely platinum feminine fit perfectly e...  \n",
       "\n",
       "[22641 rows x 3 columns]"
      ]
     },
     "execution_count": 13,
     "metadata": {},
     "output_type": "execute_result"
    }
   ],
   "source": [
    "df['Document'] = df['Review Text'].apply(cleaning)\n",
    "df"
   ]
  },
  {
   "cell_type": "code",
   "execution_count": 14,
   "id": "f258634f",
   "metadata": {},
   "outputs": [],
   "source": [
    "# df.to_csv('./datasets/df_cleaned.csv')"
   ]
  },
  {
   "cell_type": "markdown",
   "id": "79dda097",
   "metadata": {},
   "source": [
    "# Modèle DL"
   ]
  },
  {
   "cell_type": "code",
   "execution_count": 15,
   "id": "a998e7ad",
   "metadata": {},
   "outputs": [],
   "source": [
    "X = df[\"Document\"].values\n",
    "y = df[\"Recommended IND\"].values"
   ]
  },
  {
   "cell_type": "code",
   "execution_count": 16,
   "id": "7122f589",
   "metadata": {},
   "outputs": [],
   "source": [
    "X_train, X_test, y_train, y_test = train_test_split(X, y, test_size = 0.2, stratify = y, random_state = 101)"
   ]
  },
  {
   "cell_type": "code",
   "execution_count": 18,
   "id": "6db74c2c",
   "metadata": {},
   "outputs": [],
   "source": [
    "#Parametres\n",
    "\n",
    "TOKENIZER_NUM_WORDS = None #None by default\n",
    "SEQUENCE_LENGTH = 300 #None by default\n",
    "\n",
    "# model\n",
    "EPOCHS = 30\n",
    "BATCH_SIZE = 1024"
   ]
  },
  {
   "cell_type": "code",
   "execution_count": null,
   "id": "938e5ab1",
   "metadata": {},
   "outputs": [],
   "source": []
  },
  {
   "cell_type": "code",
   "execution_count": 100,
   "id": "3ee24387",
   "metadata": {},
   "outputs": [],
   "source": [
    "def LSTM_Model(train_x, train_y, neurons=10, optimizer='adam', vocab_size=vocab_size, input_shape=input_shape):\n",
    "    lstm_model = Sequential()\n",
    "    lstm_model.add(InputLayer(input_shape=(input_shape,)))\n",
    "    lstm_model.add(Embedding(vocab_size,SEQUENCE_LENGTH,input_length=input_shape))\n",
    "    lstm_model.add(LSTM(neurons, return_sequences=True)) #return sequences ?\n",
    "    lstm_model.add(Flatten())\n",
    "    lstm_model.add(Dense(1, activation=\"sigmoid\"))\n",
    "    #compile the model\n",
    "    lstm_model.compile(loss=\"binary_crossentropy\",optimizer=optimizer,metrics=[\"accuracy\"])\n",
    "    return lstm_model"
   ]
  },
  {
   "cell_type": "code",
   "execution_count": 23,
   "id": "0a66149d",
   "metadata": {},
   "outputs": [],
   "source": [
    "early_stopping = tf.keras.callbacks.EarlyStopping(monitor='val_loss', min_delta=1e-4, patience=5, restore_best_weights=True)"
   ]
  },
  {
   "cell_type": "markdown",
   "id": "517f124b",
   "metadata": {},
   "source": [
    "# Test RandomUnderSampling"
   ]
  },
  {
   "cell_type": "code",
   "execution_count": 24,
   "id": "efd01713",
   "metadata": {},
   "outputs": [],
   "source": [
    "from imblearn.under_sampling import RandomUnderSampler"
   ]
  },
  {
   "cell_type": "code",
   "execution_count": 35,
   "id": "3a1f2f19",
   "metadata": {},
   "outputs": [],
   "source": [
    "rus = RandomUnderSampler(random_state=42,sampling_strategy=0.6)\n",
    "X_rus, y_rus = rus.fit_resample(X_train.reshape(-1, 1), y_train.reshape(-1, 1))"
   ]
  },
  {
   "cell_type": "code",
   "execution_count": 36,
   "id": "f77239be",
   "metadata": {},
   "outputs": [
    {
     "name": "stderr",
     "output_type": "stream",
     "text": [
      "C:\\Users\\Admin\\Anaconda3\\lib\\site-packages\\seaborn\\_decorators.py:36: FutureWarning: Pass the following variable as a keyword arg: x. From version 0.12, the only valid positional argument will be `data`, and passing other arguments without an explicit keyword will result in an error or misinterpretation.\n",
      "  warnings.warn(\n",
      "C:\\Users\\Admin\\Anaconda3\\lib\\site-packages\\seaborn\\_decorators.py:36: FutureWarning: Pass the following variable as a keyword arg: x. From version 0.12, the only valid positional argument will be `data`, and passing other arguments without an explicit keyword will result in an error or misinterpretation.\n",
      "  warnings.warn(\n"
     ]
    },
    {
     "data": {
      "image/png": "[encoded data removed]",
      "text/plain": [
       "<Figure size 720x576 with 2 Axes>"
      ]
     },
     "metadata": {
      "needs_background": "light"
     },
     "output_type": "display_data"
    }
   ],
   "source": [
    "plt.figure(figsize = (10, 8))\n",
    "plt.subplot(1, 2, 1)\n",
    "sns.countplot(y_train)\n",
    "plt.title('Reparition before RandomUnderSampler')\n",
    "plt.subplot(1, 2, 2)\n",
    "sns.countplot(y_rus)\n",
    "plt.title('Reparition after RandomUnderSampler')\n",
    "plt.show()"
   ]
  },
  {
   "cell_type": "markdown",
   "id": "4e8d1733",
   "metadata": {},
   "source": [
    "AVEC MODELE"
   ]
  },
  {
   "cell_type": "code",
   "execution_count": 54,
   "id": "07e3fe8f",
   "metadata": {},
   "outputs": [],
   "source": [
    "#Reshape en tableau pour passer dans le tokenizer\n",
    "X_train_rus = X_rus.reshape(-1)\n",
    "y_train_rus = y_rus.reshape(-1)"
   ]
  },
  {
   "cell_type": "code",
   "execution_count": 50,
   "id": "fb8eeb72",
   "metadata": {},
   "outputs": [
    {
     "name": "stdout",
     "output_type": "stream",
     "text": [
      "Total words 7532\n",
      "Wall time: 436 ms\n"
     ]
    }
   ],
   "source": [
    "%%time\n",
    "\n",
    "#Tokenize\n",
    "\n",
    "tokenizer = Tokenizer(num_words=TOKENIZER_NUM_WORDS)\n",
    "tokenizer.fit_on_texts(X_train_rus)\n",
    "\n",
    "vocab_size = len(tokenizer.word_index) + 1\n",
    "print(\"Total words\", vocab_size)"
   ]
  },
  {
   "cell_type": "code",
   "execution_count": 52,
   "id": "9c811994",
   "metadata": {},
   "outputs": [
    {
     "name": "stdout",
     "output_type": "stream",
     "text": [
      "Wall time: 824 ms\n"
     ]
    }
   ],
   "source": [
    "%%time\n",
    "X_train_padseq_rus = pad_sequences(tokenizer.texts_to_sequences(X_train_rus), maxlen=SEQUENCE_LENGTH)\n",
    "X_test_padseq = pad_sequences(tokenizer.texts_to_sequences(X_test), maxlen=SEQUENCE_LENGTH)\n",
    "\n",
    "input_shape = X_train_padseq_rus.shape[1]"
   ]
  },
  {
   "cell_type": "code",
   "execution_count": 60,
   "id": "e1c6d494",
   "metadata": {},
   "outputs": [],
   "source": [
    "lstm_model = LSTM_Model(train_x=X_train_padseq_rus,train_y=y_train_rus,vocab_size=vocab_size, input_shape=input_shape)"
   ]
  },
  {
   "cell_type": "code",
   "execution_count": 84,
   "id": "affbf463",
   "metadata": {
    "scrolled": true
   },
   "outputs": [
    {
     "name": "stdout",
     "output_type": "stream",
     "text": [
      "Epoch 1/30\n",
      "6/6 [==============================] - 14s 2s/step - loss: 0.1019 - accuracy: 0.9683 - val_loss: 0.7206 - val_accuracy: 0.7802\n",
      "Epoch 2/30\n",
      "6/6 [==============================] - 13s 2s/step - loss: 0.0910 - accuracy: 0.9722 - val_loss: 0.7687 - val_accuracy: 0.7775\n",
      "Epoch 3/30\n",
      "6/6 [==============================] - 13s 2s/step - loss: 0.0808 - accuracy: 0.9768 - val_loss: 0.7578 - val_accuracy: 0.7909\n",
      "Epoch 4/30\n",
      "6/6 [==============================] - 13s 2s/step - loss: 0.0729 - accuracy: 0.9811 - val_loss: 0.8882 - val_accuracy: 0.7653\n",
      "Epoch 5/30\n",
      "6/6 [==============================] - 13s 2s/step - loss: 0.0648 - accuracy: 0.9843 - val_loss: 0.9212 - val_accuracy: 0.7714\n",
      "Epoch 6/30\n",
      "6/6 [==============================] - 13s 2s/step - loss: 0.0592 - accuracy: 0.9860 - val_loss: 0.8880 - val_accuracy: 0.7863\n",
      "Wall time: 1min 19s\n"
     ]
    }
   ],
   "source": [
    "%%time\n",
    "history = lstm_model.fit(X_train_padseq_rus, y_train_rus,\n",
    "                    batch_size=BATCH_SIZE,\n",
    "                    epochs=EPOCHS,\n",
    "                    validation_split=0.3,\n",
    "                    callbacks=[early_stopping])"
   ]
  },
  {
   "cell_type": "code",
   "execution_count": 85,
   "id": "34213bca",
   "metadata": {},
   "outputs": [
    {
     "data": {
      "image/png": "[encoded data removed]",
      "text/plain": [
       "<Figure size 720x360 with 1 Axes>"
      ]
     },
     "metadata": {
      "needs_background": "light"
     },
     "output_type": "display_data"
    },
    {
     "data": {
      "image/png": "[encoded data removed]",
      "text/plain": [
       "<Figure size 720x360 with 1 Axes>"
      ]
     },
     "metadata": {
      "needs_background": "light"
     },
     "output_type": "display_data"
    }
   ],
   "source": [
    "plt.figure(figsize=(10,5))\n",
    "\n",
    "# summarize history for mae\n",
    "plt.plot(history.history['accuracy'])\n",
    "plt.plot(history.history['val_accuracy'])\n",
    "plt.title('Learning Curve')\n",
    "plt.ylabel('Accuracy')\n",
    "plt.xlabel('epoch')\n",
    "plt.legend(['train', 'validation'], loc='upper left')\n",
    "plt.show()\n",
    "\n",
    "# summarize history for loss\n",
    "plt.figure(figsize=(10,5))\n",
    "plt.plot(history.history['loss'])\n",
    "plt.plot(history.history['val_loss'])\n",
    "plt.title('model loss')\n",
    "plt.ylabel('loss')\n",
    "plt.xlabel('epoch')\n",
    "plt.legend(['train', 'validation'], loc='upper left')\n",
    "plt.show()"
   ]
  },
  {
   "cell_type": "markdown",
   "id": "271d334c",
   "metadata": {},
   "source": [
    "##### Prediction"
   ]
  },
  {
   "cell_type": "code",
   "execution_count": 86,
   "id": "5f1fa1ea",
   "metadata": {},
   "outputs": [],
   "source": [
    "pred_train_lstm_rus = lstm_model.predict(X_train_padseq_rus)\n",
    "pred_test_lstm = lstm_model.predict(X_test_padseq)"
   ]
  },
  {
   "cell_type": "code",
   "execution_count": 87,
   "id": "9d7ce59b",
   "metadata": {},
   "outputs": [
    {
     "data": {
      "image/png": "[encoded data removed]",
      "text/plain": [
       "<Figure size 1080x576 with 2 Axes>"
      ]
     },
     "metadata": {
      "needs_background": "light"
     },
     "output_type": "display_data"
    }
   ],
   "source": [
    "for i, x in enumerate(pred_test_lstm):\n",
    "    if 0 <= x < 0.49:\n",
    "        pred_test_lstm[i] = 0\n",
    "    else:\n",
    "        pred_test_lstm[i] = 1\n",
    "\n",
    "for i, x in enumerate(pred_train_lstm_rus):\n",
    "    if 0 <= x < 0.49:\n",
    "        pred_train_lstm_rus[i] = 0\n",
    "    else:\n",
    "        pred_train_lstm_rus[i] = 1\n",
    "\n",
    "conf_mat = confusion_matrix(y_true=y_test, y_pred=pred_test_lstm)\n",
    "plt.figure(figsize=(15, 8))\n",
    "sns.heatmap(conf_mat, annot=True, fmt='g')\n",
    "plt.title('Confusion Matrix of the Test Data', fontsize=14)\n",
    "plt.ylabel('Real Class', fontsize=12)\n",
    "plt.xlabel('Predicted Class', fontsize=12)\n",
    "plt.show()"
   ]
  },
  {
   "cell_type": "code",
   "execution_count": 88,
   "id": "7b6e4a8b",
   "metadata": {},
   "outputs": [
    {
     "name": "stdout",
     "output_type": "stream",
     "text": [
      "              precision    recall  f1-score   support\n",
      "\n",
      "           0       0.47      0.82      0.60       820\n",
      "           1       0.95      0.80      0.87      3709\n",
      "\n",
      "    accuracy                           0.80      4529\n",
      "   macro avg       0.71      0.81      0.73      4529\n",
      "weighted avg       0.86      0.80      0.82      4529\n",
      "\n"
     ]
    }
   ],
   "source": [
    "print(classification_report(y_test, pred_test_lstm))"
   ]
  },
  {
   "cell_type": "markdown",
   "id": "530fb5bf",
   "metadata": {},
   "source": [
    "# SMOTE"
   ]
  },
  {
   "cell_type": "code",
   "execution_count": 89,
   "id": "99987fa9",
   "metadata": {},
   "outputs": [],
   "source": [
    "from imblearn.over_sampling import SMOTE"
   ]
  },
  {
   "cell_type": "code",
   "execution_count": 92,
   "id": "292d6460",
   "metadata": {},
   "outputs": [
    {
     "name": "stdout",
     "output_type": "stream",
     "text": [
      "Total words 10207\n",
      "Wall time: 1 s\n"
     ]
    }
   ],
   "source": [
    "%%time\n",
    "\n",
    "#Tokenize\n",
    "\n",
    "tokenizer2 = Tokenizer(num_words=TOKENIZER_NUM_WORDS)\n",
    "tokenizer2.fit_on_texts(X_train)\n",
    "\n",
    "vocab_size2 = len(tokenizer2.word_index) + 1\n",
    "print(\"Total words\", vocab_size2)"
   ]
  },
  {
   "cell_type": "code",
   "execution_count": 93,
   "id": "2fe0b613",
   "metadata": {},
   "outputs": [
    {
     "name": "stdout",
     "output_type": "stream",
     "text": [
      "Wall time: 1.05 s\n"
     ]
    }
   ],
   "source": [
    "%%time\n",
    "X_train_padseq2 = pad_sequences(tokenizer2.texts_to_sequences(X_train), maxlen=SEQUENCE_LENGTH)\n",
    "X_test_padseq2 = pad_sequences(tokenizer2.texts_to_sequences(X_test), maxlen=SEQUENCE_LENGTH)\n",
    "\n",
    "input_shape2 = X_train_padseq2.shape[1]"
   ]
  },
  {
   "cell_type": "code",
   "execution_count": 95,
   "id": "f40d96ba",
   "metadata": {
    "scrolled": true
   },
   "outputs": [],
   "source": [
    "# smt = SMOTE(sampling_strategy=0.2)\n",
    "smt = SMOTE(sampling_strategy=\"minority\")\n",
    "X_smote, y_smote = smt.fit_resample(X_train_padseq2, y_train)"
   ]
  },
  {
   "cell_type": "code",
   "execution_count": 96,
   "id": "da93cd24",
   "metadata": {},
   "outputs": [
    {
     "name": "stderr",
     "output_type": "stream",
     "text": [
      "C:\\Users\\Admin\\Anaconda3\\lib\\site-packages\\seaborn\\_decorators.py:36: FutureWarning: Pass the following variable as a keyword arg: x. From version 0.12, the only valid positional argument will be `data`, and passing other arguments without an explicit keyword will result in an error or misinterpretation.\n",
      "  warnings.warn(\n",
      "C:\\Users\\Admin\\Anaconda3\\lib\\site-packages\\seaborn\\_decorators.py:36: FutureWarning: Pass the following variable as a keyword arg: x. From version 0.12, the only valid positional argument will be `data`, and passing other arguments without an explicit keyword will result in an error or misinterpretation.\n",
      "  warnings.warn(\n"
     ]
    },
    {
     "data": {
      "image/png": "[encoded data removed]",
      "text/plain": [
       "<Figure size 720x576 with 2 Axes>"
      ]
     },
     "metadata": {
      "needs_background": "light"
     },
     "output_type": "display_data"
    }
   ],
   "source": [
    "plt.figure(figsize = (10, 8))\n",
    "plt.subplot(1, 2, 1)\n",
    "sns.countplot(y_train)\n",
    "plt.title('Reparition before SMOTE')\n",
    "plt.subplot(1, 2, 2)\n",
    "sns.countplot(y_smote)\n",
    "plt.title('Reparition after SMOTE')\n",
    "plt.show()"
   ]
  },
  {
   "cell_type": "markdown",
   "id": "d135cd5b",
   "metadata": {},
   "source": [
    "AVEC MODELE"
   ]
  },
  {
   "cell_type": "code",
   "execution_count": 101,
   "id": "2161a19d",
   "metadata": {},
   "outputs": [],
   "source": [
    "lstm_model2 = LSTM_Model(train_x=X_smote,train_y=y_smote, vocab_size=vocab_size2, input_shape=input_shape2)"
   ]
  },
  {
   "cell_type": "code",
   "execution_count": 125,
   "id": "eb67873e",
   "metadata": {},
   "outputs": [],
   "source": [
    "#Parametres\n",
    "\n",
    "# model\n",
    "EPOCHS = 30\n"
   ]
  },
  {
   "cell_type": "code",
   "execution_count": 126,
   "id": "9b33f915",
   "metadata": {
    "scrolled": true
   },
   "outputs": [
    {
     "name": "stdout",
     "output_type": "stream",
     "text": [
      "Epoch 1/30\n",
      "21/21 [==============================] - 44s 2s/step - loss: 0.0860 - accuracy: 0.9689 - val_loss: 1.6723 - val_accuracy: 0.6074\n",
      "Epoch 2/30\n",
      "21/21 [==============================] - 43s 2s/step - loss: 0.0784 - accuracy: 0.9718 - val_loss: 1.8946 - val_accuracy: 0.5922\n",
      "Epoch 3/30\n",
      "21/21 [==============================] - 44s 2s/step - loss: 0.0694 - accuracy: 0.9750 - val_loss: 1.6069 - val_accuracy: 0.6343\n",
      "Epoch 4/30\n",
      "21/21 [==============================] - 44s 2s/step - loss: 0.0676 - accuracy: 0.9760 - val_loss: 2.2919 - val_accuracy: 0.5443\n",
      "Epoch 5/30\n",
      "21/21 [==============================] - 44s 2s/step - loss: 0.0690 - accuracy: 0.9748 - val_loss: 1.6923 - val_accuracy: 0.6443\n",
      "Epoch 6/30\n",
      "21/21 [==============================] - 44s 2s/step - loss: 0.0643 - accuracy: 0.9772 - val_loss: 2.2233 - val_accuracy: 0.5709\n",
      "Epoch 7/30\n",
      "21/21 [==============================] - 46s 2s/step - loss: 0.0562 - accuracy: 0.9801 - val_loss: 2.1749 - val_accuracy: 0.5850\n",
      "Epoch 8/30\n",
      "21/21 [==============================] - 44s 2s/step - loss: 0.0506 - accuracy: 0.9828 - val_loss: 1.8648 - val_accuracy: 0.6450\n",
      "Epoch 9/30\n",
      "21/21 [==============================] - 46s 2s/step - loss: 0.0447 - accuracy: 0.9848 - val_loss: 2.3260 - val_accuracy: 0.5958\n",
      "Epoch 10/30\n",
      "21/21 [==============================] - 46s 2s/step - loss: 0.0406 - accuracy: 0.9871 - val_loss: 2.2764 - val_accuracy: 0.6175\n",
      "Epoch 11/30\n",
      "21/21 [==============================] - 44s 2s/step - loss: 0.0387 - accuracy: 0.9874 - val_loss: 2.0002 - val_accuracy: 0.6609\n",
      "Epoch 12/30\n",
      "21/21 [==============================] - 45s 2s/step - loss: 0.0442 - accuracy: 0.9856 - val_loss: 2.5407 - val_accuracy: 0.5805\n",
      "Epoch 13/30\n",
      "21/21 [==============================] - 45s 2s/step - loss: 0.0439 - accuracy: 0.9852 - val_loss: 2.1331 - val_accuracy: 0.6345\n",
      "Epoch 14/30\n",
      "21/21 [==============================] - 45s 2s/step - loss: 0.0390 - accuracy: 0.9877 - val_loss: 2.2160 - val_accuracy: 0.6264\n",
      "Epoch 15/30\n",
      "21/21 [==============================] - 47s 2s/step - loss: 0.0343 - accuracy: 0.9891 - val_loss: 2.1425 - val_accuracy: 0.6348\n",
      "Epoch 16/30\n",
      "21/21 [==============================] - 47s 2s/step - loss: 0.0327 - accuracy: 0.9899 - val_loss: 3.1230 - val_accuracy: 0.5359\n",
      "Epoch 17/30\n",
      "21/21 [==============================] - 47s 2s/step - loss: 0.0379 - accuracy: 0.9875 - val_loss: 2.3767 - val_accuracy: 0.6210\n",
      "Epoch 18/30\n",
      "21/21 [==============================] - 50s 2s/step - loss: 0.0321 - accuracy: 0.9894 - val_loss: 2.2830 - val_accuracy: 0.6401\n",
      "Epoch 19/30\n",
      "21/21 [==============================] - 44s 2s/step - loss: 0.0333 - accuracy: 0.9893 - val_loss: 2.2429 - val_accuracy: 0.6406\n",
      "Epoch 20/30\n",
      "21/21 [==============================] - 45s 2s/step - loss: 0.0278 - accuracy: 0.9912 - val_loss: 2.7781 - val_accuracy: 0.5879\n",
      "Epoch 21/30\n",
      "21/21 [==============================] - 45s 2s/step - loss: 0.0248 - accuracy: 0.9928 - val_loss: 2.6215 - val_accuracy: 0.6173\n",
      "Epoch 22/30\n",
      "21/21 [==============================] - 45s 2s/step - loss: 0.0262 - accuracy: 0.9917 - val_loss: 2.9287 - val_accuracy: 0.5819\n",
      "Epoch 23/30\n",
      "21/21 [==============================] - 47s 2s/step - loss: 0.0275 - accuracy: 0.9919 - val_loss: 2.7590 - val_accuracy: 0.6075\n",
      "Epoch 24/30\n",
      "21/21 [==============================] - 45s 2s/step - loss: 0.0246 - accuracy: 0.9925 - val_loss: 2.5338 - val_accuracy: 0.6182\n",
      "Epoch 25/30\n",
      "21/21 [==============================] - 46s 2s/step - loss: 0.0216 - accuracy: 0.9937 - val_loss: 2.3628 - val_accuracy: 0.6516\n",
      "Epoch 26/30\n",
      "21/21 [==============================] - 47s 2s/step - loss: 0.0191 - accuracy: 0.9948 - val_loss: 2.7490 - val_accuracy: 0.6186\n",
      "Epoch 27/30\n",
      "21/21 [==============================] - 46s 2s/step - loss: 0.0173 - accuracy: 0.9954 - val_loss: 2.7754 - val_accuracy: 0.6129\n",
      "Epoch 28/30\n",
      "21/21 [==============================] - 46s 2s/step - loss: 0.0154 - accuracy: 0.9961 - val_loss: 2.6947 - val_accuracy: 0.6369\n",
      "Epoch 29/30\n",
      "21/21 [==============================] - 44s 2s/step - loss: 0.0135 - accuracy: 0.9966 - val_loss: 2.7791 - val_accuracy: 0.6301\n",
      "Epoch 30/30\n",
      "21/21 [==============================] - 45s 2s/step - loss: 0.0123 - accuracy: 0.9972 - val_loss: 2.9154 - val_accuracy: 0.6267\n",
      "Wall time: 22min 41s\n"
     ]
    }
   ],
   "source": [
    "%%time\n",
    "history2 = lstm_model2.fit(X_smote, y_smote,\n",
    "                    batch_size=BATCH_SIZE,\n",
    "                    epochs=EPOCHS,\n",
    "                    validation_split=0.3,\n",
    "                    callbacks=[early_stopping])"
   ]
  },
  {
   "cell_type": "code",
   "execution_count": 127,
   "id": "22bb58bf",
   "metadata": {},
   "outputs": [
    {
     "data": {
      "image/png": "[encoded data removed]",
      "text/plain": [
       "<Figure size 720x360 with 1 Axes>"
      ]
     },
     "metadata": {
      "needs_background": "light"
     },
     "output_type": "display_data"
    },
    {
     "data": {
      "image/png": "[encoded data removed]",
      "text/plain": [
       "<Figure size 720x360 with 1 Axes>"
      ]
     },
     "metadata": {
      "needs_background": "light"
     },
     "output_type": "display_data"
    }
   ],
   "source": [
    "plt.figure(figsize=(10,5))\n",
    "\n",
    "# summarize history for mae\n",
    "plt.plot(history2.history['accuracy'])\n",
    "plt.plot(history2.history['val_accuracy'])\n",
    "plt.title('Learning Curve')\n",
    "plt.ylabel('Accuracy')\n",
    "plt.xlabel('epoch')\n",
    "plt.legend(['train', 'validation'], loc='upper left')\n",
    "plt.show()\n",
    "\n",
    "# summarize history for loss\n",
    "plt.figure(figsize=(10,5))\n",
    "plt.plot(history2.history['loss'])\n",
    "plt.plot(history2.history['val_loss'])\n",
    "plt.title('model loss')\n",
    "plt.ylabel('loss')\n",
    "plt.xlabel('epoch')\n",
    "plt.legend(['train', 'validation'], loc='upper left')\n",
    "plt.show()"
   ]
  },
  {
   "cell_type": "markdown",
   "id": "79d15db7",
   "metadata": {},
   "source": [
    "##### Prediction"
   ]
  },
  {
   "cell_type": "code",
   "execution_count": 128,
   "id": "4f550fdb",
   "metadata": {},
   "outputs": [],
   "source": [
    "pred_train_lstm2 = lstm_model2.predict(X_smote)\n",
    "pred_test_lstm2 = lstm_model2.predict(X_test_padseq2)"
   ]
  },
  {
   "cell_type": "code",
   "execution_count": 129,
   "id": "73bce21a",
   "metadata": {},
   "outputs": [
    {
     "data": {
      "image/png": "[encoded data removed]",
      "text/plain": [
       "<Figure size 1080x576 with 2 Axes>"
      ]
     },
     "metadata": {
      "needs_background": "light"
     },
     "output_type": "display_data"
    }
   ],
   "source": [
    "for i, x in enumerate(pred_test_lstm2):\n",
    "    if 0 <= x < 0.49:\n",
    "        pred_test_lstm2[i] = 0\n",
    "    else:\n",
    "        pred_test_lstm2[i] = 1\n",
    "\n",
    "for i, x in enumerate(pred_train_lstm2):\n",
    "    if 0 <= x < 0.49:\n",
    "        pred_train_lstm2[i] = 0\n",
    "    else:\n",
    "        pred_train_lstm2[i] = 1\n",
    "\n",
    "conf_mat = confusion_matrix(y_true=y_test, y_pred=pred_test_lstm2)\n",
    "plt.figure(figsize=(15, 8))\n",
    "sns.heatmap(conf_mat, annot=True, fmt='g')\n",
    "plt.title('Confusion Matrix of the Test Data', fontsize=14)\n",
    "plt.ylabel('Real Class', fontsize=12)\n",
    "plt.xlabel('Predicted Class', fontsize=12)\n",
    "plt.show()"
   ]
  },
  {
   "cell_type": "code",
   "execution_count": 130,
   "id": "3f8d2ae7",
   "metadata": {},
   "outputs": [
    {
     "name": "stdout",
     "output_type": "stream",
     "text": [
      "              precision    recall  f1-score   support\n",
      "\n",
      "           0       0.48      0.59      0.53       820\n",
      "           1       0.90      0.86      0.88      3709\n",
      "\n",
      "    accuracy                           0.81      4529\n",
      "   macro avg       0.69      0.72      0.70      4529\n",
      "weighted avg       0.83      0.81      0.82      4529\n",
      "\n"
     ]
    }
   ],
   "source": [
    "print(classification_report(y_test, pred_test_lstm2))"
   ]
  },
  {
   "cell_type": "code",
   "execution_count": null,
   "id": "b0adf853",
   "metadata": {},
   "outputs": [],
   "source": []
  }
 ],
 "metadata": {
  "kernelspec": {
   "display_name": "Python 3",
   "language": "python",
   "name": "python3"
  },
  "language_info": {
   "codemirror_mode": {
    "name": "ipython",
    "version": 3
   },
   "file_extension": ".py",
   "mimetype": "text/x-python",
   "name": "python",
   "nbconvert_exporter": "python",
   "pygments_lexer": "ipython3",
   "version": "3.8.8"
  }
 },
 "nbformat": 4,
 "nbformat_minor": 5
}
